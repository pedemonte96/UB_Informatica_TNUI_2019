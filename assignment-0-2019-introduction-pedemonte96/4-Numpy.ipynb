{
 "cells": [
  {
   "cell_type": "markdown",
   "metadata": {},
   "source": [
    "# Numpy\n",
    "\n",
    "En l'anterior notebook hem vist la dificultat de fer operacions matemàtiques en Python, com podem simplificar-ho i operar amb vectors o inclús matrius? La resposta és la llibreria Numpy"
   ]
  },
  {
   "cell_type": "code",
   "execution_count": 1,
   "metadata": {},
   "outputs": [],
   "source": [
    "import numpy as np"
   ]
  },
  {
   "cell_type": "markdown",
   "metadata": {},
   "source": [
    "Tornem a l'exemple anterior, com calcular $z = x + y$ on $x=(1, 2, 3), y=(2, 3, 4)$?"
   ]
  },
  {
   "cell_type": "code",
   "execution_count": 4,
   "metadata": {},
   "outputs": [
    {
     "data": {
      "text/plain": [
       "array([2, 3, 4])"
      ]
     },
     "execution_count": 4,
     "metadata": {},
     "output_type": "execute_result"
    }
   ],
   "source": [
    "# Necessitem convertir les llistes de python a elements de numpy\n",
    "x = [1, 2, 3]\n",
    "y = [2, 3, 4]\n",
    "\n",
    "x = np.array(x)\n",
    "y = np.asarray(y)\n",
    "\n",
    "# Inspeccionem que és ara x\n",
    "x\n",
    "y"
   ]
  },
  {
   "cell_type": "code",
   "execution_count": 3,
   "metadata": {},
   "outputs": [
    {
     "data": {
      "text/plain": [
       "array([3, 5, 7])"
      ]
     },
     "execution_count": 3,
     "metadata": {},
     "output_type": "execute_result"
    }
   ],
   "source": [
    "# A partir d'ara, podem operar amb aquestes \"x\" i \"y\" com si fossin vectors matemàtics\n",
    "\n",
    "z = x + y\n",
    "z"
   ]
  },
  {
   "cell_type": "markdown",
   "metadata": {},
   "source": [
    "## Vectors i matrius (arrays i arrays ndimensionals)"
   ]
  },
  {
   "cell_type": "markdown",
   "metadata": {},
   "source": [
    "Existeixen diferents formes de crear elements en numpy:\n",
    "    \n",
    "* Vectors a partir de llistes de python\n",
    "* Vectors directament des de numpy\n",
    "* Matrius a partir de llistes de llistes\n",
    "* Matrius amb numpy"
   ]
  },
  {
   "cell_type": "code",
   "execution_count": 5,
   "metadata": {
    "scrolled": true
   },
   "outputs": [
    {
     "name": "stdout",
     "output_type": "stream",
     "text": [
      "[1 2 3]\n",
      "[0. 0. 0. 0. 0. 0. 0. 0.]\n",
      "[7. 7. 7. 7. 7.]\n"
     ]
    }
   ],
   "source": [
    "# Abans hem vist la creació a partir d'una llista de python\n",
    "# _Les dues són equivalents_\n",
    "vector = np.asarray([1, 2, 3])\n",
    "vector = np.array([1, 2, 3])\n",
    "print(vector)\n",
    "\n",
    "# També es pot crear directament vectors de 0's o 1's\n",
    "# Per exemple, un vector de 8 0's\n",
    "zeros = np.zeros(8)\n",
    "print(zeros)\n",
    "\n",
    "# Un vector de 5 0's\n",
    "ones = np.ones(5)*7\n",
    "print(ones)"
   ]
  },
  {
   "cell_type": "markdown",
   "metadata": {},
   "source": [
    "Fixa't que per defecte numpy crea vectors de tipus `float` quan es fa servir `ones` o `zeros`, amb la quantitat que li indiquem.\n",
    "\n",
    "D'altra banda, si li donem una llista de python, infereix el tipus d'aquesta. Per exemple, abans la llista contenia enters, i per tant ha utilitzat el tipus `int`.\n",
    "\n",
    "Que passaria en aquest cas?"
   ]
  },
  {
   "cell_type": "code",
   "execution_count": 6,
   "metadata": {},
   "outputs": [
    {
     "data": {
      "text/plain": [
       "array([1., 2.])"
      ]
     },
     "execution_count": 6,
     "metadata": {},
     "output_type": "execute_result"
    }
   ],
   "source": [
    "np.asarray([1, 2.0])"
   ]
  },
  {
   "cell_type": "markdown",
   "metadata": {},
   "source": [
    "Si hi ha tipus barrejats, com ara `int` i `float`, numpy escull sempre el tipus flotant. Podem, però, indicar un tipus diferent:"
   ]
  },
  {
   "cell_type": "code",
   "execution_count": 7,
   "metadata": {},
   "outputs": [
    {
     "name": "stdout",
     "output_type": "stream",
     "text": [
      "Per defecte\n",
      "[   1.     2.5    3.6  256.    -1.  -256. ]\n",
      "\n",
      "Flotants\n",
      "[   1.     2.5    3.6  256.    -1.  -256. ]\n",
      "[   1.     2.5    3.6  256.    -1.  -256. ]\n",
      "[   1.     2.5    3.6  256.    -1.  -256. ]\n",
      "\n",
      "Enters\n",
      "[   1    2    3  256   -1 -256]\n",
      "[   1    2    3  256   -1 -256]\n",
      "[         1          2          3        256 4294967295 4294967040]\n",
      "[ 1  2  3  0 -1  0]\n",
      "[  1   2   3   0 255   0]\n"
     ]
    }
   ],
   "source": [
    "print('Per defecte')\n",
    "print(np.asarray([1.0, 2.5, 3.6, 256, -1, -256]))\n",
    "\n",
    "print('\\nFlotants')\n",
    "print(np.asarray([1.0, 2.5, 3.6, 256, -1, -256], dtype=float))\n",
    "print(np.asarray([1.0, 2.5, 3.6, 256, -1, -256], dtype=np.float32))\n",
    "print(np.asarray([1.0, 2.5, 3.6, 256, -1, -256], dtype=np.float64))\n",
    "\n",
    "print('\\nEnters')\n",
    "print(np.asarray([1.0, 2.5, 3.6, 256, -1, -256], dtype=int))\n",
    "print(np.asarray([1.0, 2.5, 3.6, 256, -1, -256], dtype=np.int32))\n",
    "print(np.asarray([1.0, 2.5, 3.6, 256, -1, -256], dtype=np.uint32))\n",
    "print(np.asarray([1.0, 2.5, 3.6, 256, -1, -256], dtype=np.int8))\n",
    "print(np.asarray([1.0, 2.5, 3.6, 256, -1, -256], dtype=np.uint8))"
   ]
  },
  {
   "cell_type": "code",
   "execution_count": 8,
   "metadata": {},
   "outputs": [
    {
     "name": "stdout",
     "output_type": "stream",
     "text": [
      "[1. 2. 3.]\n",
      "float64\n",
      "[1 2 3]\n",
      "int32\n"
     ]
    }
   ],
   "source": [
    "# En qualsevol moment podem canviar el tipus també\n",
    "vector = np.asarray([1.0, 2.0, 3.0])\n",
    "print(vector)\n",
    "print(vector.dtype)\n",
    "vector = vector.astype(np.int)\n",
    "print(vector)\n",
    "print(vector.dtype)"
   ]
  },
  {
   "cell_type": "markdown",
   "metadata": {},
   "source": [
    "També podem crear matrius:"
   ]
  },
  {
   "cell_type": "code",
   "execution_count": 11,
   "metadata": {},
   "outputs": [
    {
     "data": {
      "text/plain": [
       "array([[[1., 1.],\n",
       "        [1., 1.],\n",
       "        [1., 1.],\n",
       "        [1., 1.]],\n",
       "\n",
       "       [[1., 1.],\n",
       "        [1., 1.],\n",
       "        [1., 1.],\n",
       "        [1., 1.]],\n",
       "\n",
       "       [[1., 1.],\n",
       "        [1., 1.],\n",
       "        [1., 1.],\n",
       "        [1., 1.]]])"
      ]
     },
     "execution_count": 11,
     "metadata": {},
     "output_type": "execute_result"
    }
   ],
   "source": [
    "np.ones((3, 4,2))"
   ]
  },
  {
   "cell_type": "code",
   "execution_count": 12,
   "metadata": {},
   "outputs": [
    {
     "data": {
      "text/plain": [
       "array([[0., 0., 0., 0., 0., 0., 0.],\n",
       "       [0., 0., 0., 0., 0., 0., 0.]])"
      ]
     },
     "execution_count": 12,
     "metadata": {},
     "output_type": "execute_result"
    }
   ],
   "source": [
    "np.zeros((2, 7))"
   ]
  },
  {
   "cell_type": "code",
   "execution_count": 13,
   "metadata": {},
   "outputs": [
    {
     "data": {
      "text/plain": [
       "array([[  1,   2,   3,   4],\n",
       "       [ 10,  20,  30,  40],\n",
       "       [100, 200, 300, 400]])"
      ]
     },
     "execution_count": 13,
     "metadata": {},
     "output_type": "execute_result"
    }
   ],
   "source": [
    "np.asarray([\n",
    "    [1, 2, 3, 4],\n",
    "    [10, 20, 30, 40],\n",
    "    [100, 200, 300, 400]\n",
    "])"
   ]
  },
  {
   "cell_type": "markdown",
   "metadata": {},
   "source": [
    "I podem crear matrius a partir de les dimensions d'una altra matriu"
   ]
  },
  {
   "cell_type": "code",
   "execution_count": 14,
   "metadata": {},
   "outputs": [
    {
     "name": "stdout",
     "output_type": "stream",
     "text": [
      "(5, 4)\n"
     ]
    }
   ],
   "source": [
    "matriu_1 = np.ones((5, 4)) # Creem una matriu 5x4\n",
    "print(matriu_1.shape)"
   ]
  },
  {
   "cell_type": "code",
   "execution_count": 15,
   "metadata": {},
   "outputs": [
    {
     "name": "stdout",
     "output_type": "stream",
     "text": [
      "(5, 4)\n"
     ]
    }
   ],
   "source": [
    "matriu_2 = np.zeros_like(matriu_1) # Creem la matriu_2 a partir de la forma de la 1\n",
    "print(matriu_2.shape)"
   ]
  },
  {
   "cell_type": "markdown",
   "metadata": {},
   "source": [
    "També podem manipular la forma"
   ]
  },
  {
   "cell_type": "code",
   "execution_count": 16,
   "metadata": {},
   "outputs": [
    {
     "name": "stdout",
     "output_type": "stream",
     "text": [
      "(3, 6)\n",
      "(6, 3)\n",
      "(2, 3, 3)\n"
     ]
    }
   ],
   "source": [
    "mat = np.ones((3, 6))\n",
    "print(mat.shape)\n",
    "mat = mat.reshape((6, 3))\n",
    "print(mat.shape)\n",
    "mat = mat.reshape((2,3,3))\n",
    "print(mat.shape)"
   ]
  },
  {
   "cell_type": "markdown",
   "metadata": {},
   "source": [
    "## Operacions sobre vectors i matrius"
   ]
  },
  {
   "cell_type": "markdown",
   "metadata": {},
   "source": [
    "Com amb les llistes, podem fer operacions de reducció sobre vectors o matrius"
   ]
  },
  {
   "cell_type": "code",
   "execution_count": 17,
   "metadata": {},
   "outputs": [
    {
     "name": "stdout",
     "output_type": "stream",
     "text": [
      "Sum\n",
      "10\n",
      "10\n",
      "\n",
      "Max\n",
      "4\n",
      "4\n",
      "\n",
      "Min\n",
      "1\n",
      "1\n",
      "\n",
      "Prod\n",
      "24\n",
      "24\n"
     ]
    }
   ],
   "source": [
    "vector = np.asarray([1, 2, 3, 4])\n",
    "\n",
    "# És equivalent np.sum(x) i x.sum()\n",
    "print(\"Sum\")\n",
    "print(np.sum(vector))\n",
    "print(vector.sum())\n",
    "\n",
    "print(\"\\nMax\")\n",
    "print(np.max(vector))\n",
    "print(vector.max())\n",
    "\n",
    "print(\"\\nMin\")\n",
    "print(np.min(vector))\n",
    "print(vector.min())\n",
    "\n",
    "print(\"\\nProd\")\n",
    "print(np.prod(vector))\n",
    "print(vector.prod())"
   ]
  },
  {
   "cell_type": "markdown",
   "metadata": {},
   "source": [
    "En el cas de les matrius, les operacions actuen de forma global per defecte, però se'ls hi pot indicar sobre quina dimensió efectuar l'operació:\n",
    "\n",
    "* **Columnes**: dimensió 0\n",
    "* **Files**: dimensió 1"
   ]
  },
  {
   "cell_type": "code",
   "execution_count": 19,
   "metadata": {},
   "outputs": [
    {
     "name": "stdout",
     "output_type": "stream",
     "text": [
      "Sum\n",
      "1110\n",
      "[111 222 333 444]\n",
      "[  10  100 1000]\n"
     ]
    }
   ],
   "source": [
    "# Fem una matriu 3x4\n",
    "matriu = np.asarray([[1, 2, 3, 4], [10, 20, 30, 40], [100, 200, 300, 400]])\n",
    "\n",
    "print(\"Sum\")\n",
    "print(matriu.sum())\n",
    "print(matriu.sum(axis=0))#columna\n",
    "print(matriu.sum(axis=1))#fila\n",
    "\n",
    "# Anàlogament per la resta de les operacions"
   ]
  },
  {
   "cell_type": "markdown",
   "metadata": {},
   "source": [
    "**Atenció**: Eviteu fer servir les funcions de `python` pures!\n",
    "\n",
    "```python\n",
    "# sum(matriu)\n",
    "#    vs\n",
    "np.sum(matriu) # O matriu.sum()\n",
    "```"
   ]
  },
  {
   "cell_type": "markdown",
   "metadata": {},
   "source": [
    "Sempre tenim l'equivalent en Numpy de tot:"
   ]
  },
  {
   "cell_type": "code",
   "execution_count": 20,
   "metadata": {},
   "outputs": [
    {
     "data": {
      "text/plain": [
       "array([[  1,   2,   3,   4],\n",
       "       [ 10,  20,  30,  40],\n",
       "       [100, 200, 300, 400]])"
      ]
     },
     "execution_count": 20,
     "metadata": {},
     "output_type": "execute_result"
    }
   ],
   "source": [
    "np.abs(matriu) # enlloc de abs(matriu)"
   ]
  },
  {
   "cell_type": "markdown",
   "metadata": {},
   "source": [
    "## Indexació"
   ]
  },
  {
   "cell_type": "markdown",
   "metadata": {},
   "source": [
    "Com en Python, fent servir Numpy podem accedir a elements en particular d'un vector o matriu"
   ]
  },
  {
   "cell_type": "code",
   "execution_count": 21,
   "metadata": {},
   "outputs": [
    {
     "data": {
      "text/plain": [
       "[1, 3, 3]"
      ]
     },
     "execution_count": 21,
     "metadata": {},
     "output_type": "execute_result"
    }
   ],
   "source": [
    "llista = [1, 2, 3]\n",
    "llista[-2] = 3\n",
    "llista"
   ]
  },
  {
   "cell_type": "code",
   "execution_count": 22,
   "metadata": {},
   "outputs": [
    {
     "data": {
      "text/plain": [
       "array([1, 2, 3, 4])"
      ]
     },
     "execution_count": 22,
     "metadata": {},
     "output_type": "execute_result"
    }
   ],
   "source": [
    "vector"
   ]
  },
  {
   "cell_type": "code",
   "execution_count": 23,
   "metadata": {},
   "outputs": [
    {
     "name": "stdout",
     "output_type": "stream",
     "text": [
      "1\n",
      "4\n",
      "4\n",
      "[2 3]\n"
     ]
    }
   ],
   "source": [
    "print(vector[0])\n",
    "print(vector[3])\n",
    "print(vector[-1])\n",
    "print(vector[1:3])"
   ]
  },
  {
   "cell_type": "code",
   "execution_count": 24,
   "metadata": {},
   "outputs": [
    {
     "data": {
      "text/plain": [
       "array([[  1,   2,   3,   4],\n",
       "       [ 10,  20,  30,  40],\n",
       "       [100, 200, 300, 400]])"
      ]
     },
     "execution_count": 24,
     "metadata": {},
     "output_type": "execute_result"
    }
   ],
   "source": [
    "matriu"
   ]
  },
  {
   "cell_type": "code",
   "execution_count": 26,
   "metadata": {},
   "outputs": [
    {
     "name": "stdout",
     "output_type": "stream",
     "text": [
      "1\n",
      "2\n",
      "30\n",
      "400\n",
      "\n",
      "[ 1 10]\n",
      "[20 30]\n",
      "[[ 2  3]\n",
      " [20 30]]\n",
      "\n",
      "[10 20]\n",
      "[[10 20]]\n",
      "\n",
      "[ 10 300]\n",
      "[ 10 300]\n"
     ]
    },
    {
     "name": "stderr",
     "output_type": "stream",
     "text": [
      "C:\\Users\\UB\\Anaconda3\\lib\\site-packages\\ipykernel_launcher.py:22: FutureWarning: Using a non-tuple sequence for multidimensional indexing is deprecated; use `arr[tuple(seq)]` instead of `arr[seq]`. In the future this will be interpreted as an array index, `arr[np.array(seq)]`, which will result either in an error or a different result.\n"
     ]
    }
   ],
   "source": [
    "# Un element en concret\n",
    "print(matriu[0, 0]) # Fila 0, Columna 0\n",
    "print(matriu[0, 1]) # Fila 0, Columna 1\n",
    "print(matriu[1, 2]) # Fila 1, Columna 2\n",
    "print(matriu[2, 3]) # Fila 2, Columna 3\n",
    "\n",
    "# Rangs de files i/o columnes\n",
    "print()\n",
    "print(matriu[0:2, 0]) # Files 0 i 1, Columna 0\n",
    "print(matriu[1, 1:3]) # Fila 1, Columnes 1 i 2\n",
    "print(matriu[0:2, 1:3]) # Fila 0 i 1, Columna 1 i 2\n",
    "\n",
    "# Quina diferència hi ha?\n",
    "print()\n",
    "print(matriu[1, 0:2])   # Fila 1, Columnes 0 i 1\n",
    "print(matriu[1:2, 0:2]) # Fila 1, Columnes 0 i 1\n",
    "\n",
    "# Seleccions d'elements múltiples NO IMPORTANT\n",
    "print()\n",
    "print(matriu[[1, 2], [0, 2]]) # Element a (1, 0) i a (2, 2)\n",
    "\n",
    "print(matriu[[(1, 2), (0, 2)]])"
   ]
  },
  {
   "cell_type": "markdown",
   "metadata": {},
   "source": [
    "## NUMPY FA VISTES, NO CÒPIES!"
   ]
  },
  {
   "cell_type": "code",
   "execution_count": 27,
   "metadata": {},
   "outputs": [
    {
     "data": {
      "text/plain": [
       "array([[ 20,  30],\n",
       "       [200, 300]])"
      ]
     },
     "execution_count": 27,
     "metadata": {},
     "output_type": "execute_result"
    }
   ],
   "source": [
    "matriu = np.asarray([[1, 2, 3, 4], [10, 20, 30, 40], [100, 200, 300, 400]])\n",
    "submatriu = matriu[1:3, 1:3]\n",
    "submatriu"
   ]
  },
  {
   "cell_type": "code",
   "execution_count": 28,
   "metadata": {},
   "outputs": [],
   "source": [
    "submatriu[1, 1] = 0"
   ]
  },
  {
   "cell_type": "code",
   "execution_count": 29,
   "metadata": {},
   "outputs": [
    {
     "data": {
      "text/plain": [
       "array([[  1,   2,   3,   4],\n",
       "       [ 10,  20,  30,  40],\n",
       "       [100, 200,   0, 400]])"
      ]
     },
     "execution_count": 29,
     "metadata": {},
     "output_type": "execute_result"
    }
   ],
   "source": [
    "matriu"
   ]
  },
  {
   "cell_type": "markdown",
   "metadata": {},
   "source": [
    "També podem fer còpies si volem"
   ]
  },
  {
   "cell_type": "code",
   "execution_count": 30,
   "metadata": {},
   "outputs": [
    {
     "data": {
      "text/plain": [
       "array([[  1,   2,   3,   4],\n",
       "       [ 10,  20,  30,  40],\n",
       "       [100, 200, 300, 400]])"
      ]
     },
     "execution_count": 30,
     "metadata": {},
     "output_type": "execute_result"
    }
   ],
   "source": [
    "matriu = np.asarray([[1, 2, 3, 4], [10, 20, 30, 40], [100, 200, 300, 400]])\n",
    "submatriu = matriu[1:3, 1:3]\n",
    "submatriu = submatriu.copy()\n",
    "submatriu[1, 1] = 0\n",
    "matriu"
   ]
  },
  {
   "cell_type": "markdown",
   "metadata": {},
   "source": [
    "## Indexació booleana\n",
    "\n",
    "Suposa que volem sobreescriure tots els elements negatius d'una matriu per 0, ho podem aconseguir amb indexació booleana"
   ]
  },
  {
   "cell_type": "code",
   "execution_count": 31,
   "metadata": {},
   "outputs": [
    {
     "data": {
      "text/plain": [
       "array([[ 0.32116509, -0.11088703,  0.77023208,  0.66359716],\n",
       "       [ 0.81476819, -0.34829164, -0.87544186,  0.96127327],\n",
       "       [-0.50239004, -0.20446305,  0.0154811 , -0.40925907]])"
      ]
     },
     "execution_count": 31,
     "metadata": {},
     "output_type": "execute_result"
    }
   ],
   "source": [
    "exemple = np.random.uniform(-1, 1, size=(3, 4))\n",
    "exemple"
   ]
  },
  {
   "cell_type": "code",
   "execution_count": 32,
   "metadata": {},
   "outputs": [
    {
     "data": {
      "text/plain": [
       "array([[False,  True, False, False],\n",
       "       [False,  True,  True, False],\n",
       "       [ True,  True, False,  True]])"
      ]
     },
     "execution_count": 32,
     "metadata": {},
     "output_type": "execute_result"
    }
   ],
   "source": [
    "# 1. Trobem els elements negatius\n",
    "negatius = exemple < 0\n",
    "negatius"
   ]
  },
  {
   "cell_type": "markdown",
   "metadata": {},
   "source": [
    "Ara, podem fer servir aquesta matriu `negatius` com a índexs. Numpy \"seleccionarà\" únicament aquelles posicions on hi hagi un `True`"
   ]
  },
  {
   "cell_type": "code",
   "execution_count": 33,
   "metadata": {},
   "outputs": [
    {
     "data": {
      "text/plain": [
       "array([-0.11088703, -0.34829164, -0.87544186, -0.50239004, -0.20446305,\n",
       "       -0.40925907])"
      ]
     },
     "execution_count": 33,
     "metadata": {},
     "output_type": "execute_result"
    }
   ],
   "source": [
    "exemple[negatius]"
   ]
  },
  {
   "cell_type": "markdown",
   "metadata": {},
   "source": [
    "I, com que Numpy no fa còpies, podem directament canviar els valors d'aquests elements"
   ]
  },
  {
   "cell_type": "code",
   "execution_count": 34,
   "metadata": {},
   "outputs": [
    {
     "data": {
      "text/plain": [
       "array([[0.32116509, 0.        , 0.77023208, 0.66359716],\n",
       "       [0.81476819, 0.        , 0.        , 0.96127327],\n",
       "       [0.        , 0.        , 0.0154811 , 0.        ]])"
      ]
     },
     "execution_count": 34,
     "metadata": {},
     "output_type": "execute_result"
    }
   ],
   "source": [
    "exemple[exemple < 0] = 0\n",
    "exemple"
   ]
  },
  {
   "cell_type": "markdown",
   "metadata": {},
   "source": [
    "## Operacions element a element\n",
    "\n",
    "Es diu que les operacions estan \"vectoritzades\", és a dir que actuen per a cada element de l'array (i de forma ràpida)"
   ]
  },
  {
   "cell_type": "code",
   "execution_count": 35,
   "metadata": {},
   "outputs": [
    {
     "data": {
      "text/plain": [
       "array([2, 3, 4, 5])"
      ]
     },
     "execution_count": 35,
     "metadata": {},
     "output_type": "execute_result"
    }
   ],
   "source": [
    "vector + 1"
   ]
  },
  {
   "cell_type": "code",
   "execution_count": 36,
   "metadata": {},
   "outputs": [
    {
     "data": {
      "text/plain": [
       "array([2, 4, 6, 8])"
      ]
     },
     "execution_count": 36,
     "metadata": {},
     "output_type": "execute_result"
    }
   ],
   "source": [
    "vector * 2"
   ]
  },
  {
   "cell_type": "code",
   "execution_count": 37,
   "metadata": {},
   "outputs": [
    {
     "data": {
      "text/plain": [
       "array([ 1,  4,  9, 16], dtype=int32)"
      ]
     },
     "execution_count": 37,
     "metadata": {},
     "output_type": "execute_result"
    }
   ],
   "source": [
    "vector ** 2"
   ]
  },
  {
   "cell_type": "code",
   "execution_count": 38,
   "metadata": {},
   "outputs": [
    {
     "data": {
      "text/plain": [
       "array([2, 4, 6, 8])"
      ]
     },
     "execution_count": 38,
     "metadata": {},
     "output_type": "execute_result"
    }
   ],
   "source": [
    "vector + vector"
   ]
  },
  {
   "cell_type": "code",
   "execution_count": 39,
   "metadata": {},
   "outputs": [
    {
     "data": {
      "text/plain": [
       "array([ 1,  4,  9, 16])"
      ]
     },
     "execution_count": 39,
     "metadata": {},
     "output_type": "execute_result"
    }
   ],
   "source": [
    "vector * vector"
   ]
  },
  {
   "cell_type": "markdown",
   "metadata": {},
   "source": [
    "I per matrius:"
   ]
  },
  {
   "cell_type": "code",
   "execution_count": 40,
   "metadata": {},
   "outputs": [
    {
     "data": {
      "text/plain": [
       "array([[  2,   3,   4,   5],\n",
       "       [ 11,  21,  31,  41],\n",
       "       [101, 201, 301, 401]])"
      ]
     },
     "execution_count": 40,
     "metadata": {},
     "output_type": "execute_result"
    }
   ],
   "source": [
    "matriu + 1"
   ]
  },
  {
   "cell_type": "code",
   "execution_count": 41,
   "metadata": {},
   "outputs": [
    {
     "data": {
      "text/plain": [
       "array([[  2,   4,   6,   8],\n",
       "       [ 20,  40,  60,  80],\n",
       "       [200, 400, 600, 800]])"
      ]
     },
     "execution_count": 41,
     "metadata": {},
     "output_type": "execute_result"
    }
   ],
   "source": [
    "matriu * 2"
   ]
  },
  {
   "cell_type": "code",
   "execution_count": 42,
   "metadata": {},
   "outputs": [
    {
     "data": {
      "text/plain": [
       "array([[     1,      4,      9,     16],\n",
       "       [   100,    400,    900,   1600],\n",
       "       [ 10000,  40000,  90000, 160000]], dtype=int32)"
      ]
     },
     "execution_count": 42,
     "metadata": {},
     "output_type": "execute_result"
    }
   ],
   "source": [
    "matriu ** 2"
   ]
  },
  {
   "cell_type": "code",
   "execution_count": 43,
   "metadata": {},
   "outputs": [
    {
     "data": {
      "text/plain": [
       "array([[  2,   4,   6,   8],\n",
       "       [ 20,  40,  60,  80],\n",
       "       [200, 400, 600, 800]])"
      ]
     },
     "execution_count": 43,
     "metadata": {},
     "output_type": "execute_result"
    }
   ],
   "source": [
    "matriu + matriu"
   ]
  },
  {
   "cell_type": "code",
   "execution_count": 44,
   "metadata": {},
   "outputs": [
    {
     "data": {
      "text/plain": [
       "array([[     1,      4,      9,     16],\n",
       "       [   100,    400,    900,   1600],\n",
       "       [ 10000,  40000,  90000, 160000]])"
      ]
     },
     "execution_count": 44,
     "metadata": {},
     "output_type": "execute_result"
    }
   ],
   "source": [
    "matriu * matriu"
   ]
  },
  {
   "cell_type": "markdown",
   "metadata": {},
   "source": [
    "**Nota**: Quan treballem amb matrius l'operador ***** actua per cada element, no és la multiplicació matricial, aquesta es pot fer de dues formes (equivalents)"
   ]
  },
  {
   "cell_type": "code",
   "execution_count": 45,
   "metadata": {},
   "outputs": [
    {
     "data": {
      "text/plain": [
       "array([[  1,  10, 100],\n",
       "       [  2,  20, 200],\n",
       "       [  3,  30, 300],\n",
       "       [  4,  40, 400]])"
      ]
     },
     "execution_count": 45,
     "metadata": {},
     "output_type": "execute_result"
    }
   ],
   "source": [
    "matriu.T"
   ]
  },
  {
   "cell_type": "code",
   "execution_count": 46,
   "metadata": {},
   "outputs": [
    {
     "data": {
      "text/plain": [
       "array([[    30,    300,   3000],\n",
       "       [   300,   3000,  30000],\n",
       "       [  3000,  30000, 300000]])"
      ]
     },
     "execution_count": 46,
     "metadata": {},
     "output_type": "execute_result"
    }
   ],
   "source": [
    "np.dot(matriu, matriu.T)"
   ]
  },
  {
   "cell_type": "code",
   "execution_count": 47,
   "metadata": {},
   "outputs": [
    {
     "data": {
      "text/plain": [
       "array([[    30,    300,   3000],\n",
       "       [   300,   3000,  30000],\n",
       "       [  3000,  30000, 300000]])"
      ]
     },
     "execution_count": 47,
     "metadata": {},
     "output_type": "execute_result"
    }
   ],
   "source": [
    "matriu @ matriu.T"
   ]
  },
  {
   "cell_type": "code",
   "execution_count": 48,
   "metadata": {
    "scrolled": true
   },
   "outputs": [
    {
     "data": {
      "text/plain": [
       "array([[  1,  10, 100],\n",
       "       [  2,  20, 200],\n",
       "       [  3,  30, 300],\n",
       "       [  4,  40, 400]])"
      ]
     },
     "execution_count": 48,
     "metadata": {},
     "output_type": "execute_result"
    }
   ],
   "source": [
    "# On `matriu.T` indica la transposada de la matriu:\n",
    "matriu.T"
   ]
  },
  {
   "cell_type": "code",
   "execution_count": 49,
   "metadata": {},
   "outputs": [
    {
     "data": {
      "text/plain": [
       "(3, 4)"
      ]
     },
     "execution_count": 49,
     "metadata": {},
     "output_type": "execute_result"
    }
   ],
   "source": [
    "matriu.shape"
   ]
  },
  {
   "cell_type": "code",
   "execution_count": 53,
   "metadata": {},
   "outputs": [],
   "source": [
    "matriu.T[0, 1] = 3333"
   ]
  },
  {
   "cell_type": "code",
   "execution_count": 54,
   "metadata": {},
   "outputs": [
    {
     "data": {
      "text/plain": [
       "array([[3333,    2,    3,    4],\n",
       "       [3333,   20,   30,   40],\n",
       "       [ 100,  200,  300,  400]])"
      ]
     },
     "execution_count": 54,
     "metadata": {},
     "output_type": "execute_result"
    }
   ],
   "source": [
    "matriu"
   ]
  },
  {
   "cell_type": "markdown",
   "metadata": {},
   "source": [
    "## Difusió de regles (broadcasting)\n",
    "\n",
    "Abans hem vist l'ús bàsic de la difusió de regles, actuar element a element, però numpy permet fer operacions molt més avançades.\n",
    "\n",
    "Per exemple, per fer una operació a cada columna (o fila) no és necessari (i MAI s'hauria de fer) un bucle."
   ]
  },
  {
   "cell_type": "code",
   "execution_count": 55,
   "metadata": {},
   "outputs": [
    {
     "data": {
      "text/plain": [
       "array([[0.86894922, 0.28302956, 0.20424546, 0.18336503],\n",
       "       [0.52716929, 0.66333483, 0.36095913, 0.94067294],\n",
       "       [0.34378915, 0.85722409, 0.85883238, 0.81339398]])"
      ]
     },
     "execution_count": 55,
     "metadata": {},
     "output_type": "execute_result"
    }
   ],
   "source": [
    "matriu = np.random.uniform(size=(3, 4))\n",
    "matriu"
   ]
  },
  {
   "cell_type": "markdown",
   "metadata": {},
   "source": [
    "Volem fer una operació que consisteix a normalitzar la matriu per columnes, per tal que la suma de la columna sigui 1.\n",
    "\n",
    "**Com NO fer-ho:** Obtenim primer la suma de les columnes, bucle per cada columna i dividim"
   ]
  },
  {
   "cell_type": "code",
   "execution_count": 56,
   "metadata": {},
   "outputs": [
    {
     "data": {
      "text/plain": [
       "array([1.73990766, 1.80358848, 1.42403697, 1.93743195])"
      ]
     },
     "execution_count": 56,
     "metadata": {},
     "output_type": "execute_result"
    }
   ],
   "source": [
    "sumes = matriu.sum(axis=0)\n",
    "sumes"
   ]
  },
  {
   "cell_type": "code",
   "execution_count": 57,
   "metadata": {},
   "outputs": [
    {
     "data": {
      "text/plain": [
       "array([[0.41177956, 0.22695448, 0.05341731, 0.38923698],\n",
       "       [0.437345  , 0.31662991, 0.60137281, 0.24632233],\n",
       "       [0.15087544, 0.45641561, 0.34520988, 0.36444068]])"
      ]
     },
     "execution_count": 57,
     "metadata": {},
     "output_type": "execute_result"
    }
   ],
   "source": [
    "matriu = np.random.uniform(size=(3, 4))\n",
    "sumes = matriu.sum(axis=0)\n",
    "\n",
    "for j in range(matriu.shape[1]): # Shape retorna (nº files, nº columnes)\n",
    "    matriu[:, j] = matriu[:, j] / sumes[j]\n",
    "    \n",
    "matriu"
   ]
  },
  {
   "cell_type": "code",
   "execution_count": 58,
   "metadata": {},
   "outputs": [
    {
     "data": {
      "text/plain": [
       "array([1., 1., 1., 1.])"
      ]
     },
     "execution_count": 58,
     "metadata": {},
     "output_type": "execute_result"
    }
   ],
   "source": [
    "matriu.sum(axis=0)"
   ]
  },
  {
   "cell_type": "markdown",
   "metadata": {},
   "source": [
    "**Com SÍ fer-ho:** Obtenim la suma per columnes i dividir directament\n",
    "    \n",
    "Farem la divisió d'una matriu $(3, 4)$ amb un vector de $4$ elements"
   ]
  },
  {
   "cell_type": "code",
   "execution_count": 59,
   "metadata": {},
   "outputs": [
    {
     "data": {
      "text/plain": [
       "((3, 4), (4,))"
      ]
     },
     "execution_count": 59,
     "metadata": {},
     "output_type": "execute_result"
    }
   ],
   "source": [
    "matriu.shape, sumes.shape"
   ]
  },
  {
   "cell_type": "code",
   "execution_count": 60,
   "metadata": {},
   "outputs": [
    {
     "data": {
      "text/plain": [
       "array([[0.51051479, 0.46500039, 0.13175785, 0.10315943],\n",
       "       [0.09358964, 0.2890279 , 0.3111237 , 0.75273099],\n",
       "       [0.39589558, 0.24597171, 0.55711845, 0.14410958]])"
      ]
     },
     "execution_count": 60,
     "metadata": {},
     "output_type": "execute_result"
    }
   ],
   "source": [
    "matriu = np.random.uniform(size=(3, 4))\n",
    "sumes = matriu.sum(axis=0)\n",
    "norm = matriu / sumes\n",
    "norm"
   ]
  },
  {
   "cell_type": "code",
   "execution_count": 61,
   "metadata": {},
   "outputs": [
    {
     "data": {
      "text/plain": [
       "array([1., 1., 1., 1.])"
      ]
     },
     "execution_count": 61,
     "metadata": {},
     "output_type": "execute_result"
    }
   ],
   "source": [
    "norm.sum(axis=0)"
   ]
  },
  {
   "cell_type": "markdown",
   "metadata": {},
   "source": [
    "#### I per files?\n",
    "\n",
    "Numpy fa la difusió per columnes sempre, mai per files, pel que si intentem fer l'operació de divisió entre una matriu $(3, 4)$ i un vector de $3$ elements, fallarà:"
   ]
  },
  {
   "cell_type": "code",
   "execution_count": 62,
   "metadata": {},
   "outputs": [
    {
     "ename": "ValueError",
     "evalue": "operands could not be broadcast together with shapes (3,4) (3,) ",
     "output_type": "error",
     "traceback": [
      "\u001b[1;31m---------------------------------------------------------------------------\u001b[0m",
      "\u001b[1;31mValueError\u001b[0m                                Traceback (most recent call last)",
      "\u001b[1;32m<ipython-input-62-119db75f8f8f>\u001b[0m in \u001b[0;36m<module>\u001b[1;34m()\u001b[0m\n\u001b[0;32m      1\u001b[0m \u001b[0mmatriu\u001b[0m \u001b[1;33m=\u001b[0m \u001b[0mnp\u001b[0m\u001b[1;33m.\u001b[0m\u001b[0mrandom\u001b[0m\u001b[1;33m.\u001b[0m\u001b[0muniform\u001b[0m\u001b[1;33m(\u001b[0m\u001b[0msize\u001b[0m\u001b[1;33m=\u001b[0m\u001b[1;33m(\u001b[0m\u001b[1;36m3\u001b[0m\u001b[1;33m,\u001b[0m \u001b[1;36m4\u001b[0m\u001b[1;33m)\u001b[0m\u001b[1;33m)\u001b[0m\u001b[1;33m\u001b[0m\u001b[0m\n\u001b[0;32m      2\u001b[0m \u001b[0msumes\u001b[0m \u001b[1;33m=\u001b[0m \u001b[0mmatriu\u001b[0m\u001b[1;33m.\u001b[0m\u001b[0msum\u001b[0m\u001b[1;33m(\u001b[0m\u001b[0maxis\u001b[0m\u001b[1;33m=\u001b[0m\u001b[1;36m1\u001b[0m\u001b[1;33m)\u001b[0m\u001b[1;33m\u001b[0m\u001b[0m\n\u001b[1;32m----> 3\u001b[1;33m \u001b[0mnorm\u001b[0m \u001b[1;33m=\u001b[0m \u001b[0mmatriu\u001b[0m \u001b[1;33m/\u001b[0m \u001b[0msumes\u001b[0m\u001b[1;33m\u001b[0m\u001b[0m\n\u001b[0m\u001b[0;32m      4\u001b[0m \u001b[0mnorm\u001b[0m\u001b[1;33m\u001b[0m\u001b[0m\n",
      "\u001b[1;31mValueError\u001b[0m: operands could not be broadcast together with shapes (3,4) (3,) "
     ]
    }
   ],
   "source": [
    "matriu = np.random.uniform(size=(3, 4))\n",
    "sumes = matriu.sum(axis=1)\n",
    "norm = matriu / sumes\n",
    "norm"
   ]
  },
  {
   "cell_type": "markdown",
   "metadata": {},
   "source": [
    "La solució (1)? Transposem la matriu per tenir-la $(3, 4)$, operem i transposem de nou"
   ]
  },
  {
   "cell_type": "code",
   "execution_count": 63,
   "metadata": {},
   "outputs": [
    {
     "data": {
      "text/plain": [
       "array([[0.04796677, 0.35167796, 0.08509268, 0.51526259],\n",
       "       [0.24814304, 0.3681692 , 0.32439869, 0.05928907],\n",
       "       [0.23459219, 0.38242341, 0.02988021, 0.35310418]])"
      ]
     },
     "execution_count": 63,
     "metadata": {},
     "output_type": "execute_result"
    }
   ],
   "source": [
    "norm = (matriu.T / sumes).T\n",
    "norm"
   ]
  },
  {
   "cell_type": "code",
   "execution_count": 64,
   "metadata": {},
   "outputs": [
    {
     "data": {
      "text/plain": [
       "array([1., 1., 1.])"
      ]
     },
     "execution_count": 64,
     "metadata": {},
     "output_type": "execute_result"
    }
   ],
   "source": [
    "norm.sum(axis=1)"
   ]
  },
  {
   "cell_type": "markdown",
   "metadata": {},
   "source": [
    "La solució (2)? Canviar la forma del vector de $(3)$ a $(3, 1)$. D'aquesta manera estem fent una operació entre dues matrius, una $(3, 4)$ i una $(3, 1)$: numpy el que farà és a cada columna de la matriu (la dimensió que no quadra), aplicar l'operació que li demanem amb tota la columna de les sumes."
   ]
  },
  {
   "cell_type": "code",
   "execution_count": 65,
   "metadata": {},
   "outputs": [
    {
     "data": {
      "text/plain": [
       "array([[1.73211168],\n",
       "       [1.5346329 ],\n",
       "       [2.34520243]])"
      ]
     },
     "execution_count": 65,
     "metadata": {},
     "output_type": "execute_result"
    }
   ],
   "source": [
    "sumes.reshape((3,1))"
   ]
  },
  {
   "cell_type": "code",
   "execution_count": 66,
   "metadata": {},
   "outputs": [
    {
     "data": {
      "text/plain": [
       "array([[0.04796677, 0.35167796, 0.08509268, 0.51526259],\n",
       "       [0.24814304, 0.3681692 , 0.32439869, 0.05928907],\n",
       "       [0.23459219, 0.38242341, 0.02988021, 0.35310418]])"
      ]
     },
     "execution_count": 66,
     "metadata": {},
     "output_type": "execute_result"
    }
   ],
   "source": [
    "norm = matriu / sumes.reshape((3, 1))\n",
    "norm"
   ]
  },
  {
   "cell_type": "code",
   "execution_count": 67,
   "metadata": {},
   "outputs": [
    {
     "data": {
      "text/plain": [
       "array([1., 1., 1.])"
      ]
     },
     "execution_count": 67,
     "metadata": {},
     "output_type": "execute_result"
    }
   ],
   "source": [
    "norm.sum(axis=1)"
   ]
  },
  {
   "cell_type": "markdown",
   "metadata": {},
   "source": [
    "## Not-a-Number (NaN)\n",
    "\n",
    "NaN és un valor especial que serveix per indicar la falta de dades. Segons el tipus de dades, no sempre podem fer servir un valor per defecte. Per exemple, si deixem que l'usuari introdueixi **opcionalment** una valoració numèrica, de valor lliure, no podem fer servir 0 (o qualsevol altre nombre) per indicar que no ha introduït res."
   ]
  },
  {
   "cell_type": "code",
   "execution_count": 68,
   "metadata": {},
   "outputs": [
    {
     "data": {
      "text/plain": [
       "nan"
      ]
     },
     "execution_count": 68,
     "metadata": {},
     "output_type": "execute_result"
    }
   ],
   "source": [
    "np.nan"
   ]
  },
  {
   "cell_type": "markdown",
   "metadata": {},
   "source": [
    "NaN, però, té alguns trucs:"
   ]
  },
  {
   "cell_type": "code",
   "execution_count": 69,
   "metadata": {},
   "outputs": [
    {
     "data": {
      "text/plain": [
       "True"
      ]
     },
     "execution_count": 69,
     "metadata": {},
     "output_type": "execute_result"
    }
   ],
   "source": [
    "a = np.nan\n",
    "# a == np.nan\n",
    "np.isnan(a)"
   ]
  },
  {
   "cell_type": "code",
   "execution_count": 70,
   "metadata": {},
   "outputs": [
    {
     "data": {
      "text/plain": [
       "array([nan,  2., nan,  3.])"
      ]
     },
     "execution_count": 70,
     "metadata": {},
     "output_type": "execute_result"
    }
   ],
   "source": [
    "vector = np.asarray([np.nan, 2, np.nan, 3])\n",
    "vector"
   ]
  },
  {
   "cell_type": "code",
   "execution_count": 71,
   "metadata": {},
   "outputs": [
    {
     "data": {
      "text/plain": [
       "False"
      ]
     },
     "execution_count": 71,
     "metadata": {},
     "output_type": "execute_result"
    }
   ],
   "source": [
    "vector[0] == np.nan"
   ]
  },
  {
   "cell_type": "code",
   "execution_count": 72,
   "metadata": {},
   "outputs": [
    {
     "data": {
      "text/plain": [
       "True"
      ]
     },
     "execution_count": 72,
     "metadata": {},
     "output_type": "execute_result"
    }
   ],
   "source": [
    "np.isnan(vector[0])"
   ]
  },
  {
   "cell_type": "code",
   "execution_count": 73,
   "metadata": {},
   "outputs": [
    {
     "data": {
      "text/plain": [
       "array([ True, False,  True, False])"
      ]
     },
     "execution_count": 73,
     "metadata": {},
     "output_type": "execute_result"
    }
   ],
   "source": [
    "np.isnan(vector)"
   ]
  },
  {
   "cell_type": "markdown",
   "metadata": {},
   "source": [
    "Exercici: Posar a 0 tots els nans, sense modificar el vector original"
   ]
  },
  {
   "cell_type": "code",
   "execution_count": 76,
   "metadata": {},
   "outputs": [],
   "source": [
    "vector[np.isnan(vector)] = 0"
   ]
  },
  {
   "cell_type": "code",
   "execution_count": 80,
   "metadata": {},
   "outputs": [
    {
     "name": "stdout",
     "output_type": "stream",
     "text": [
      "[False False False False]\n",
      "[0. 2. 0. 3.]\n"
     ]
    }
   ],
   "source": [
    "print (np.isnan(vector))\n",
    "print (vector)"
   ]
  },
  {
   "cell_type": "code",
   "execution_count": 75,
   "metadata": {},
   "outputs": [
    {
     "data": {
      "text/plain": [
       "array([0., 2., 0., 3.])"
      ]
     },
     "execution_count": 75,
     "metadata": {},
     "output_type": "execute_result"
    }
   ],
   "source": [
    "vector2 = vector.copy()\n",
    "vector2[np.isnan(vector2)] = 0\n",
    "vector2"
   ]
  },
  {
   "cell_type": "code",
   "execution_count": null,
   "metadata": {},
   "outputs": [],
   "source": []
  }
 ],
 "metadata": {
  "kernelspec": {
   "display_name": "Python 3",
   "language": "python",
   "name": "python3"
  },
  "language_info": {
   "codemirror_mode": {
    "name": "ipython",
    "version": 3
   },
   "file_extension": ".py",
   "mimetype": "text/x-python",
   "name": "python",
   "nbconvert_exporter": "python",
   "pygments_lexer": "ipython3",
   "version": "3.6.5"
  }
 },
 "nbformat": 4,
 "nbformat_minor": 2
}
