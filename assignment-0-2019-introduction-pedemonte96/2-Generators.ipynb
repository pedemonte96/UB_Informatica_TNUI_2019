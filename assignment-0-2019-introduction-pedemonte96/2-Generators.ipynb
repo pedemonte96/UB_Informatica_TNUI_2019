{
 "cells": [
  {
   "cell_type": "markdown",
   "metadata": {},
   "source": [
    "# Generadors"
   ]
  },
  {
   "cell_type": "markdown",
   "metadata": {},
   "source": [
    "Executa el codi a continuació i intenta entendre les diferències entre `crear_range` i `crear_range_generador`. Per què creus que és més ràpida la segona versió?"
   ]
  },
  {
   "cell_type": "code",
   "execution_count": 2,
   "metadata": {},
   "outputs": [
    {
     "name": "stdout",
     "output_type": "stream",
     "text": [
      "dict_items([('a', 1), ('b', -1)])\n",
      "[('b', -1), ('a', 1)]\n"
     ]
    }
   ],
   "source": [
    "#Commit de prova\n",
    "dic = {'a':1, 'b':-1}\n",
    "print(dic.items())\n",
    "print(sorted(dic.items(), key=lambda x: x[1]))"
   ]
  },
  {
   "cell_type": "markdown",
   "metadata": {},
   "source": [
    "#### Primera versió"
   ]
  },
  {
   "cell_type": "code",
   "execution_count": 1,
   "metadata": {
    "collapsed": true
   },
   "outputs": [],
   "source": [
    "def crear_range(inici, fi, pas):\n",
    "    llista = []\n",
    "    i = inici\n",
    "    while i < fi:\n",
    "        llista.append(i)\n",
    "        i += pas\n",
    "        \n",
    "    return llista\n",
    "\n",
    "def crea_i_itera(inici, fi, pas):\n",
    "    llista = crear_range(inici, fi, pas)\n",
    "    \n",
    "    for i in llista:\n",
    "        x = i"
   ]
  },
  {
   "cell_type": "code",
   "execution_count": 2,
   "metadata": {},
   "outputs": [
    {
     "name": "stdout",
     "output_type": "stream",
     "text": [
      "[1, 11, 21, 31, 41, 51, 61, 71, 81]\n"
     ]
    }
   ],
   "source": [
    "print(crear_range(1, 90, 10))"
   ]
  },
  {
   "cell_type": "code",
   "execution_count": 5,
   "metadata": {},
   "outputs": [
    {
     "name": "stdout",
     "output_type": "stream",
     "text": [
      "85.8 µs ± 2.68 µs per loop (mean ± std. dev. of 7 runs, 10000 loops each)\n"
     ]
    }
   ],
   "source": [
    "if __name__ == '__main__':\n",
    "    %timeit crea_i_itera(1, 1e3, 1)"
   ]
  },
  {
   "cell_type": "markdown",
   "metadata": {},
   "source": [
    "#### Segona Versió"
   ]
  },
  {
   "cell_type": "code",
   "execution_count": 8,
   "metadata": {
    "collapsed": true
   },
   "outputs": [],
   "source": [
    "def crear_range_generador(inici, fi, pas):\n",
    "    i = inici\n",
    "    llista = []\n",
    "    while i < fi:\n",
    "        yield i\n",
    "        i += pas\n",
    "        \n",
    "def crea_i_itera_generador(inici, fi, pas):\n",
    "    llista = crear_range_generador(inici, fi, pas)\n",
    "    \n",
    "    for i in llista:\n",
    "        x = i"
   ]
  },
  {
   "cell_type": "code",
   "execution_count": 9,
   "metadata": {},
   "outputs": [
    {
     "name": "stdout",
     "output_type": "stream",
     "text": [
      "<generator object crear_range_generador at 0x7f7a5b43fc50>\n"
     ]
    }
   ],
   "source": [
    "print(crear_range_generador(1, 5, 1))"
   ]
  },
  {
   "cell_type": "code",
   "execution_count": 10,
   "metadata": {},
   "outputs": [
    {
     "name": "stdout",
     "output_type": "stream",
     "text": [
      "68.1 µs ± 360 ns per loop (mean ± std. dev. of 7 runs, 10000 loops each)\n"
     ]
    }
   ],
   "source": [
    "if __name__ == '__main__':\n",
    "    %timeit crea_i_itera_generador(1, 1e3, 1)"
   ]
  },
  {
   "cell_type": "markdown",
   "metadata": {},
   "source": [
    "## Com funcionen?"
   ]
  },
  {
   "cell_type": "markdown",
   "metadata": {},
   "source": [
    "La paraula clau `yield` serveix per indicar a Python que la funció és generadora. Una funció generadora retorna un tipus especial que es pot iterar, el funcionament és el següent:\n",
    "\n",
    "**Obtenir el generador a través de la crida**\n",
    "\n",
    "```python\n",
    "gen = crear_range_generador(1, 5, 1)\n",
    "```\n",
    "\n",
    "**Iterar els elements del generador**\n",
    "\n",
    "```python\n",
    "element_1 = next(gen)\n",
    "element_2 = next(gen)\n",
    "...\n",
    "element_n = next(gen)\n",
    "```\n",
    "\n",
    "Cada cop que es fa `next`, el codi executa fins a trobar la paraula `yield`. Al trobar-la, retorna l'element del `yield` i es queda \"pausat\" en la següent instrucció, fins que es fa el següent `next`.\n",
    "\n",
    "**Alternativament, es pot iterar el generador com si fos una llista**\n",
    "```python\n",
    "for element in gen:\n",
    "    print(element)\n",
    "```\n",
    "\n",
    "**Conversió a llista**\n",
    "\n",
    "També es pot convertir el generador a una llista de forma explícita. Compte però, normalment es fan servir generadors per evitar ocupar memòria, convertint a llista (o equivalent) ocuparem tota la memòria:\n",
    "\n",
    "```python\n",
    "llista = list(gen)\n",
    "```"
   ]
  },
  {
   "cell_type": "markdown",
   "metadata": {},
   "source": [
    "### Proves"
   ]
  },
  {
   "cell_type": "code",
   "execution_count": 12,
   "metadata": {},
   "outputs": [
    {
     "name": "stdout",
     "output_type": "stream",
     "text": [
      "<generator object crear_range_generador at 0x7f7ff0f1bf10>\n",
      "1\n",
      "2\n",
      "3\n",
      "4\n"
     ]
    }
   ],
   "source": [
    "gen = crear_range_generador(1, 5, 1)\n",
    "print(gen)\n",
    "\n",
    "element_1 = next(gen)\n",
    "element_2 = next(gen)\n",
    "element_3 = next(gen)\n",
    "element_4 = next(gen)\n",
    "\n",
    "print(element_1)\n",
    "print(element_2)\n",
    "print(element_3)\n",
    "print(element_4)"
   ]
  },
  {
   "cell_type": "markdown",
   "metadata": {},
   "source": [
    "Que passa si intentem obtenir un següent element?"
   ]
  },
  {
   "cell_type": "code",
   "execution_count": 13,
   "metadata": {},
   "outputs": [
    {
     "ename": "StopIteration",
     "evalue": "",
     "output_type": "error",
     "traceback": [
      "\u001b[0;31m---------------------------------------------------------------------------\u001b[0m",
      "\u001b[0;31mStopIteration\u001b[0m                             Traceback (most recent call last)",
      "\u001b[0;32m<ipython-input-13-9743f6da0464>\u001b[0m in \u001b[0;36m<module>\u001b[0;34m()\u001b[0m\n\u001b[0;32m----> 1\u001b[0;31m \u001b[0melement_5\u001b[0m \u001b[0;34m=\u001b[0m \u001b[0mnext\u001b[0m\u001b[0;34m(\u001b[0m\u001b[0mgen\u001b[0m\u001b[0;34m)\u001b[0m\u001b[0;34m\u001b[0m\u001b[0m\n\u001b[0m",
      "\u001b[0;31mStopIteration\u001b[0m: "
     ]
    }
   ],
   "source": [
    "element_5 = next(gen)"
   ]
  },
  {
   "cell_type": "markdown",
   "metadata": {},
   "source": [
    "L'objecte generador `gen` no guarda els elements que va generant, cada cop que es fa un `next`, l'anterior \"s'elimina\" i es genera el següent.\n",
    "\n",
    "En vistes d'això, que passa si ara iterem el generador com si fos una llista?"
   ]
  },
  {
   "cell_type": "code",
   "execution_count": 14,
   "metadata": {
    "collapsed": true
   },
   "outputs": [],
   "source": [
    "for element in gen:\n",
    "    print(element)"
   ]
  },
  {
   "cell_type": "markdown",
   "metadata": {},
   "source": [
    "Efectivament, no produeix cap sortida perquè el generador ja està buit. Fa un moment hem vist l'error `StopIteration`. En tot cas, podríem crear-lo de nou i iterar:"
   ]
  },
  {
   "cell_type": "code",
   "execution_count": 15,
   "metadata": {},
   "outputs": [
    {
     "name": "stdout",
     "output_type": "stream",
     "text": [
      "1\n",
      "2\n",
      "3\n",
      "4\n"
     ]
    }
   ],
   "source": [
    "gen = crear_range_generador(1, 5, 1)\n",
    "for element in gen:\n",
    "    print(element)"
   ]
  },
  {
   "cell_type": "code",
   "execution_count": 17,
   "metadata": {},
   "outputs": [
    {
     "data": {
      "text/plain": [
       "14"
      ]
     },
     "execution_count": 17,
     "metadata": {},
     "output_type": "execute_result"
    }
   ],
   "source": [
    "import random\n",
    "random.randint(1, 17)"
   ]
  },
  {
   "cell_type": "code",
   "execution_count": 14,
   "metadata": {},
   "outputs": [
    {
     "name": "stdout",
     "output_type": "stream",
     "text": [
      "[1, 2, 3, 4]\n"
     ]
    }
   ],
   "source": [
    "gen = crear_range_generador(1, 5, 1)\n",
    "llista = list(gen)\n",
    "print(llista)"
   ]
  }
 ],
 "metadata": {
  "kernelspec": {
   "display_name": "Python 3",
   "language": "python",
   "name": "python3"
  },
  "language_info": {
   "codemirror_mode": {
    "name": "ipython",
    "version": 3
   },
   "file_extension": ".py",
   "mimetype": "text/x-python",
   "name": "python",
   "nbconvert_exporter": "python",
   "pygments_lexer": "ipython3",
   "version": "3.7.3"
  }
 },
 "nbformat": 4,
 "nbformat_minor": 2
}
