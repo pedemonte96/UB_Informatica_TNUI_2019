{
 "cells": [
  {
   "cell_type": "markdown",
   "metadata": {},
   "source": [
    "# Optimització - Linear regression"
   ]
  },
  {
   "cell_type": "markdown",
   "metadata": {},
   "source": [
    "En estadística, la **regressió lineal** és un enfocament lineal per modelar la relació entre una resposta escalar (o variable dependent) i una o més variables explicatives (o variables independents).\n",
    "\n",
    "En regressió lineal, les relacions es modelen mitjançant funcions lineals on els paràmetres del model s’estimen a partir de les dades. \n",
    "Aquests models s'anomenen models lineals. "
   ]
  },
  {
   "cell_type": "markdown",
   "metadata": {},
   "source": [
    "Suposem que treballem amb un conjunt de dades $ \\{y_{i}, x_{i_1}, \\ldots, x_{i_m} \\}_{i = 1}^{n}$ de $n$ unitats. \n",
    "\n",
    "Un **model de regressió lineal** assumeix que la relació entre la variable dependent $y$ i el vector $p$ dels regressors $x$ és lineal. \n",
    "Així, el model pren la forma:\n",
    "$${\\displaystyle y_{i}=\\beta _{0}+\\beta _{1}x_{i_1}+\\cdots +\\beta _{p}x_{i_p},\\qquad i=1,\\ldots ,n,}$$"
   ]
  },
  {
   "cell_type": "code",
   "execution_count": 1,
   "metadata": {},
   "outputs": [],
   "source": [
    "# Comprovem que autograd estigui instal·lat\n",
    "if __name__ == '__main__':\n",
    "    try:\n",
    "        import autograd\n",
    "    except:\n",
    "        print('No s\\'ha detectat autograd instal·lat')\n",
    "        if input('Vols instalar autograd? [s/n]').strip().lower() == 's':\n",
    "            !pip3 install --user -U autograd\n",
    "            !pip install --user -U autograd\n",
    "        else:\n",
    "            print('Abans de continuar instal·la autograd')"
   ]
  },
  {
   "cell_type": "code",
   "execution_count": 2,
   "metadata": {},
   "outputs": [],
   "source": [
    "from plot_utils import *\n",
    "\n",
    "import autograd.numpy as np\n",
    "from autograd import elementwise_grad as grad, value_and_grad\n",
    "import matplotlib.pyplot as plt\n",
    "import pandas as pd\n",
    "import random\n",
    "\n",
    "if __name__ == '__main__':\n",
    "    from IPython.display import display\n",
    "    \n",
    "    %matplotlib inline"
   ]
  },
  {
   "cell_type": "markdown",
   "metadata": {},
   "source": [
    "No es permet l'ús de cap llibreria o funció que no estigui ja importat, sigui aquí o més abaix en el notebook.\n",
    "\n",
    "Per Kaggle es permet l'ús d'altres llibreries/funcions sempre i quan únicament es facin servir pel processament de dades, i no pel model i/o predicció."
   ]
  },
  {
   "cell_type": "markdown",
   "metadata": {},
   "source": [
    "# AutoGrad\n",
    "\n",
    "En la part anterior, donada una funció havíem de definir també la funció que retorna el seu gradient.\n",
    "\n",
    "En aquesta pràctica, però, veurem que mitjançant l'ús de la llibreria **AutoGrad**, això no és necessari.\n",
    "\n",
    "Consideren les següents funcions:"
   ]
  },
  {
   "cell_type": "code",
   "execution_count": 3,
   "metadata": {},
   "outputs": [],
   "source": [
    "def f1(x):\n",
    "    return x**2\n",
    "\n",
    "def f2(x):\n",
    "    x, y = x[0], x[1]\n",
    "    return x**2 + y**2\n",
    "\n",
    "def f3(x):\n",
    "    x, y, z = x[0], x[1], x[2]\n",
    "    return (100 * (y - x**2)**2 + (1 - x)**2) + (100 * (z - y**2)**2 + (1 - y)**2)"
   ]
  },
  {
   "cell_type": "markdown",
   "metadata": {},
   "source": [
    "Donada la funció `f1`, podem fàcilment derivar el seu gradient, que és $2x$.\n",
    "\n",
    "Definim-lo manualment:"
   ]
  },
  {
   "cell_type": "code",
   "execution_count": 4,
   "metadata": {},
   "outputs": [],
   "source": [
    "def grad_f1_manual(x):\n",
    "    return 2*x"
   ]
  },
  {
   "cell_type": "markdown",
   "metadata": {},
   "source": [
    "Ara, obtinguem la funció gradient a partir d'autograd:"
   ]
  },
  {
   "cell_type": "code",
   "execution_count": 5,
   "metadata": {},
   "outputs": [],
   "source": [
    "grad_f1 = grad(f1)\n"
   ]
  },
  {
   "cell_type": "markdown",
   "metadata": {},
   "source": [
    "Podem comprovar que **les dues donen el mateix valor de gradient evaluat en un punt $x$**."
   ]
  },
  {
   "cell_type": "code",
   "execution_count": 6,
   "metadata": {},
   "outputs": [
    {
     "name": "stdout",
     "output_type": "stream",
     "text": [
      "Calcul manual gradient: df1'(x0) = 2046.0\n",
      "Autograd: df1'(x0) = 2046.0\n"
     ]
    }
   ],
   "source": [
    "x0 = np.asarray([1023.0])\n",
    "print('Calcul manual gradient: df1\\'(x0) = {}'.format(grad_f1_manual(x0)[0]))\n",
    "print('Autograd: df1\\'(x0) = {}'.format(grad_f1(x0)[0]))\n",
    "\n",
    "assert np.allclose(grad_f1_manual(x0), grad_f1(x0)) "
   ]
  },
  {
   "cell_type": "markdown",
   "metadata": {},
   "source": [
    "També podem utilitzar `value_and_grad` per obtenir directament amb la **imatge de la funció i el seu gradient en un punt $x$**:"
   ]
  },
  {
   "cell_type": "code",
   "execution_count": 7,
   "metadata": {},
   "outputs": [
    {
     "name": "stdout",
     "output_type": "stream",
     "text": [
      "(array([1046529.]), array([2046.]))\n"
     ]
    }
   ],
   "source": [
    "val_grad_f1 = value_and_grad(f1)\n",
    "print(val_grad_f1(x0))\n",
    "\n",
    "value, gradient = val_grad_f1(x0)\n",
    "assert np.allclose(value, f1(x0))\n",
    "assert np.allclose(gradient, grad_f1(x0))"
   ]
  },
  {
   "cell_type": "markdown",
   "metadata": {},
   "source": [
    "Inclús podem aplicar `grad` sobre un altre `grad` per obtenir la 2a derivada (o Hessià en multiples dimensions)."
   ]
  },
  {
   "cell_type": "code",
   "execution_count": 8,
   "metadata": {},
   "outputs": [
    {
     "data": {
      "image/png": "[encoded data removed]",
      "text/plain": [
       "<Figure size 432x288 with 1 Axes>"
      ]
     },
     "metadata": {
      "needs_background": "light"
     },
     "output_type": "display_data"
    }
   ],
   "source": [
    "grad_f1 = grad(f1) # df(x) = 2 * x\n",
    "grad2_f1 = grad(grad_f1) # d2f(x) = 2\n",
    "\n",
    "if __name__ == '__main__':\n",
    "    x = np.linspace(-5, 5, 100)\n",
    "    plt.plot(x, f1(x), label = 'f(x)')\n",
    "    plt.plot(x, grad_f1(x), color='green', label = 'df(x)')\n",
    "    plt.plot(x, grad2_f1(x), color='orange', label = 'd2f(x)')\n",
    "    plt.legend()"
   ]
  },
  {
   "cell_type": "markdown",
   "metadata": {},
   "source": [
    "# Descens del gradient"
   ]
  },
  {
   "cell_type": "markdown",
   "metadata": {},
   "source": [
    "**El primer pas serà implementar la mateixa funció `gradient_descend` que havieu fet en la part anterior, però ara mitjançant l'ús de la llibreria `autograd` i fent-la multidimensional.**\n",
    "\n",
    "Aquesta funció hauria d'executar sense problemes, i donar el mínim, per les tres funcions `f1`, `f2` i `f3` definides més adalt, de 1, 2 i 3 dimensions respectivament. Però, també haurà de funcionar per les següents parts de la pràctica, amb 100 o més dimensions."
   ]
  },
  {
   "cell_type": "code",
   "execution_count": 9,
   "metadata": {},
   "outputs": [],
   "source": [
    "# Per utilitzar aquesta llibreria cal tenir instalar el paquet tqdm\n",
    "from tqdm import tqdm_notebook\n",
    "\n",
    "def human_format(num):\n",
    "    \"\"\"\n",
    "    Funció auxiliar per formatar els nombres\n",
    "\n",
    "    100    -> 100.00\n",
    "    2100   -> 2.10K\n",
    "    342100 -> 342.10K\n",
    "    etc.    \n",
    "    \n",
    "    :param num: Nombre a formatar\n",
    "    :return: String amb el nombre formatat\n",
    "    \"\"\"\n",
    "    prefixes = ['', 'K', 'M', 'G', 'T', 'P']\n",
    "    magnitude = 0\n",
    "    while abs(num) >= 1000:\n",
    "        magnitude += 1\n",
    "        num /= 1000.0\n",
    "    return '%.2f%s' % (num, prefixes[magnitude])\n",
    "\n",
    "def gradient_descend(f, x0, alpha, eps=1e-6, max_iter=1000, print_iters=1000):\n",
    "    \"\"\"\n",
    "    Aquesta funció implementa l'algorisme de descens pel gradient, és a dir,\n",
    "    donat un punt inicial, la funció de la que calculem el gradient i el pas, \n",
    "    intenta trobar el mínim de la funció seguint el gradient en direcció oposada.\n",
    "    \n",
    "    Normalitzant el gradient.\n",
    "    \n",
    "    Pel criteri d'aturada, considerarem si ||x^{k+1} - x^k|| < eps, és a dir\n",
    "    si la norma de la diferència és més petita que eps.\n",
    "    \n",
    "    Cada print_iters cal mostrar el resultat actual en la següent forma:\n",
    "        \"{}/{:.2f}\".format(human_format(itr), float(valor_de_f_en_x))\n",
    "    És dir, un missatge que inclogui la iteració i el valor de f en el punt\n",
    "    \n",
    "    :param f: Funció a minimitzar\n",
    "    :param x0: Punt inicial\n",
    "    :param alpha: Pas de cada iteració\n",
    "    :param eps: Moviment mínim realitzat abans de parar\n",
    "    :param max_epochs: Iteracions màximes a realitzar\n",
    "    :param print_iters: Numero d'iteracions per printar resultats\n",
    "    :return: La funció retornarà el punt on es troba el mínim\n",
    "    \"\"\"\n",
    "    grad_f = grad(f)\n",
    "    iters = 0\n",
    "    x_new = x0\n",
    "    while iters < max_iter:\n",
    "        x_last = x_new\n",
    "        grad_new = grad_f(x_new)\n",
    "        x_new = x_new - alpha * grad_new/np.linalg.norm(grad_new)\n",
    "        iters += 1\n",
    "        if iters % print_iters == 0:\n",
    "            print(\"{}/{:.3f}\".format(human_format(iters), float(f(x_new))))\n",
    "        if np.linalg.norm(x_last - x_new) < eps:\n",
    "            break\n",
    "    return x_new"
   ]
  },
  {
   "cell_type": "code",
   "execution_count": 10,
   "metadata": {},
   "outputs": [
    {
     "name": "stdout",
     "output_type": "stream",
     "text": [
      "1.00K\n"
     ]
    }
   ],
   "source": [
    "if __name__ == '__main__':\n",
    "    print(human_format(1000))"
   ]
  },
  {
   "cell_type": "markdown",
   "metadata": {},
   "source": [
    "Busquem el mínim de cadascuna de les funcions:"
   ]
  },
  {
   "cell_type": "code",
   "execution_count": 11,
   "metadata": {},
   "outputs": [
    {
     "name": "stdout",
     "output_type": "stream",
     "text": [
      "1.00K/0.000\n",
      "2.00K/0.000\n",
      "3.00K/0.000\n",
      "4.00K/0.000\n",
      "5.00K/0.000\n",
      "6.00K/0.000\n",
      "7.00K/0.000\n",
      "8.00K/0.000\n",
      "9.00K/0.000\n",
      "10.00K/0.000\n",
      "f1([4.09915157e-14]) = [1.68030436e-27]\n"
     ]
    }
   ],
   "source": [
    "if __name__ == '__main__':\n",
    "    x0 = np.array([4.0])\n",
    "    xm = gradient_descend(f1, x0, 0.01, 1e-6, 10000) # ~ @1s\n",
    "    print(f'f1({xm}) = {f1(xm)}')"
   ]
  },
  {
   "cell_type": "code",
   "execution_count": 12,
   "metadata": {},
   "outputs": [
    {
     "name": "stdout",
     "output_type": "stream",
     "text": [
      "1.00K/0.000\n",
      "2.00K/0.000\n",
      "3.00K/0.000\n",
      "4.00K/0.000\n",
      "5.00K/0.000\n",
      "6.00K/0.000\n",
      "7.00K/0.000\n",
      "8.00K/0.000\n",
      "9.00K/0.000\n",
      "10.00K/0.000\n",
      "f2([0.00093322 0.00118986]) = 2.2866558091025488e-06\n"
     ]
    }
   ],
   "source": [
    "if __name__ == '__main__':\n",
    "    x0 = np.array([4.0, 5.1])\n",
    "    xm = gradient_descend(f2, x0, 0.01, 1e-6, 10000) # ~ @1s\n",
    "    print(f'f2({xm}) = {f2(xm)}')"
   ]
  },
  {
   "cell_type": "code",
   "execution_count": 13,
   "metadata": {
    "scrolled": false
   },
   "outputs": [
    {
     "name": "stdout",
     "output_type": "stream",
     "text": [
      "1.00K/24632.483\n",
      "2.00K/7870.078\n",
      "3.00K/1295.715\n",
      "4.00K/1.703\n",
      "5.00K/1.537\n",
      "6.00K/1.372\n",
      "7.00K/1.206\n",
      "8.00K/1.042\n",
      "9.00K/0.881\n",
      "10.00K/0.724\n",
      "11.00K/0.574\n",
      "12.00K/0.434\n",
      "13.00K/0.308\n",
      "14.00K/0.201\n",
      "15.00K/0.117\n",
      "16.00K/0.060\n",
      "17.00K/0.026\n",
      "18.00K/0.010\n",
      "19.00K/0.003\n",
      "20.00K/0.001\n",
      "21.00K/0.000\n",
      "22.00K/0.000\n",
      "23.00K/0.000\n",
      "24.00K/0.000\n",
      "25.00K/0.000\n",
      "26.00K/0.000\n",
      "27.00K/0.000\n",
      "28.00K/0.000\n",
      "29.00K/0.000\n",
      "30.00K/0.000\n",
      "31.00K/0.000\n",
      "32.00K/0.000\n",
      "33.00K/0.000\n",
      "34.00K/0.000\n",
      "35.00K/0.000\n",
      "36.00K/0.000\n",
      "37.00K/0.000\n",
      "38.00K/0.000\n",
      "39.00K/0.000\n",
      "40.00K/0.000\n",
      "41.00K/0.000\n",
      "42.00K/0.000\n",
      "43.00K/0.000\n",
      "44.00K/0.000\n",
      "45.00K/0.000\n",
      "46.00K/0.000\n",
      "47.00K/0.000\n",
      "48.00K/0.000\n",
      "49.00K/0.000\n",
      "50.00K/0.000\n",
      "f3([0.99969261 1.00032093 0.9997068 ]) = 0.00017518895547920506\n"
     ]
    }
   ],
   "source": [
    "if __name__ == '__main__':\n",
    "    x0 = np.array([4.0, 5.1, 4.4])\n",
    "    xm = gradient_descend(f3, x0, 0.001, 1e-6, 50000) # ~ @30s\n",
    "    print(f'f3({xm}) = {f3(xm)}')"
   ]
  },
  {
   "cell_type": "markdown",
   "metadata": {},
   "source": [
    "# Linear regression\n",
    "\n",
    "Cas simple: **Donat un conjunt de punts (X, Y) 2D, podem trobar la recta que minimitza la distància entre aquesta i tots els punts?**\n",
    "\n",
    "Recordatori: \n",
    "\n",
    "Per tal de definir una recta necesitem dos punts $(x_0, y_0)$ i $(x_1, y_1)$. A partir d'aquests dos punts podem definir la recta com:\n",
    "\n",
    "$$y={\\frac {y_{1}-y_{0}}{x_{1}-x_{0}}} (x-x_{0}) +y_{0} = m \\cdot x + n$$"
   ]
  },
  {
   "cell_type": "code",
   "execution_count": 14,
   "metadata": {},
   "outputs": [
    {
     "data": {
      "text/html": [
       "<div>\n",
       "<style scoped>\n",
       "    .dataframe tbody tr th:only-of-type {\n",
       "        vertical-align: middle;\n",
       "    }\n",
       "\n",
       "    .dataframe tbody tr th {\n",
       "        vertical-align: top;\n",
       "    }\n",
       "\n",
       "    .dataframe thead th {\n",
       "        text-align: right;\n",
       "    }\n",
       "</style>\n",
       "<table border=\"1\" class=\"dataframe\">\n",
       "  <thead>\n",
       "    <tr style=\"text-align: right;\">\n",
       "      <th></th>\n",
       "      <th>X</th>\n",
       "      <th>Y</th>\n",
       "    </tr>\n",
       "  </thead>\n",
       "  <tbody>\n",
       "    <tr>\n",
       "      <th>0</th>\n",
       "      <td>6.2</td>\n",
       "      <td>29</td>\n",
       "    </tr>\n",
       "    <tr>\n",
       "      <th>1</th>\n",
       "      <td>9.5</td>\n",
       "      <td>44</td>\n",
       "    </tr>\n",
       "    <tr>\n",
       "      <th>2</th>\n",
       "      <td>10.5</td>\n",
       "      <td>36</td>\n",
       "    </tr>\n",
       "    <tr>\n",
       "      <th>3</th>\n",
       "      <td>7.7</td>\n",
       "      <td>37</td>\n",
       "    </tr>\n",
       "    <tr>\n",
       "      <th>4</th>\n",
       "      <td>8.6</td>\n",
       "      <td>53</td>\n",
       "    </tr>\n",
       "  </tbody>\n",
       "</table>\n",
       "</div>"
      ],
      "text/plain": [
       "      X   Y\n",
       "0   6.2  29\n",
       "1   9.5  44\n",
       "2  10.5  36\n",
       "3   7.7  37\n",
       "4   8.6  53"
      ]
     },
     "metadata": {},
     "output_type": "display_data"
    },
    {
     "data": {
      "image/png": "[encoded data removed]",
      "text/plain": [
       "<Figure size 720x720 with 1 Axes>"
      ]
     },
     "metadata": {
      "needs_background": "light"
     },
     "output_type": "display_data"
    }
   ],
   "source": [
    "if __name__ == '__main__':\n",
    "    import pandas as pd\n",
    "    # Lectura de les dades\n",
    "    df = pd.read_csv('data/slr05.csv', index_col=0)\n",
    "    display(df.head())\n",
    "\n",
    "    # Visualització de les dades\n",
    "    plt.figure(figsize = (10, 10))\n",
    "    plt.scatter(df['X'], df['Y'])\n",
    "    plt.xlabel('Fires per 1000 housing units')\n",
    "    plt.ylabel('Thefts per 1000 population')\n",
    "    plt.title('Fire and Theft in Chicago')\n",
    "\n",
    "    # Possibles linies\n",
    "    # Parametres plt.plot: (x0, x1), (y0, y1)\n",
    "    plt.plot((0, 40), (0, 140), color='#ff0000')\n",
    "    plt.plot((0, 40), (0, 120), color='#ff0000')\n",
    "    plt.plot((0, 40), (10, 110), color='#ff0000')\n",
    "    plt.plot((0, 40), (20, 70), color='#ff0000')"
   ]
  },
  {
   "cell_type": "markdown",
   "metadata": {},
   "source": [
    "Per ara, donat que estem a 2D, podem visualitzar l'error, és a dir la distància respecte aquesta recta. Però tot i així és impossible que poguem visualitzar, d'entre les infinites línies possibles, la que s'ajusta millor a les dades.\n",
    "\n",
    "**Necessitem un algorisme que la trobi automàticament,** però primer visualitzem l'error de cadascuna de les anteriors rectes:"
   ]
  },
  {
   "cell_type": "code",
   "execution_count": 15,
   "metadata": {},
   "outputs": [
    {
     "data": {
      "image/png": "[encoded data removed]",
      "text/plain": [
       "<Figure size 432x288 with 1 Axes>"
      ]
     },
     "metadata": {
      "needs_background": "light"
     },
     "output_type": "display_data"
    },
    {
     "data": {
      "image/png": "[encoded data removed]",
      "text/plain": [
       "<Figure size 432x288 with 1 Axes>"
      ]
     },
     "metadata": {
      "needs_background": "light"
     },
     "output_type": "display_data"
    },
    {
     "data": {
      "image/png": "[encoded data removed]",
      "text/plain": [
       "<Figure size 432x288 with 1 Axes>"
      ]
     },
     "metadata": {
      "needs_background": "light"
     },
     "output_type": "display_data"
    },
    {
     "data": {
      "image/png": "[encoded data removed]",
      "text/plain": [
       "<Figure size 432x288 with 1 Axes>"
      ]
     },
     "metadata": {
      "needs_background": "light"
     },
     "output_type": "display_data"
    }
   ],
   "source": [
    "if __name__ == '__main__':\n",
    "    for x1, y1, y0 in ((40, 140, 0), (40, 120, 0), (40, 110, 10), (40, 70, 20)):\n",
    "        plt.figure()\n",
    "        # Visualització de les dades\n",
    "        plt.scatter(df['X'], df['Y'])\n",
    "        plt.xlabel('Fires per 1000 housing units')\n",
    "        plt.ylabel('Thefts per 1000 population')\n",
    "        plt.title(f'Fire and Theft in Chicago, y = {y0} + x * {(y1 - y0) / x1:.2f}')\n",
    "\n",
    "        # Visualització de la recta\n",
    "        plt.plot((0, x1), (y0, y1), color='#ff0000')\n",
    "\n",
    "        # Definció de la recta\n",
    "        f = lambda x: (y1 - y0) / x1 * x + y0\n",
    "\n",
    "        # Visualització de l'error per cada punt\n",
    "        for _, (x, y) in df.iterrows():\n",
    "            y_pred = f(x)\n",
    "            plt.plot((x, x), (y, y_pred), color='b', alpha=0.2)"
   ]
  },
  {
   "cell_type": "markdown",
   "metadata": {},
   "source": [
    "**Com definim un model que automàticament trobi aquesta recta?**\n",
    "\n",
    "Primer de tot, assumim que nosaltres tenim unes dades de les quals dispossem els valors de $x$ i els corresponents valors de $y$. Per exemple, les dades anteriors.\n",
    "\n",
    "1. Necessitem definir matemàticament una recta\n",
    "$$ r: \\hat{y} = m \\cdot x + n $$\n",
    "On $x$ és un punt que volem evaluar, $\\hat{y}$ és la imatge obtinguda en el punt $x$, i $m$, $n$ són els paràmetres que defineixen la recta. Idealment, voldríem trobar aquelles $m$, $n$ que, per tot punt $x$ tinguéssim una $\\hat{y}$ tal que $\\hat{y}=y$.\n",
    "\n",
    "2. Hem de mesurar l'error que estem cometent cada cop que provem una $m$, $n$ diferents (al que anomenarem *loss* del model). Per exemple, podríem definir l'error com a la distància entre el punt $y$ que hauria de ser i el $\\hat{y}$ que ens dona el model:\n",
    "$$\\mathbb{L} = \\sqrt{(y - \\hat{y})^2}$$\n",
    "\n",
    "3. Ara el que volem fer és trobar els valors de $m$, $n$ tal que $\\mathbb{L}=0$. Si parem atenció a la funció definida per $\\mathbb{L}$, veurem que efectivament $0$ és el mínim d'aquesta. Per tant, tot el que hem de fer és minimitzar la funció definida per\n",
    "$$\\mathbb{L} = \\sqrt{(y - (m \\cdot x + n))^2}$$\n",
    "\n",
    "Per simplificar una mica el problema, unirem les variables que volem optimitzar $m,n$ en una de sola: $w$. Per fer-ho, expandirem la fòrmula anterior a:\n",
    "$$\\tilde{x} = (1, x), w = (n, m)$$\n",
    "\n",
    "$$\\mathbb{L} = \\sqrt{(y - \\tilde{x} \\cdot w)^2}$$\n",
    "\n",
    "On $\\tilde{x}$ és un vector format per un $1$ i a continuació el valor de $x$ original. De forma que $\\tilde{x} \\cdot w = (1, x) \\cdot (n, m) = n + x\\cdot m = m\\cdot x + n$ (producte escalar)."
   ]
  },
  {
   "cell_type": "code",
   "execution_count": 16,
   "metadata": {},
   "outputs": [],
   "source": [
    "def add_bias(X):\n",
    "    \"\"\"\n",
    "    Funció que donada el vector x crea el vector x', afegint una columna d'1's al davant.\n",
    "    Per exemple, si X és\n",
    "        [\n",
    "            [1, 2, 5, 1, 5, 7],\n",
    "            [9, 4, 2, 4, 6, 1],\n",
    "            ...\n",
    "            [5, 3, 1, 4, 5, 7]\n",
    "        ]\n",
    "    El retorn de la funció serà la matriu\n",
    "        [\n",
    "            [1, 1, 2, 5, 1, 5, 7],\n",
    "            [1, 9, 4, 2, 4, 6, 1],\n",
    "            ...\n",
    "            [1, 5, 3, 1, 4, 5, 7]\n",
    "        ]\n",
    "    \n",
    "    *Sense bucles*\n",
    "    \n",
    "    :param X: Matriu on cada fila és una dada i cada columna una característica\n",
    "    :return: Mateixa matriu amb una columna de 1s davant\n",
    "    \"\"\"\n",
    "    # Agafo la forma de la matriu donada, i creo una matriu d'uns amb les mateixes files\n",
    "    # pero d'1 columna. Finalment, retorno les la matriu amb la columna d'1s davant.\n",
    "    n, m = X.shape\n",
    "    X1 = np.ones((n, 1))\n",
    "    return np.hstack((X1, X))\n",
    "\n",
    "def linear_regression(x, w):\n",
    "    \"\"\"\n",
    "    Donat un punt i els parameters del model prediu el valor, implementant el càlcul de\n",
    "    la regressió lineal:\n",
    "            y' = w0 * x0 + w1 * x1 + ... + xp * wp\n",
    "            \n",
    "    *Sense bucles*\n",
    "    \n",
    "    :param x: Matriu de dades i features, on la primera columna son 1s, té per shape [NDades, NFeatures]\n",
    "    :param w: Matriu de paràmetres, té per shape [1, NFeatures]\n",
    "    :return: Vector de tamany [NDades] amb la predicció y' per a cada punt\n",
    "    \"\"\"\n",
    "    # Tal i com ens proporcionen les dades, és equivalent a fer\n",
    "    # el producte d'una matriu (x) per un vector (w[0].T)\n",
    "    return np.dot(x, w[0].T)\n",
    "\n",
    "def loss(y_true, y_pred):\n",
    "    \"\"\"\n",
    "    Funció que calcula la diferència entre la solució real i la predita mitjançant\n",
    "    distància euclidea\n",
    "        ||y_true - y_pred||\n",
    "        \n",
    "    *Sense bucles*\n",
    "    \n",
    "    :param y_true: Valor real de la Y\n",
    "    :param y_pred: Valor predit y' per a cada corresponent y\n",
    "    :return: Error de la predicció\n",
    "    \"\"\"\n",
    "    return np.linalg.norm(y_true - y_pred)\n",
    "\n",
    "def model(w, x, y):\n",
    "    \"\"\"\n",
    "    Funció que genera el model que volem optimizar, calculant l'error d'una\n",
    "    predicció amb els pàrametres i valors passats\n",
    "    \n",
    "    :param w: Paràmetres del model\n",
    "    :param x: Dades del model\n",
    "    :param y: Valors a predir\n",
    "    :return: Error (loss) de les preddiccions\n",
    "    \"\"\"\n",
    "    return loss(y, linear_regression(x, w))"
   ]
  },
  {
   "cell_type": "markdown",
   "metadata": {},
   "source": [
    "Generem les dades que utilitzarem per entrenar el model (*X_fire*) i les seves etiquetes (*Y_fire*)."
   ]
  },
  {
   "cell_type": "code",
   "execution_count": 17,
   "metadata": {},
   "outputs": [],
   "source": [
    "if __name__ == '__main__':\n",
    "    X_fire = df['X'].values[:, np.newaxis]\n",
    "    X_fire = add_bias(X_fire)\n",
    "    Y_fire = df['Y'].values"
   ]
  },
  {
   "cell_type": "markdown",
   "metadata": {},
   "source": [
    "Per optimizar el model, necesitem initcialitzar els seus pesos amb valors random."
   ]
  },
  {
   "cell_type": "code",
   "execution_count": 18,
   "metadata": {
    "scrolled": false
   },
   "outputs": [
    {
     "name": "stdout",
     "output_type": "stream",
     "text": [
      "2.00K/168.999\n",
      "4.00K/138.573\n",
      "6.00K/135.176\n",
      "8.00K/132.151\n",
      "10.00K/129.523\n",
      "12.00K/127.318\n",
      "14.00K/125.558\n",
      "16.00K/124.261\n",
      "18.00K/123.442\n",
      "20.00K/123.111\n",
      "22.00K/123.103\n",
      "24.00K/123.103\n",
      "26.00K/123.103\n",
      "28.00K/123.103\n",
      "30.00K/123.103\n",
      "[[16.99518239  1.31395537]]\n"
     ]
    }
   ],
   "source": [
    "if __name__ == '__main__':\n",
    "    # Parametres per defecte del model\n",
    "    w0 = np.random.normal(size=(1, X_fire.shape[1]))\n",
    "\n",
    "    # Optimització del model\n",
    "    wf_fire = gradient_descend(lambda w: model(w, X_fire, Y_fire), w0, 0.001, max_iter=30000, print_iters=2000) # ~ @5s\n",
    "    print(wf_fire)"
   ]
  },
  {
   "cell_type": "markdown",
   "metadata": {},
   "source": [
    "Visualització de la recta obtinguda amb el model i els errors de les seves prediccions."
   ]
  },
  {
   "cell_type": "code",
   "execution_count": 19,
   "metadata": {},
   "outputs": [
    {
     "name": "stdout",
     "output_type": "stream",
     "text": [
      "Mean error: 12.95\n"
     ]
    },
    {
     "data": {
      "image/png": "[encoded data removed]",
      "text/plain": [
       "<Figure size 432x288 with 1 Axes>"
      ]
     },
     "metadata": {
      "needs_background": "light"
     },
     "output_type": "display_data"
    }
   ],
   "source": [
    "if __name__ == '__main__':\n",
    "    plt.figure()\n",
    "    # Visualització de les dades\n",
    "    plt.scatter(df['X'], df['Y'])\n",
    "    plt.xlabel('fires per 1000 housing units')\n",
    "    plt.ylabel('thefts per 1000 population')\n",
    "    plt.title('Fire and Theft in Chicago')\n",
    "\n",
    "    # Visualització de la recta\n",
    "    # Parametres plt.plot: (x0, x1), (y0, y1)\n",
    "    plt.plot((0, 40), (wf_fire[0, 0], linear_regression((1, 40), wf_fire)), color='#ff0000')\n",
    "\n",
    "    # Visualització de l'error a cada punt\n",
    "    for _, (x, y) in df.iterrows():\n",
    "        y_pred = linear_regression((1, x), wf_fire)\n",
    "        plt.plot((x, x), (y, y_pred), color='b', alpha=0.2)\n",
    "\n",
    "    y_fire_pred = linear_regression(X_fire, wf_fire)\n",
    "    print('Mean error: {:.2f}'.format(np.mean(np.abs(Y_fire - y_fire_pred))))"
   ]
  },
  {
   "cell_type": "markdown",
   "metadata": {},
   "source": [
    "# Dades multidimensionals sobre les dades\n",
    "\n",
    "En l'apartat anterior tenim un sol valor de $x$ pel qual volíem obtenir un valor de $y$, però en la gran majoria de casos no serà així.\n",
    "\n",
    "En aquest apartat volem trobar una regressió lineal tal que $dim(X) = 6$, i per tant necessitem un total de 7 paràmetres ($dim(w) = 7$)"
   ]
  },
  {
   "cell_type": "code",
   "execution_count": 20,
   "metadata": {},
   "outputs": [
    {
     "data": {
      "text/html": [
       "<div>\n",
       "<style scoped>\n",
       "    .dataframe tbody tr th:only-of-type {\n",
       "        vertical-align: middle;\n",
       "    }\n",
       "\n",
       "    .dataframe tbody tr th {\n",
       "        vertical-align: top;\n",
       "    }\n",
       "\n",
       "    .dataframe thead th {\n",
       "        text-align: right;\n",
       "    }\n",
       "</style>\n",
       "<table border=\"1\" class=\"dataframe\">\n",
       "  <thead>\n",
       "    <tr style=\"text-align: right;\">\n",
       "      <th></th>\n",
       "      <th>Total population (in thousands)</th>\n",
       "      <th>% Change in population</th>\n",
       "      <th>% Change in children</th>\n",
       "      <th>% Free school lunch</th>\n",
       "      <th>% change in household income</th>\n",
       "      <th>Crime rate</th>\n",
       "      <th>% change in crime rate</th>\n",
       "    </tr>\n",
       "  </thead>\n",
       "  <tbody>\n",
       "    <tr>\n",
       "      <th>0</th>\n",
       "      <td>6.9</td>\n",
       "      <td>1.8</td>\n",
       "      <td>30.2</td>\n",
       "      <td>58.3</td>\n",
       "      <td>27.3</td>\n",
       "      <td>84.9</td>\n",
       "      <td>-14.2</td>\n",
       "    </tr>\n",
       "    <tr>\n",
       "      <th>1</th>\n",
       "      <td>8.4</td>\n",
       "      <td>28.5</td>\n",
       "      <td>38.8</td>\n",
       "      <td>87.5</td>\n",
       "      <td>39.8</td>\n",
       "      <td>172.6</td>\n",
       "      <td>-34.1</td>\n",
       "    </tr>\n",
       "    <tr>\n",
       "      <th>2</th>\n",
       "      <td>5.7</td>\n",
       "      <td>7.8</td>\n",
       "      <td>31.7</td>\n",
       "      <td>83.5</td>\n",
       "      <td>26.0</td>\n",
       "      <td>154.2</td>\n",
       "      <td>-15.8</td>\n",
       "    </tr>\n",
       "    <tr>\n",
       "      <th>3</th>\n",
       "      <td>7.4</td>\n",
       "      <td>2.3</td>\n",
       "      <td>24.2</td>\n",
       "      <td>14.2</td>\n",
       "      <td>29.4</td>\n",
       "      <td>35.2</td>\n",
       "      <td>-13.9</td>\n",
       "    </tr>\n",
       "    <tr>\n",
       "      <th>4</th>\n",
       "      <td>8.5</td>\n",
       "      <td>-0.7</td>\n",
       "      <td>28.1</td>\n",
       "      <td>46.7</td>\n",
       "      <td>26.6</td>\n",
       "      <td>69.2</td>\n",
       "      <td>-13.9</td>\n",
       "    </tr>\n",
       "  </tbody>\n",
       "</table>\n",
       "</div>"
      ],
      "text/plain": [
       "   Total population (in thousands)  % Change in population  \\\n",
       "0                              6.9                     1.8   \n",
       "1                              8.4                    28.5   \n",
       "2                              5.7                     7.8   \n",
       "3                              7.4                     2.3   \n",
       "4                              8.5                    -0.7   \n",
       "\n",
       "   % Change in children  % Free school lunch  % change in household income  \\\n",
       "0                  30.2                 58.3                          27.3   \n",
       "1                  38.8                 87.5                          39.8   \n",
       "2                  31.7                 83.5                          26.0   \n",
       "3                  24.2                 14.2                          29.4   \n",
       "4                  28.1                 46.7                          26.6   \n",
       "\n",
       "   Crime rate  % change in crime rate  \n",
       "0        84.9                   -14.2  \n",
       "1       172.6                   -34.1  \n",
       "2       154.2                   -15.8  \n",
       "3        35.2                   -13.9  \n",
       "4        69.2                   -13.9  "
      ]
     },
     "metadata": {},
     "output_type": "display_data"
    }
   ],
   "source": [
    "if __name__ == '__main__':\n",
    "    # Lectura de les dades\n",
    "    dg = pd.read_csv('data/mlr10.csv', index_col=0)\n",
    "    Y_pop = dg.values[:, 0]\n",
    "    X_pop = dg.values[:, 1:]\n",
    "    X_pop = add_bias(X_pop)\n",
    "    display(dg.head())"
   ]
  },
  {
   "cell_type": "code",
   "execution_count": 24,
   "metadata": {},
   "outputs": [
    {
     "name": "stdout",
     "output_type": "stream",
     "text": [
      "10.00K/518.769\n",
      "20.00K/113.748\n",
      "30.00K/36.471\n",
      "40.00K/21.227\n",
      "50.00K/21.196\n",
      "60.00K/21.166\n",
      "70.00K/21.138\n",
      "80.00K/21.111\n",
      "90.00K/21.085\n",
      "100.00K/21.060\n",
      "[[ 0.3938224  -0.03167719  0.14437974 -0.01127143  0.13710748 -0.01219369\n",
      "  -0.07657546]]\n"
     ]
    }
   ],
   "source": [
    "if __name__ == '__main__':\n",
    "    # Parametres per defecte del model\n",
    "    w0 = np.random.normal(size=(1, X_pop.shape[1]))\n",
    "\n",
    "    # Optimització del model\n",
    "    wf_population = gradient_descend(lambda w: model(w, X_pop, Y_pop), w0, 0.0001, max_iter=100000, print_iters=10000) # ~ @20s\n",
    "    print(wf_population)"
   ]
  },
  {
   "cell_type": "code",
   "execution_count": 25,
   "metadata": {},
   "outputs": [],
   "source": [
    "if __name__ == '__main__':\n",
    "    # Utilitzant els paràmetres apresos, obtenim la predicció per a cada punt\n",
    "    y_pop_pred = linear_regression(X_pop, wf_population)"
   ]
  },
  {
   "cell_type": "code",
   "execution_count": 26,
   "metadata": {},
   "outputs": [
    {
     "name": "stdout",
     "output_type": "stream",
     "text": [
      "Mean error: 2.42\n"
     ]
    },
    {
     "data": {
      "image/png": "[encoded data removed]",
      "text/plain": [
       "<Figure size 1440x216 with 1 Axes>"
      ]
     },
     "metadata": {
      "needs_background": "light"
     },
     "output_type": "display_data"
    }
   ],
   "source": [
    "if __name__ == '__main__':\n",
    "    # Visualització de les dades originals i les prediccions\n",
    "    plt.figure(figsize=(20, 3))\n",
    "    plt.scatter(range(Y_pop.shape[0]), Y_pop, color='green', label = 'y')\n",
    "    plt.scatter(range(Y_pop.shape[0]), y_pop_pred, color='red', label = 'y_pred')\n",
    "    plt.xlabel('Samples')\n",
    "    plt.ylabel('Total population')\n",
    "    plt.legend()\n",
    "\n",
    "    for x in range(X_pop.shape[0]):\n",
    "        plt.plot((x, x), (0, 20), '-.', color='gray', alpha=0.2)\n",
    "\n",
    "    print('Mean error: {:.2f}'.format(np.mean(np.abs(Y_pop - y_pop_pred))))"
   ]
  },
  {
   "cell_type": "markdown",
   "metadata": {},
   "source": [
    "# Airbnb: dades reals (a baixa escala)\n",
    "\n",
    "### Airbnb Dataset\n",
    "\n",
    "Les dades amb les que treballarem en aquesta pràctica són dades reals recopilades per *Airbnb*. \n",
    "Aquestes analitzen la informació disponible sobre els llistats d’Airbnb d’una ciutat, proporcionant filtres i mètriques clau perquè pugueu veure com Airbnb s’utilitza per competir amb el mercat d’habitatges residencials.\n",
    "\n",
    "Amb aquestes dades podrieu fer preguntes fonamentals sobre Airbnb a qualsevol barri o a tota la ciutat. Preguntes com:\n",
    "\n",
    "- \"Quants fitxes hi ha al meu barri i on són?\"\n",
    "- \"Quantes cases i apartaments es lloguen amb freqüència a turistes i no a residents a llarg termini?\"\n",
    "- \"Quant costen els hostes des del lloguer als turistes (compareu-ho amb els lloguers a llarg termini)?\"\n",
    "- \"Quins amfitrions tenen una empresa amb diversos llistats i on?\"\n",
    "\n",
    "Les dades inclou dades com:\n",
    "- Quantitat de nits que es lloga una vivenda a l'any.\n",
    "- Estades mínimes.\n",
    "- Quantes habitacions es lloguen en un edifici.\n",
    "- Nombre d’ocupats permesos en un lloguer.\n",
    "\n",
    "En el nostre cas, **volem predir el preu de la vivenda utilitzant el resum donat.**"
   ]
  },
  {
   "cell_type": "code",
   "execution_count": 27,
   "metadata": {},
   "outputs": [],
   "source": [
    "import zipfile\n",
    "from os.path import join, dirname\n",
    "\n",
    "def locate(*path):\n",
    "    base = globals().get('__file__', '.')\n",
    "    return join(dirname(base), *path)\n",
    "\n",
    "def unzip(file):\n",
    "    zip_ref = zipfile.ZipFile(locate(file), 'r')\n",
    "    zip_ref.extractall(locate('data'))\n",
    "    zip_ref.close()\n",
    "\n",
    "def clean(s):\n",
    "    try:\n",
    "        s = s.replace('O', '0').replace(',', '').replace('$', '')\n",
    "        return np.float(s.split()[0])\n",
    "    except:\n",
    "        return np.nan\n",
    "\n",
    "def tobool(s):\n",
    "    return s == 't'\n",
    "\n",
    "if __name__ == '__main__':\n",
    "    def open_airbnb_data(file):\n",
    "        unzip(f'{file}.zip')\n",
    "        \n",
    "        return pd.read_csv(f'data/{file}.csv',\n",
    "            converters={\n",
    "                'zipcode': clean,\n",
    "                'price': clean,\n",
    "                'weekly_price': clean,\n",
    "                'monthly_price': clean,\n",
    "                'host_is_superhost': tobool,\n",
    "                'host_identity_verified': tobool,\n",
    "                'host_has_profile_pic': tobool,\n",
    "                'is_location_exact': tobool,\n",
    "                'has_availability': tobool,\n",
    "                'requires_license': tobool,\n",
    "                'instant_bookable': tobool,\n",
    "                'is_business_travel_ready': tobool,\n",
    "                'require_guest_profile_picture': tobool,\n",
    "                'require_guest_phone_verification': tobool,\n",
    "                'summary': lambda s: s or ''\n",
    "            }\n",
    "        )\n",
    "    \n",
    "    \n",
    "    df_airbnb = open_airbnb_data('data_public')"
   ]
  },
  {
   "cell_type": "code",
   "execution_count": 28,
   "metadata": {},
   "outputs": [
    {
     "data": {
      "text/html": [
       "<div>\n",
       "<style scoped>\n",
       "    .dataframe tbody tr th:only-of-type {\n",
       "        vertical-align: middle;\n",
       "    }\n",
       "\n",
       "    .dataframe tbody tr th {\n",
       "        vertical-align: top;\n",
       "    }\n",
       "\n",
       "    .dataframe thead th {\n",
       "        text-align: right;\n",
       "    }\n",
       "</style>\n",
       "<table border=\"1\" class=\"dataframe\">\n",
       "  <thead>\n",
       "    <tr style=\"text-align: right;\">\n",
       "      <th></th>\n",
       "      <th>Unnamed: 0</th>\n",
       "      <th>id</th>\n",
       "      <th>listing_url</th>\n",
       "      <th>scrape_id</th>\n",
       "      <th>last_scraped</th>\n",
       "      <th>name</th>\n",
       "      <th>summary</th>\n",
       "      <th>space</th>\n",
       "      <th>description</th>\n",
       "      <th>experiences_offered</th>\n",
       "      <th>...</th>\n",
       "      <th>instant_bookable</th>\n",
       "      <th>is_business_travel_ready</th>\n",
       "      <th>cancellation_policy</th>\n",
       "      <th>require_guest_profile_picture</th>\n",
       "      <th>require_guest_phone_verification</th>\n",
       "      <th>calculated_host_listings_count</th>\n",
       "      <th>calculated_host_listings_count_entire_homes</th>\n",
       "      <th>calculated_host_listings_count_private_rooms</th>\n",
       "      <th>calculated_host_listings_count_shared_rooms</th>\n",
       "      <th>reviews_per_month</th>\n",
       "    </tr>\n",
       "  </thead>\n",
       "  <tbody>\n",
       "    <tr>\n",
       "      <th>0</th>\n",
       "      <td>0</td>\n",
       "      <td>18666</td>\n",
       "      <td>https://www.airbnb.com/rooms/18666</td>\n",
       "      <td>20190917034823</td>\n",
       "      <td>2019-09-17</td>\n",
       "      <td>Flat with Sunny Terrace</td>\n",
       "      <td>Apartment located near the \"Plaza de las Glori...</td>\n",
       "      <td>Nice apartment situated on the penthouse floor...</td>\n",
       "      <td>Apartment located near the \"Plaza de las Glori...</td>\n",
       "      <td>none</td>\n",
       "      <td>...</td>\n",
       "      <td>False</td>\n",
       "      <td>False</td>\n",
       "      <td>flexible</td>\n",
       "      <td>False</td>\n",
       "      <td>False</td>\n",
       "      <td>31</td>\n",
       "      <td>31</td>\n",
       "      <td>0</td>\n",
       "      <td>0</td>\n",
       "      <td>0.02</td>\n",
       "    </tr>\n",
       "    <tr>\n",
       "      <th>1</th>\n",
       "      <td>1</td>\n",
       "      <td>18674</td>\n",
       "      <td>https://www.airbnb.com/rooms/18674</td>\n",
       "      <td>20190917034823</td>\n",
       "      <td>2019-09-17</td>\n",
       "      <td>Huge flat for 8 people close to Sagrada Familia</td>\n",
       "      <td>110m2 apartment to rent in Barcelona. Located ...</td>\n",
       "      <td>Apartment with 110 m2 located in the 6th floor...</td>\n",
       "      <td>110m2 apartment to rent in Barcelona. Located ...</td>\n",
       "      <td>none</td>\n",
       "      <td>...</td>\n",
       "      <td>True</td>\n",
       "      <td>False</td>\n",
       "      <td>strict_14_with_grace_period</td>\n",
       "      <td>False</td>\n",
       "      <td>False</td>\n",
       "      <td>31</td>\n",
       "      <td>31</td>\n",
       "      <td>0</td>\n",
       "      <td>0</td>\n",
       "      <td>0.21</td>\n",
       "    </tr>\n",
       "    <tr>\n",
       "      <th>2</th>\n",
       "      <td>2</td>\n",
       "      <td>21605</td>\n",
       "      <td>https://www.airbnb.com/rooms/21605</td>\n",
       "      <td>20190917034823</td>\n",
       "      <td>2019-09-17</td>\n",
       "      <td>Nice and sunny duble room</td>\n",
       "      <td>The flat is in Poblenou district, and the room...</td>\n",
       "      <td>L'apartament està al barri de Poblenou, i l'ha...</td>\n",
       "      <td>The flat is in Poblenou district, and the room...</td>\n",
       "      <td>none</td>\n",
       "      <td>...</td>\n",
       "      <td>False</td>\n",
       "      <td>False</td>\n",
       "      <td>moderate</td>\n",
       "      <td>False</td>\n",
       "      <td>False</td>\n",
       "      <td>2</td>\n",
       "      <td>0</td>\n",
       "      <td>2</td>\n",
       "      <td>0</td>\n",
       "      <td>3.05</td>\n",
       "    </tr>\n",
       "    <tr>\n",
       "      <th>3</th>\n",
       "      <td>3</td>\n",
       "      <td>23197</td>\n",
       "      <td>https://www.airbnb.com/rooms/23197</td>\n",
       "      <td>20190917034823</td>\n",
       "      <td>2019-09-17</td>\n",
       "      <td>FORUM DELUXE 5 MINS WALK  CCIB CENTER &amp; SEA!</td>\n",
       "      <td>I do not accept groups of young people under 2...</td>\n",
       "      <td>Elegant spacious apartment suitable for 6. Amp...</td>\n",
       "      <td>I do not accept groups of young people under 2...</td>\n",
       "      <td>none</td>\n",
       "      <td>...</td>\n",
       "      <td>True</td>\n",
       "      <td>False</td>\n",
       "      <td>strict_14_with_grace_period</td>\n",
       "      <td>False</td>\n",
       "      <td>True</td>\n",
       "      <td>2</td>\n",
       "      <td>2</td>\n",
       "      <td>0</td>\n",
       "      <td>0</td>\n",
       "      <td>0.47</td>\n",
       "    </tr>\n",
       "    <tr>\n",
       "      <th>4</th>\n",
       "      <td>4</td>\n",
       "      <td>25786</td>\n",
       "      <td>https://www.airbnb.com/rooms/25786</td>\n",
       "      <td>20190917034823</td>\n",
       "      <td>2019-09-17</td>\n",
       "      <td>NICE ROOM AVAILABLE IN THE HEART OF GRACIA</td>\n",
       "      <td>JUST GO THROUGH THE MANY REVIEWS I GOT THROUGH...</td>\n",
       "      <td>Room available for rent.-  PEDRO PEREZ.  Share...</td>\n",
       "      <td>JUST GO THROUGH THE MANY REVIEWS I GOT THROUGH...</td>\n",
       "      <td>none</td>\n",
       "      <td>...</td>\n",
       "      <td>True</td>\n",
       "      <td>False</td>\n",
       "      <td>strict_14_with_grace_period</td>\n",
       "      <td>True</td>\n",
       "      <td>True</td>\n",
       "      <td>1</td>\n",
       "      <td>0</td>\n",
       "      <td>1</td>\n",
       "      <td>0</td>\n",
       "      <td>2.29</td>\n",
       "    </tr>\n",
       "  </tbody>\n",
       "</table>\n",
       "<p>5 rows × 107 columns</p>\n",
       "</div>"
      ],
      "text/plain": [
       "   Unnamed: 0     id                         listing_url       scrape_id  \\\n",
       "0           0  18666  https://www.airbnb.com/rooms/18666  20190917034823   \n",
       "1           1  18674  https://www.airbnb.com/rooms/18674  20190917034823   \n",
       "2           2  21605  https://www.airbnb.com/rooms/21605  20190917034823   \n",
       "3           3  23197  https://www.airbnb.com/rooms/23197  20190917034823   \n",
       "4           4  25786  https://www.airbnb.com/rooms/25786  20190917034823   \n",
       "\n",
       "  last_scraped                                             name  \\\n",
       "0   2019-09-17                          Flat with Sunny Terrace   \n",
       "1   2019-09-17  Huge flat for 8 people close to Sagrada Familia   \n",
       "2   2019-09-17                        Nice and sunny duble room   \n",
       "3   2019-09-17     FORUM DELUXE 5 MINS WALK  CCIB CENTER & SEA!   \n",
       "4   2019-09-17       NICE ROOM AVAILABLE IN THE HEART OF GRACIA   \n",
       "\n",
       "                                             summary  \\\n",
       "0  Apartment located near the \"Plaza de las Glori...   \n",
       "1  110m2 apartment to rent in Barcelona. Located ...   \n",
       "2  The flat is in Poblenou district, and the room...   \n",
       "3  I do not accept groups of young people under 2...   \n",
       "4  JUST GO THROUGH THE MANY REVIEWS I GOT THROUGH...   \n",
       "\n",
       "                                               space  \\\n",
       "0  Nice apartment situated on the penthouse floor...   \n",
       "1  Apartment with 110 m2 located in the 6th floor...   \n",
       "2  L'apartament està al barri de Poblenou, i l'ha...   \n",
       "3  Elegant spacious apartment suitable for 6. Amp...   \n",
       "4  Room available for rent.-  PEDRO PEREZ.  Share...   \n",
       "\n",
       "                                         description experiences_offered  \\\n",
       "0  Apartment located near the \"Plaza de las Glori...                none   \n",
       "1  110m2 apartment to rent in Barcelona. Located ...                none   \n",
       "2  The flat is in Poblenou district, and the room...                none   \n",
       "3  I do not accept groups of young people under 2...                none   \n",
       "4  JUST GO THROUGH THE MANY REVIEWS I GOT THROUGH...                none   \n",
       "\n",
       "         ...         instant_bookable is_business_travel_ready  \\\n",
       "0        ...                    False                    False   \n",
       "1        ...                     True                    False   \n",
       "2        ...                    False                    False   \n",
       "3        ...                     True                    False   \n",
       "4        ...                     True                    False   \n",
       "\n",
       "           cancellation_policy require_guest_profile_picture  \\\n",
       "0                     flexible                         False   \n",
       "1  strict_14_with_grace_period                         False   \n",
       "2                     moderate                         False   \n",
       "3  strict_14_with_grace_period                         False   \n",
       "4  strict_14_with_grace_period                          True   \n",
       "\n",
       "  require_guest_phone_verification calculated_host_listings_count  \\\n",
       "0                            False                             31   \n",
       "1                            False                             31   \n",
       "2                            False                              2   \n",
       "3                             True                              2   \n",
       "4                             True                              1   \n",
       "\n",
       "   calculated_host_listings_count_entire_homes  \\\n",
       "0                                           31   \n",
       "1                                           31   \n",
       "2                                            0   \n",
       "3                                            2   \n",
       "4                                            0   \n",
       "\n",
       "   calculated_host_listings_count_private_rooms  \\\n",
       "0                                             0   \n",
       "1                                             0   \n",
       "2                                             2   \n",
       "3                                             0   \n",
       "4                                             1   \n",
       "\n",
       "  calculated_host_listings_count_shared_rooms  reviews_per_month  \n",
       "0                                           0               0.02  \n",
       "1                                           0               0.21  \n",
       "2                                           0               3.05  \n",
       "3                                           0               0.47  \n",
       "4                                           0               2.29  \n",
       "\n",
       "[5 rows x 107 columns]"
      ]
     },
     "metadata": {},
     "output_type": "display_data"
    },
    {
     "name": "stdout",
     "output_type": "stream",
     "text": [
      "(18904, 107)\n"
     ]
    }
   ],
   "source": [
    "if __name__ == '__main__':\n",
    "    display(df_airbnb.head())\n",
    "    print(df_airbnb.shape)"
   ]
  },
  {
   "cell_type": "markdown",
   "metadata": {},
   "source": [
    "### Bag-of-words\n",
    "\n",
    "Per tal de poder treballar amb text haurem de crear un vector que representi allò que hi està escrit.\n",
    "Aquesta idea s'anomena **bag-of-words** i és una representació simplificadora que s’utilitza en el processament de llenguatges naturals i la recuperació d’informació (IR). \n",
    "En aquest model, un text (com una frase o un document) es representa com la bossa (multiset) de les seves paraules, prescindint de la gramàtica i fins i tot de l'ordre de les paraules, però mantenint la multiplicitat. \n",
    "\n",
    "Aquest s’utilitza habitualment en mètodes de classificació o regressió de documents on l’ocurrència (freqüència de) de cada paraula s’utilitza com a característica per entrenar un predictor.\n",
    "\n",
    "**PipeLine:**\n",
    "\n",
    "```Python\n",
    "text = 'Apartment located near the \"Plaza de las Glorias\". Great apartament in Barcelona', ...\n",
    "```\n",
    "Un cop tinguem les nostres dades, hem de passar pel procés de neteja. Per als conjunts de dades de text en general, això inclou sovint:\n",
    "- Eliminació de la puntuació.\n",
    "- Eliminació de les paraules d'aturada, en anglès *stopword*, (coses com \"el\", \"això\", \"què\").\n",
    "- Stemming / lematization (reduir les paraules a la seva forma base eliminant sufixos com \"-ed\", \"-ing\", plurals...) (MÉS AVANÇAT).\n",
    "\n",
    "A més, el tracte de text i comentaris en línia requereix una eliminació addicional d’elements com hiperenllaços, noms d’usuari i missatges automatitzats (el comentari més comú en aquest conjunt de dades era un missatge de benvinguda de Wikipedia per als nous usuaris).\n",
    "\n",
    "```Python\n",
    "# Tokenització\n",
    "tok = [['apartment', 'located', 'near', 'the', 'plaza', 'de', 'las', 'glorias', 'great', 'apartament', 'in', 'barcelona'], ... ]\n",
    "\n",
    "# Paraules Comuns (Suposem 3)\n",
    "com = ['apartament', 'Barcelona', 'airport']\n",
    "```\n",
    "\n",
    "Per convertir les paraules en quelcom que un algorisme d’aprenentatge automàtic pugui comprendre i processar, hem de vectoritzar. En poques paraules, aquest és el procés de convertir les paraules en vectors multidimensionals de tal manera que el significat o el context de la paraula es correlaciona amb aquest vector. En cert sentit, la vectorització permet als ordinadors quantificar el significat de les paraules mapant significats de paraules similars a espais vectorials similars.\n",
    "\n",
    "```Python\n",
    "# Vector de característiques\n",
    "feats = [\n",
    "    np.array([1, 1, 0]), # els 1 representes que la paraula està a la frase i els 0 que no.\n",
    "    ...\n",
    "]\n",
    "```"
   ]
  },
  {
   "cell_type": "code",
   "execution_count": 29,
   "metadata": {},
   "outputs": [
    {
     "name": "stdout",
     "output_type": "stream",
     "text": [
      "[nltk_data] Downloading package punkt to\n",
      "[nltk_data]     C:\\Users\\marti\\AppData\\Roaming\\nltk_data...\n",
      "[nltk_data]   Package punkt is already up-to-date!\n",
      "[nltk_data] Downloading package stopwords to\n",
      "[nltk_data]     C:\\Users\\marti\\AppData\\Roaming\\nltk_data...\n",
      "[nltk_data]   Package stopwords is already up-to-date!\n"
     ]
    }
   ],
   "source": [
    "from nltk.corpus import stopwords\n",
    "from nltk.tokenize import word_tokenize\n",
    "import string\n",
    "\n",
    "import nltk\n",
    "nltk.download('punkt')\n",
    "nltk.download('stopwords')\n",
    "\n",
    "def tokenize(df):\n",
    "    \"\"\"\n",
    "    Funció que donat el dataframe amb les dades d'Airbnb retorna\n",
    "    una llista de llistes on cada subllista conté les paraules\n",
    "    tokenitzades del text extret de la columna \"summary\".\n",
    "    \n",
    "    Per facilitar la feina de la tokenització podeu utilizar les stopwords \n",
    "    que venen amb la llibreria nltk i la funció word_tokenize.\n",
    "    \n",
    "    :param df: DataFrame que conté el dataset\n",
    "    :return : Llista de llistes amb la informació indicada\n",
    "    \"\"\"\n",
    "    # Creem set de paraules que no afegirem (puntuació, anglès, espanyol i números)\n",
    "    punctuation = set(string.punctuation).union({'``', \"''\", '...', '’'})\n",
    "    stop_words = set(stopwords.words('english')).union(set(stopwords.words('spanish')), {\"'s\"})\n",
    "    numbers = set([str(x) for x in range(100)])\n",
    "    dirty_words = stop_words.union(punctuation, numbers)\n",
    "    # Creem la llista de llistes amb les paraules útils\n",
    "    descriptions = df[\"summary\"].tolist()\n",
    "    filtered_descriptions = [[w.lower() for w in word_tokenize(description) if w.lower() not in dirty_words] \\\n",
    "                             for description in descriptions]\n",
    "\n",
    "    return filtered_descriptions"
   ]
  },
  {
   "cell_type": "code",
   "execution_count": 30,
   "metadata": {},
   "outputs": [],
   "source": [
    "from collections import Counter\n",
    "def most_common(tokens, n):\n",
    "    \"\"\"\n",
    "    Funció que retorna les n parales més frequents a partir dels tokens\n",
    "    \n",
    "    :param tokens: Tokens obtinguts amb `tokenize`\n",
    "    :param n: Int, nombre d'elements que es demanen retornar\n",
    "    :return: Llista amb el top n elements\n",
    "    \"\"\"\n",
    "    #Mirar que no retorni numeros\n",
    "    \n",
    "    flatList = [item for elem in tokens for item in elem]\n",
    "    counts = Counter(flatList)\n",
    "    return [w for w, m in counts.most_common(n)]"
   ]
  },
  {
   "cell_type": "code",
   "execution_count": 31,
   "metadata": {},
   "outputs": [
    {
     "name": "stdout",
     "output_type": "stream",
     "text": [
      "['apartment', 'barcelona', 'room', 'located', 'double', 'area', 'bed', 'bedroom', 'people', 'minutes']\n"
     ]
    }
   ],
   "source": [
    "print(most_common(tokenize(df_airbnb.head(100)), 10))"
   ]
  },
  {
   "cell_type": "code",
   "execution_count": 32,
   "metadata": {},
   "outputs": [],
   "source": [
    "def get_features(df, tokens, most_common_tokens):\n",
    "    \"\"\"\n",
    "    Funció que retorna un vector de 0 i 1 per cadascuna de les entrades del dataset,\n",
    "    en funció de si les paraules comunes es troben o no entre els tokens.\n",
    "    \n",
    "    Per a cada dada, mirarem si quines de les paraules comunes apareixen entre els tokens,\n",
    "    posant un 1 a les que sí i un 0 a les que no.\n",
    "    \n",
    "    Cada dada tindrà, a més dels 0/1 corresponents a les N paraules més comunes, una columna\n",
    "    més, corresponent a la columna 'require_guest_phone_verification' de 'df'. Per tant,\n",
    "    el retorn per cada dada serà\n",
    "    [0, 1, .........., 0,         1         ]\n",
    "    |N tokens més comuns, columna addicional|\n",
    "    \n",
    "    *Únicament es permeten bucles pel càlcul dels 0/1s dels tokens*\n",
    "    \n",
    "    :param df: DataFrame que conté el dataset\n",
    "    :param tokens: Tokens per cada entrada del dataset\n",
    "    :param most_common_tokens: N tokens més comuns\n",
    "    :return : Matriu de característiques de cada entrada del dataset, incloent els\n",
    "        0/1s dels tokens i la columna 'require_guest_phone_verification'\n",
    "    \"\"\"\n",
    "    \n",
    "    features = np.zeros((df.shape[0], len(most_common_tokens)))\n",
    "    for i in range(features.shape[0]):\n",
    "        for j in range(features.shape[1]):\n",
    "            if most_common_tokens[j] in tokens[i]:\n",
    "                features[i, j] = 1\n",
    "    # Triga un 22% menys afegint la ultima columna així\n",
    "    phone = np.array([np.array(df['require_guest_phone_verification'], dtype='int')]).T\n",
    "    \n",
    "    return np.hstack((features, phone))"
   ]
  },
  {
   "cell_type": "code",
   "execution_count": 33,
   "metadata": {
    "scrolled": false
   },
   "outputs": [
    {
     "name": "stdout",
     "output_type": "stream",
     "text": [
      "['apartment', 'barcelona', 'room', 'located', 'double', 'area', 'bed', 'bedroom', 'people', 'minutes', 'metro', 'floor', 'quiet', 'center', 'kitchen', 'free', 'city', 'sagrada', 'one', 'familia', 'wifi', 'great', 'beach', 'bathroom', 'single', 'stay', 'also', 'walk', 'private', 'two', 'sant', 'bedrooms', 'plaza', 'close', 'next', 'restaurants', 'centre', 'spacious', 'flat', 'large', 'walking', 'bright', 'enjoy', 'building', 'catalunya', 'capacity', 'tv', 'beautiful', 'tourist', 'views', 'lovely', 'well', 'terrace', 'away', 'wi-fi', 'place', 'modern', 'situated', 'street', 'beds', 'guests', 'comfortable', 'charming', 'ramblas', 'neighbourhood', 'near', 'licence', 'number', 'rent', 'min', 'many', 'washing', 'machine', 'sofa', 'park', 'gracia', 'bars', 'cozy', 'breakfast', 'towels', 'bus', 'lines', 'distance', 'shops', 'need', 'living', 'neighborhood', 'space', 'stop', 'fully', 'andreu', 'district', 'balcony', 'subway', 'line', 'equipped', 'air', 'right', 'family', 'famous']\n",
      "[[1. 1. 0. ... 0. 0. 0.]\n",
      " [1. 1. 0. ... 0. 0. 0.]\n",
      " [0. 0. 1. ... 0. 0. 0.]\n",
      " ...\n",
      " [0. 1. 1. ... 1. 0. 0.]\n",
      " [1. 0. 0. ... 0. 0. 0.]\n",
      " [1. 0. 0. ... 0. 0. 0.]]\n",
      "3.35 ms ± 52 µs per loop (mean ± std. dev. of 7 runs, 100 loops each)\n"
     ]
    }
   ],
   "source": [
    "df = df_airbnb.head(100)\n",
    "tokens = tokenize(df)\n",
    "most = most_common(tokens, 100)\n",
    "print(most)\n",
    "print(get_features(df, tokens, most))\n",
    "# Doble bucle, 100 apartments, 100 paraules: 3.31 ms ± 22.5 µs\n",
    "# Doble bucle, tots apartments, 100 paraules: 735 ms ± 2.5 ms\n",
    "# List comprehension, 100 apartments, 100 paraules: 32.6 ms ± 123 µs\n",
    "%timeit get_features(df, tokens, most)"
   ]
  },
  {
   "cell_type": "markdown",
   "metadata": {},
   "source": [
    "El resultat serà un *np.array* (no necessàriament amb aquest valors):\n",
    "\n",
    "```python\n",
    "np.array([\n",
    "    np.array([0, 1, 1, 0, ...]), # 1r Summary\n",
    "    np.array([0, 1, 1, 1, ...]), # 2n Summary\n",
    "    ...\n",
    "])\n",
    "```"
   ]
  },
  {
   "cell_type": "markdown",
   "metadata": {},
   "source": [
    "### Partició de dades\n",
    "\n",
    "En l'aprenentatge automàtic, una tasca habitual és l'estudi i la construcció d'algorismes que poden aprendre i fer prediccions sobre dades. Aquests algoritmes funcionen fent prediccions o decisions basades en dades, mitjançant la creació d'un model matemàtic a partir de dades d'entrada.\n",
    "\n",
    "Les dades que s’utilitzen per construir el model final normalment provenen de múltiples conjunts de dades. En particular, dos conjunts de dades s’utilitzen habitualment en diferents etapes de la creació del model: dades d'entrenament (train) i de prova (test).\n",
    "\n",
    "El model s’adapta inicialment a un conjunt de dades d’entrenament, que és un conjunt d’exemples que s’utilitzen per ajustar els paràmetres (per exemple, pesos del model de regressió linal) del model. \n",
    "El model es forma en el **conjunt de dades d’entrenament** que sovint consisteix en parells d’un vector d’entrada (o escalar) i el vector de sortida corresponent (o escalar), que es denomina habitualment com a objectiu (o etiqueta). El model actual s'executa amb el conjunt de dades d'entrenament i produeix un resultat, que es compara després amb l'objectiu, per a cada vector d'entrada del conjunt de dades d'entrenament. A partir del resultat de la comparació i de l'algorisme d'aprenentatge específic que s'utilitza, s'ajusten els paràmetres del model. L'adaptació del model pot incloure selecció de variables i estimació de paràmetres.\n",
    "\n",
    "El **conjunt de dades de prova** és un conjunt de dades utilitzat per proporcionar una avaluació imparcial d’un model. Si les dades de prova no s’han utilitzat mai durant l'entrenament, el resultats representa el comportament esperat del model.\n",
    "\n",
    "A continuació heu d'implementar la funció *split* que crea aquesta partició de dades."
   ]
  },
  {
   "cell_type": "code",
   "execution_count": 34,
   "metadata": {},
   "outputs": [],
   "source": [
    "def split(X, Y, train_percent, random_seed=None):\n",
    "    \"\"\"\n",
    "    Divideix el conjunt de dades en dos subconjunts aleatoris diferents, sense\n",
    "    intersecció.\n",
    "    La divisió es fa conjuntament en X i Y, és a dir, donat una dada x de X,\n",
    "    la seva corresponent y en Y es troba en el mateix conjunt\n",
    "    X = [[1, 2, 3], [2, 3, 1], ..., [1, 4, 5]]\n",
    "    Y = [1, 2, ..., 5]\n",
    "    \n",
    "    Train: X = [[1, 2, 3], [1, 4, 5]]; Y = [1, 5]\n",
    "    Test:  X = [[2, 3, 1]]; Y = [2]\n",
    "    \n",
    "    :param X: Dades del model\n",
    "    :param Y: Corresponents valors a predir\n",
    "    :param train_percent: Percentatge entre 0 i 1, indicant el nombre\n",
    "        d'elements que contindrà el conjunt de train\n",
    "    :param random_seed: En cas de que sigui necessari (no és obligatori fer-ho servir), \n",
    "        per fixar el comporament de random\n",
    "    :return: Una llista/tupla que contingui, en aquest ordre, \n",
    "        * Conjunt train X [NDadesTrain, NFeatures]\n",
    "        * Conjunt test X [NDadesTest, NFeatures]\n",
    "        * Conjunt train Y [NDadesTrain]\n",
    "        * Conjunt test Y [NDadesTest]\n",
    "    \"\"\"\n",
    "\n",
    "    long = len(X)\n",
    "    integers = list(range(long)) #Fem una llista d'enters de mida len(X) i els movem aleatoriament.\n",
    "    random.shuffle(integers) #Els train_num primers seran per train, els altres per test.\n",
    "    train_num = int(long * train_percent)\n",
    "    train_X = np.array([X[integers[i]] for i in range(train_num)])\n",
    "    train_Y = np.array([Y[integers[i]] for i in range(train_num)])\n",
    "    test_X = np.array([X[integers[i+train_num]] for i in range(long-train_num)])\n",
    "    test_Y = np.array([Y[integers[i+train_num]] for i in range(long-train_num)])\n",
    "\n",
    "    return [train_X, test_X, train_Y, test_Y]"
   ]
  },
  {
   "cell_type": "markdown",
   "metadata": {},
   "source": [
    "Abans de generar els conjunts d'entrenament i prova cal generar els vectors que representen cada entrada de les dades."
   ]
  },
  {
   "cell_type": "code",
   "execution_count": 36,
   "metadata": {},
   "outputs": [],
   "source": [
    "if __name__ == '__main__':\n",
    "    tok = tokenize(df_airbnb)\n",
    "    com = most_common(tok, 100)\n",
    "    feats = get_features(df_airbnb, tok, com)"
   ]
  },
  {
   "cell_type": "code",
   "execution_count": 37,
   "metadata": {},
   "outputs": [],
   "source": [
    "if __name__ == '__main__':\n",
    "    # Valors amb els que predirem el preu de la vivenda\n",
    "    X = add_bias(feats)\n",
    "\n",
    "    # Valors reals de la vivenda\n",
    "    Y = df_airbnb['price'].values\n",
    "\n",
    "    # Partim en train i test\n",
    "    X_train, X_test, Y_train, Y_test = split(X, Y, train_percent=0.80)"
   ]
  },
  {
   "cell_type": "code",
   "execution_count": 38,
   "metadata": {},
   "outputs": [
    {
     "name": "stdout",
     "output_type": "stream",
     "text": [
      "1.00K/58726.653\n",
      "2.00K/58020.246\n",
      "3.00K/57559.530\n",
      "4.00K/57281.733\n",
      "5.00K/57143.318\n",
      "6.00K/57107.075\n",
      "7.00K/57107.072\n",
      "8.00K/57107.072\n",
      "9.00K/57107.072\n",
      "10.00K/57107.072\n",
      "11.00K/57107.072\n",
      "12.00K/57107.072\n",
      "13.00K/57107.072\n",
      "14.00K/57107.072\n",
      "15.00K/57107.072\n",
      "16.00K/57107.072\n",
      "17.00K/57107.072\n",
      "18.00K/57107.072\n",
      "19.00K/57107.072\n",
      "20.00K/57107.072\n"
     ]
    }
   ],
   "source": [
    "if __name__ == '__main__':\n",
    "    # Parametres per defecte del model\n",
    "    w0 = np.random.normal(size=(1, X.shape[1]))\n",
    "\n",
    "    # Optimització del model sobre train\n",
    "    wf = gradient_descend(lambda w: model(w, X_train, Y_train), w0, 0.1, max_iter=20000, print_iters=1000) # ~ @2min\n",
    "\n",
    "    # Realitzem la predicció sobre test\n",
    "    y_pred = linear_regression(X_test, wf)"
   ]
  },
  {
   "cell_type": "code",
   "execution_count": 39,
   "metadata": {},
   "outputs": [
    {
     "name": "stdout",
     "output_type": "stream",
     "text": [
      "Mean error: 142.13\n"
     ]
    },
    {
     "data": {
      "image/png": "[encoded data removed]",
      "text/plain": [
       "<Figure size 1440x216 with 1 Axes>"
      ]
     },
     "metadata": {
      "needs_background": "light"
     },
     "output_type": "display_data"
    }
   ],
   "source": [
    "if __name__ == '__main__':\n",
    "    # Mostrem únicament 100 dades en el gràfic\n",
    "    size = 100\n",
    "    sample = np.random.choice(X_test.shape[0], size=size, replace=False)\n",
    "\n",
    "    # Mínima i màxima Y a mostrar en el gràfic\n",
    "    miny = np.minimum(y_pred[sample].min(), Y_test[sample].min()) - 10\n",
    "    maxy = np.maximum(y_pred[sample].max(), Y_test[sample].max()) + 1e3\n",
    "\n",
    "    # Visualització de les dades originals i les prediccions\n",
    "    plt.figure(figsize=(20, 3))\n",
    "    plt.scatter(range(size), Y_test[sample], color='green', label = 'price')\n",
    "    plt.scatter(range(size), y_pred[sample], color='red', label = 'pred_price')\n",
    "    plt.xlabel('100 random samples')\n",
    "    plt.ylabel('Total population (log scale)')\n",
    "    plt.yscale('symlog')\n",
    "    plt.ylim([miny, maxy])\n",
    "    plt.grid(axis='y', which='minor', alpha=0.2)\n",
    "    plt.grid(axis='y', which='major', alpha=0.3)\n",
    "    plt.legend()\n",
    "\n",
    "    for x in range(size):\n",
    "        plt.plot((x, x), (miny, maxy), '-.', color='gray', alpha=0.2)\n",
    "\n",
    "    print('Mean error: {:.2f}'.format(np.mean(np.abs(Y_test - y_pred))))"
   ]
  },
  {
   "cell_type": "markdown",
   "metadata": {},
   "source": [
    "# Millores i Kaggle\n",
    "\n",
    "### ** Dels següents punts és obligatori implementar-ne dos per la pràctica, fes-ho en noves cel·les al final del notebook, no modifiquis les anteriors.**\n",
    "#### **Per Kaggle pots duplicar el notebook i implementar tants punts com vulguis.**\n",
    "\n",
    "Cap de les implementacions que facis pot modificar la regressió lineal en sí mateixa (la funció `linear_regression`) de forma que:\n",
    "\n",
    "* Tingui més paràmetres que la $w$ ja existent\n",
    "* Afegeixi més complexitat al model\n",
    "\n",
    "Dit això, es proposa:\n",
    "\n",
    "\n",
    "**Martí: Imparells**\n",
    "\n",
    "**Oscar: Parells**\n",
    "\n",
    "\n",
    "1. Donat el tipus de dades, té sentit que la regressió lineal dongui nombres negatius? Compta si decideixes controlar-ho a nivell de la fòrmula de la regressió (vs a nivell dels valors predits), potser el model tendirà a modelar els outliers (valors fora del normal/mitja/distribució) enlloc dels elements representatius.\n",
    "\n",
    "* Tokenitza i busca tokens més comuns no solament a `summary`, sinó també a les altres columnes que contenen text.\n",
    "\n",
    "* Afegeix més features al vector X. El model s'entrena amb les característiques extretes de la columna `summary` i `require_guest_phone_verification`, però perque no fer-ne servir més?\n",
    "> Tingues en compte que no pots agafar cap de les columnes de preu (`price`, `weekly_price`, `monthly_price`, `security_deposit`, `cleaning_fee` i `extra_people`), ja que en les dades de Kaggle no està disponible\n",
    "\n",
    "* Segons quines dades agafis, és possible que els valors de la característiquis siguin molt dispars. Per exemple, una columna pot tenir de màxim 1 però una altra podria tenir 1000. Normalitza aquests valors de forma que tots tinguin el mateix màxim i mínim. Pots normalitzar també el vector a predir Y, sempre i quan ho tinguis en compte en les noves prediccions.\n",
    "\n",
    "* La regressió lineal, com el nom indica, és un model lineal, i per tant està limitat amb el tipus de dades que pot representar. Per exemple, generalment, no pot modelar adequadament dades exponencials, logarístimiques, quadràtiques, etc. Això, però, es pot mitigar mitjançant les característiques que es passen al model. Per exemple, si l'entrada és $x$, podríem ampliar aquesta entrada a $(x, x^2)$, on la segona part és simplement cada una de les característiques al quadrat. D'igual forma, podríem ampliar indefinidament $(x, x^2, log(x), e^x, ...)$, però evidentment el cost computacional i el temps d'entrenament creixen, i la millora cada cop és més marginal, si n'hi ha.\n",
    "\n",
    "* Filtra les dades per evitar utilitzar outliers, de forma que no afectin en l'entrenament.\n",
    "\n",
    "* Fes una millor selecció de tokens, ens interessen totes les paraules? Tot i que no siguin stopwords, volem tots els números, símbols, etc.?\n",
    "\n",
    "* Per regressió es poden triar múltiples funcions d'error. Aquí estem fent simplement la distància euclidea, però es pot estudiar l'ús d'altres com: Mean Squared Error, Mean Absolute Error, Huber Loss, d'entre altres. Algunes d'elles són més robustes contra outliers, d'altres més sensibles.\n",
    "\n",
    "* Els paràmetres inicials es trien random segons una distribució normal $N(0, 1)$, són adequats donats els valors de les característiques i de l'output que esperem? Normalitzar tant $X$ com $Y$ pot ajudar a que ho siguin, en cas que no ho facis, aquests valors poden allargar/dificultar el procés.\n",
    "\n",
    "* Selecciona un nombre diferent de tokens més comuns. Inicialment utilitzem 100, són masses/pocs? Compte amb el cost computacional.\n",
    "\n",
    "* Hem utilitzat la forma binomial de bag of words, és a dir 0 o 1, però es podria mirar si implementar la multinomial (0-n, on n és el nombre d'aparicions), ajuda en l'entrenament.\n",
    "\n",
    "* Bag of words és una forma bastant naive de tractar el text. Una millora, que no implica grans canvis en el codi, és implementar TF-IDF.\n",
    "\n",
    "* A part d'intentar trobar una alpha òptima (en el sentit de temps inverit vs distància moguda), pots implementar una que aquest pas decaigui amb el temps. Per exemple, pots implementar una caiguda exponencial. Sigui $\\alpha_0$ el pas inicial, $it$ la iteració actual, $0 < \\beta < 1$ la caiguda que realitza i $\\gamma > 0$ el nombre d'iteracions cada quan s'aplica\n",
    "$$\\alpha = \\alpha_0 \\cdot \\beta ^ {\\frac{it}{\\gamma}}$$\n",
    "El plot mostra el comportament al llarg de les iteracions. Aplicant una divisó entera enlloc de flotant, es pot aconseguir un efecte \"escala\" enlloc de continu."
   ]
  },
  {
   "cell_type": "code",
   "execution_count": 40,
   "metadata": {},
   "outputs": [
    {
     "data": {
      "image/png": "[encoded data removed]",
      "text/plain": [
       "<Figure size 1440x216 with 1 Axes>"
      ]
     },
     "metadata": {
      "needs_background": "light"
     },
     "output_type": "display_data"
    }
   ],
   "source": [
    "if __name__ == '__main__':\n",
    "    alpha_0 = 1\n",
    "    beta = 0.95\n",
    "    gamma = 10000\n",
    "\n",
    "    iters = np.arange(1e6)\n",
    "    plt.figure(figsize=(20, 3))\n",
    "    plt.plot(iters, alpha_0 * beta ** (iters / gamma), color='b')\n",
    "    plt.plot(iters, alpha_0 * beta ** (iters // gamma), color='orange')"
   ]
  },
  {
   "cell_type": "markdown",
   "metadata": {},
   "source": [
    "### Codi per Kaggle\n",
    "\n",
    "Suposant que has trobat un model adequat a partir del teu split train/test, ara s'entrena un model igual (modifica el codi apropiadament) amb totes les dades.\n",
    "\n",
    "Amb aquest model final, es prediu sobre el conjunt de dades de Kaggle i es guarda el resultat. Tingueu en compte que el resultat que us mostrarà Kaggle és **sobre un 30% de les totes les dades que envieu**. Si baseu tot el model en els nombres que us digui Kaggle, estareu cometent un greu error, doncs no generalitzarà al 70% restant. Per trobar el millor model i provar les diferents millores, utilitzeu el vostre split train/test.\n",
    "\n",
    "https://www.kaggle.com/t/e5f6d1562dea41e68a53af9627646552"
   ]
  },
  {
   "cell_type": "code",
   "execution_count": 41,
   "metadata": {},
   "outputs": [],
   "source": [
    "if __name__ == '__main__':\n",
    "    # Obtenim les features de les dades de Kaggle\n",
    "    df_kaggle = open_airbnb_data('data_kaggle')\n",
    "    \n",
    "    # Tokenitzem, agafant els més comuns que hem trobat abans\n",
    "    tok_kaggle = tokenize(df_kaggle)\n",
    "    feats_kaggle = get_features(df_kaggle, tok_kaggle, com)\n",
    "    \n",
    "    # Valors amb els que predirem el preu de la vivenda\n",
    "    X_kaggle = add_bias(feats_kaggle)"
   ]
  },
  {
   "cell_type": "code",
   "execution_count": 42,
   "metadata": {},
   "outputs": [
    {
     "name": "stdout",
     "output_type": "stream",
     "text": [
      "1.00K/67421.133\n",
      "2.00K/67360.747\n",
      "3.00K/67301.026\n",
      "4.00K/67241.972\n",
      "5.00K/67183.585\n"
     ]
    }
   ],
   "source": [
    "if __name__ == '__main__':    \n",
    "    # Entrenem el model, però ara amb totes les dades\n",
    "    # Modifica, si cal, per tal d'utilitzar les millores que hagis implementat\n",
    "    #w0 = np.random.normal(size=(1, X.shape[1]))\n",
    "    wf_kaggle = gradient_descend(lambda w: model(w, X, Y), w0, 0.001, max_iter=5000, print_iters=1000)    \n",
    "\n",
    "    # Efectuem la predicció i guardem el resultat\n",
    "    y_pred_test = linear_regression(X_kaggle, wf_kaggle)\n",
    "    df_kaggle['pred_price'] = y_pred_test\n",
    "    df_kaggle[['id', 'pred_price']].to_csv('submission.csv', index=None)"
   ]
  },
  {
   "cell_type": "markdown",
   "metadata": {},
   "source": [
    "### Implementa a continuació dos dels punts anteriors\n",
    "\n",
    "Copia, si fes falta, les funcions que necessitis i canvia'ls-hi el nom"
   ]
  },
  {
   "cell_type": "code",
   "execution_count": 44,
   "metadata": {},
   "outputs": [],
   "source": [
    "# Punts 2 i 3 conjuntament: afegir més variables (strings a tokenitzar i altres característiques)\n",
    "\n",
    "def tokenize_extended(df):\n",
    "    \"\"\"\n",
    "    Funció que donat el dataframe amb les dades d'Airbnb retorna\n",
    "    una llista de llistes on cada subllista conté les paraules\n",
    "    tokenitzades del text extret de la columna \"summary\".\n",
    "    \n",
    "    Per facilitar la feina de la tokenització podeu utilizar les stopwords \n",
    "    que venen amb la llibreria nltk i la funció word_tokenize.\n",
    "    \n",
    "    :param df: DataFrame que conté el dataset\n",
    "    :return : Llista de llistes amb la informació indicada\n",
    "    \"\"\"\n",
    "    # Creem set de paraules que no afegirem (puntuació, anglès, espanyol i números)\n",
    "    punctuation = set(string.punctuation).union({'``', \"''\", '...', '’'})\n",
    "    stop_words = set(stopwords.words('english')).union(set(stopwords.words('spanish')), {\"'s\"})\n",
    "    numbers = set([str(x) for x in range(100)])\n",
    "    dirty_words = stop_words.union(punctuation, numbers)\n",
    "    # Creem la llista de llistes amb les paraules útils\n",
    "    \n",
    "    #MODIFICACIO PUNT 2\n",
    "    descriptions = descriptions = (df['summary'].map(str) + ' ' + df['amenities'].map(str) + ' ' + df['host_verifications'].map(str)).tolist()\n",
    "    \n",
    "    filtered_descriptions = [[w.lower() for w in word_tokenize(description) if w.lower() not in dirty_words] \\\n",
    "                             for description in descriptions]\n",
    "\n",
    "    return filtered_descriptions\n",
    "\n",
    "# Hem afegit, a part de altres camps de text que es consideraran a tokenize, variables com ara\n",
    "# superfície de l'apartament, score_location, el nombre de guests included i la posició.\n",
    "def get_features_extended(df, tokens, most_common_tokens):\n",
    "    \"\"\"\n",
    "    Funció que retorna un vector de 0 i 1 per cadascuna de les entrades del dataset,\n",
    "    en funció de si les paraules comunes es troben o no entre els tokens.\n",
    "    \n",
    "    Per a cada dada, mirarem si quines de les paraules comunes apareixen entre els tokens,\n",
    "    posant un 1 a les que sí i un 0 a les que no.\n",
    "    \n",
    "    Cada dada tindrà, a més dels 0/1 corresponents a les N paraules més comunes, unes columnes\n",
    "    més. Per tant, el retorn per cada dada serà\n",
    "    [0, 1, .........., 0,         ....        ]\n",
    "    |N tokens més comuns, columnes addicionals|\n",
    "    \n",
    "    *Únicament es permeten bucles pel càlcul dels 0/1s dels tokens*\n",
    "    \n",
    "    :param df: DataFrame que conté el dataset\n",
    "    :param tokens: Tokens per cada entrada del dataset\n",
    "    :param most_common_tokens: N tokens més comuns\n",
    "    :return : Matriu de característiques de cada entrada del dataset, incloent els\n",
    "        0/1s dels tokens i les columens pertinents.\n",
    "    \"\"\"\n",
    "    \n",
    "    features = np.zeros((df.shape[0], len(most_common_tokens)))\n",
    "    for i in range(features.shape[0]):\n",
    "        for j in range(features.shape[1]):\n",
    "            features[i,j] = check_word(tokens[i], most_common_tokens[j])\n",
    "    # Triga un 22% menys afegint la ultima columna així\n",
    "    phone = np.array([np.array(df['require_guest_phone_verification'], dtype='float')]).T\n",
    "    newc = np.array([np.array(df['square_feet'], dtype='float')]).T\n",
    "    newc[np.isnan(newc)] = 60.\n",
    "    loc = np.array([np.array(df['review_scores_location'], dtype='float')]).T\n",
    "    loc[np.isnan(loc)] = 5.\n",
    "    guests = np.array([np.array(df['guests_included'], dtype='float')]).T\n",
    "    guests[np.isnan(guests)] = 2\n",
    "    \n",
    "    lat = np.array([np.array(df['latitude'], dtype='float')]).T\n",
    "    lon = np.array([np.array(df['longitude'], dtype='float')]).T\n",
    "    features = np.hstack((features, phone, newc, lat, lon, loc, guests))  \n",
    "    \n",
    "    return features\n"
   ]
  },
  {
   "cell_type": "code",
   "execution_count": 43,
   "metadata": {},
   "outputs": [],
   "source": [
    "# Punt 13: alpha variable\n",
    "# Enlloc de triar l'alpha segons la iteració que es troba (pot ser que en una iteració molt gran l'alpha necessària per \n",
    "# aconseguir el descens més ràpid no sigui més petita), preferim fer l'alpha variable segons es necessiti per a aconseguir\n",
    "# el mínim.\n",
    "def gradient_descend_auto(f, x0, alpha_0=10, eps=1e-6, max_iter=1000, print_iters=1000):\n",
    "    \"\"\"\n",
    "    Aquesta funció implementa l'algorisme de descens pel gradient, és a dir,\n",
    "    donat un punt inicial, la funció de la que calculem el gradient i el pas, \n",
    "    intenta trobar el mínim de la funció seguint el gradient en direcció oposada.\n",
    "    \n",
    "    Normalitzant el gradient.\n",
    "    \n",
    "    Pel criteri d'aturada, considerarem si ||x^{k+1} - x^k|| < eps, és a dir\n",
    "    si la norma de la diferència és més petita que eps.\n",
    "    \n",
    "    Cada print_iters cal mostrar el resultat actual en la següent forma:\n",
    "        \"{}/{:.2f}\".format(human_format(itr), float(valor_de_f_en_x))\n",
    "    És dir, un missatge que inclogui la iteració i el valor de f en el punt\n",
    "    \n",
    "    :param f: Funció a minimitzar\n",
    "    :param x0: Punt inicial\n",
    "    :param alpha: Pas de cada iteració\n",
    "    :param eps: Moviment mínim realitzat abans de parar\n",
    "    :param max_epochs: Iteracions màximes a realitzar\n",
    "    :param print_iters: Numero d'iteracions per printar resultats\n",
    "    :return: La funció retornarà el punt on es troba el mínim\n",
    "    \"\"\"\n",
    "    grad_f = grad(f)\n",
    "    iters = 0\n",
    "    x_new = x0\n",
    "    f_new = f(x_new)\n",
    "    while iters < max_iter:\n",
    "        alpha = alpha_0\n",
    "        x_last = x_new\n",
    "        f_last = f_new\n",
    "        grad_new = grad_f(x_last)\n",
    "        grad_new = grad_new/np.linalg.norm(grad_new)\n",
    "        x_new = x_last - alpha * grad_new\n",
    "        f_new = f(x_new)\n",
    "        while f_new > f_last:\n",
    "            alpha /= 2\n",
    "            x_new = x_last - alpha * grad_new\n",
    "            f_new = f(x_new)\n",
    "        iters += 1\n",
    "        if iters % print_iters == 0:\n",
    "            print(\"{}/{:.3f}\".format(human_format(iters), float(f(x_new))))\n",
    "        if np.linalg.norm(x_last - x_new) < eps:\n",
    "            print(\"{}/{:.3f}\".format(human_format(iters), float(f(x_new))))\n",
    "            break\n",
    "    return x_new"
   ]
  },
  {
   "cell_type": "code",
   "execution_count": null,
   "metadata": {},
   "outputs": [],
   "source": []
  }
 ],
 "metadata": {
  "kernelspec": {
   "display_name": "Python 3",
   "language": "python",
   "name": "python3"
  },
  "language_info": {
   "codemirror_mode": {
    "name": "ipython",
    "version": 3
   },
   "file_extension": ".py",
   "mimetype": "text/x-python",
   "name": "python",
   "nbconvert_exporter": "python",
   "pygments_lexer": "ipython3",
   "version": "3.7.0"
  }
 },
 "nbformat": 4,
 "nbformat_minor": 2
}
