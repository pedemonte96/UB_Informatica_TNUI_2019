{
 "cells": [
  {
   "cell_type": "markdown",
   "metadata": {},
   "source": [
    "# Data loading\n",
    "\n",
    "### **En aquestes cel·les no feu cap modificació**\n",
    "\n",
    "Carrega les dades en un DataFrame Pandas."
   ]
  },
  {
   "cell_type": "code",
   "execution_count": 1,
   "metadata": {},
   "outputs": [
    {
     "name": "stderr",
     "output_type": "stream",
     "text": [
      "C:\\Users\\marti\\Anaconda3\\lib\\site-packages\\numpy\\lib\\arraysetops.py:522: FutureWarning: elementwise comparison failed; returning scalar instead, but in the future will perform elementwise comparison\n",
      "  mask |= (ar1 == a)\n"
     ]
    },
    {
     "name": "stdout",
     "output_type": "stream",
     "text": [
      "(160112, 1) (251543, 4) (10215268, 3) (3217, 4)\n"
     ]
    }
   ],
   "source": [
    "import pandas as pd\n",
    "import numpy as np\n",
    "import zipfile\n",
    "import pickle\n",
    "from os.path import join, dirname\n",
    "\n",
    "def locate(*path):\n",
    "    base = globals().get('__file__', '.')\n",
    "    return join(dirname(base), *path)\n",
    "\n",
    "def unzip(file):\n",
    "    zip_ref = zipfile.ZipFile(locate(file), 'r')\n",
    "    zip_ref.extractall(locate('data'))\n",
    "    zip_ref.close()\n",
    "\n",
    "if __name__ == '__main__':\n",
    "    unzip('dades_alumnes.zip')\n",
    "\n",
    "    original_df_artists = pd.read_csv('data/artists_names.csv', index_col='musicbrainzID')\n",
    "    original_df_users = pd.read_csv('data/user_profile_train.csv', index_col='userID')\n",
    "    original_df_user_artists = pd.read_csv('data/user_artist_plays_train.csv', index_col=0)\n",
    "    kaggle_df_user_artists = pd.read_csv('data/user_artist_plays_public_kaggle.csv')\n",
    "    \n",
    "    print(original_df_artists.shape, original_df_users.shape, original_df_user_artists.shape, kaggle_df_user_artists.shape)"
   ]
  },
  {
   "cell_type": "code",
   "execution_count": 2,
   "metadata": {},
   "outputs": [
    {
     "name": "stdout",
     "output_type": "stream",
     "text": [
      "(28987, 3)\n",
      "707 6544\n",
      "                         artistName\n",
      "musicbrainzID                      \n",
      "0                   betty blowtorch\n",
      "1                         die Ärzte\n",
      "2                 melissa etheridge\n",
      "3                         elvenking\n",
      "4              juliette & the licks\n",
      "       gender   age         country        signup\n",
      "userID                                           \n",
      "310519      m  21.0          Poland  Oct 16, 2008\n",
      "109228      m  28.0        Honduras  May 22, 2007\n",
      "35296       m  28.0          Turkey   May 5, 2007\n",
      "291224      m  22.0        Slovakia  May 11, 2008\n",
      "151053      m  26.0  United Kingdom  Dec 24, 2007\n",
      "   userID  musicbrainzID  plays\n",
      "1       0              1   1099\n",
      "2       0              2    897\n",
      "3       0              3    717\n",
      "4       0              4    706\n",
      "5       0              5    691\n",
      "   Unnamed: 0  userID  musicbrainzID  plays\n",
      "0        5920     121            729   1759\n",
      "1        5923     121           3529    251\n",
      "2        5924     121            427    179\n",
      "3        5926     121           2830     97\n",
      "4        5928     121           3531     75\n",
      "99 1874\n"
     ]
    }
   ],
   "source": [
    "if __name__ == '__main__':\n",
    "    #Creem dos DataFrames de diferents mides per treballar amb millor original_user_artists\n",
    "    df_user_artists = original_df_user_artists[original_df_user_artists.userID < 1000]\n",
    "    #Mides del primer df i número d'usuaris i d'artistes que apareixen\n",
    "    print(df_user_artists.shape)\n",
    "    print(len(df_user_artists['userID'].unique()), len(df_user_artists['musicbrainzID'].unique()))\n",
    "    #Capçaleres\n",
    "    print(original_df_artists.head())\n",
    "    print(original_df_users.head())\n",
    "    print(original_df_user_artists.head())\n",
    "    print(kaggle_df_user_artists.head())\n",
    "    print(len(kaggle_df_user_artists['userID'].unique()), len(kaggle_df_user_artists['musicbrainzID'].unique()))"
   ]
  },
  {
   "cell_type": "markdown",
   "metadata": {},
   "source": [
    "## Anàlisis de les dades\n",
    "\n",
    "El primer que haurem de fer és analitzar les dades mitjançant diferents funcions."
   ]
  },
  {
   "cell_type": "code",
   "execution_count": 3,
   "metadata": {},
   "outputs": [],
   "source": [
    "def count_users(df):\n",
    "    \"\"\"\n",
    "    Retorna el nombre d'usuaris en el dataframe\n",
    "    \n",
    "    :param df: DataFrame dels usuaris\n",
    "    :return : Enter, nombre d'usuaris\n",
    "    \"\"\"\n",
    "    return len(df.index)\n",
    "\n",
    "def count_artits(df):\n",
    "    \"\"\"\n",
    "    Retorna el nombre d'artistes en el dataframe\n",
    "    \n",
    "    :param df: DataFrame dels artistes\n",
    "    :return : Enter, nombre d'artistes\n",
    "    \"\"\"\n",
    "    return len(df.index)\n",
    "\n",
    "def get_users(df):\n",
    "    \"\"\"\n",
    "    Retorna els ids dels usuaris\n",
    "    \n",
    "    :params df: DataFrame original_df_users\n",
    "    :return : Llista, tupla, pd.Series o indexos de pandas amb les ids\n",
    "    \"\"\"\n",
    "    return df.index\n",
    "\n",
    "def get_artits(df):\n",
    "    \"\"\"\n",
    "    Retorna els ids dels artites\n",
    "    \n",
    "    :params df: DataFrame df_user_artists\n",
    "    :return : Llista, tupla, pd.Series o indexos de pandas amb les ids\n",
    "    \"\"\"\n",
    "    return df.index\n",
    "\n",
    "def total_reproductions(df):\n",
    "    \"\"\"\n",
    "    Retorna la quantitat de reproduccions totals guardades al dataframe\n",
    "    \n",
    "    :params df: DataFrame df_user_artists\n",
    "    :return : Enter, nombre de reproduccions\n",
    "    \"\"\"\n",
    "    return df['plays'].sum()"
   ]
  },
  {
   "cell_type": "code",
   "execution_count": 4,
   "metadata": {},
   "outputs": [
    {
     "name": "stdout",
     "output_type": "stream",
     "text": [
      "count_users: 251543\n",
      "count_artits: 160112\n",
      "get_users: Int64Index([310519, 109228,  35296, 291224, 151053, 267414,  63446,  80577,\n",
      "            187410, 339146,\n",
      "            ...\n",
      "             43472, 130769,  66696, 315919,  98574, 226675,  81761, 103020,\n",
      "            104679,  73210],\n",
      "           dtype='int64', name='userID', length=251543)\n",
      "get_artits: Int64Index([     0,      1,      2,      3,      4,      5,      6,      7,\n",
      "                 8,      9,\n",
      "            ...\n",
      "            160103, 160104, 160105, 160106, 160107, 160108, 160109, 160110,\n",
      "            160111, 160112],\n",
      "           dtype='int64', name='musicbrainzID', length=160112)\n",
      "total_reproductions: 2356118519\n"
     ]
    }
   ],
   "source": [
    "if __name__ == '__main__':\n",
    "    print('count_users: {}'.format(count_users(original_df_users)))\n",
    "    print('count_artits: {}'.format(count_artits(original_df_artists)))\n",
    "    print('get_users: {}'.format(get_users(original_df_users)))\n",
    "    print('get_artits: {}'.format(get_artits(original_df_artists)))\n",
    "    print('total_reproductions: {}'.format(total_reproductions(original_df_user_artists)))"
   ]
  },
  {
   "cell_type": "markdown",
   "metadata": {},
   "source": [
    "# Implementació\n",
    "\n",
    "Recordeu, seguiu els pydoc i compliu amb el que diuen!\n",
    "\n",
    "El primer que haurem de fer és construir una matriu que ens serveixi, d'alguna forma, com a indicatiu de preferències de cada persona. Per tal efecte, construirem una matriu $m\\times n$, de $m$ usuaris per $n$ artistes (items), on cada entrada $i,j$ serà el nombre de vegades que la persona $i$ a escoltat l'artista $j$.\n",
    "\n",
    "<img src=\"./img/Mat.png\">\n"
   ]
  },
  {
   "cell_type": "code",
   "execution_count": 5,
   "metadata": {},
   "outputs": [],
   "source": [
    "from scipy.sparse import csr_matrix, dok_matrix\n",
    "from pandas.api.types import CategoricalDtype\n",
    "\n",
    "def to_dense(array):\n",
    "    \"\"\"\n",
    "    Accepta una csr_matrix, dok_matrix o matrix i la converteix en una \n",
    "    np.array normal, densa.\n",
    "    \n",
    "    :param array: Array a convertir\n",
    "    :return: np.array densa, sense cap dimensió de tamany 1\n",
    "    \"\"\"\n",
    "    try:\n",
    "        array = array.todense()\n",
    "    except:\n",
    "        pass\n",
    "    \n",
    "    return np.array(array).squeeze()\n",
    "    \n",
    "def build_counts_table(df):\n",
    "    \"\"\"\n",
    "    Retorna una csr_matrix on les columnes són els `items`, les files `user_id` i els valors\n",
    "    el nombre de vegades que un usuari ha escoltat un `artist`\n",
    "    \n",
    "    :param df: DataFrame original després de creuar-lo\n",
    "    :return: Una tupla constistent de:\n",
    "        * La csr_matrix descrita\n",
    "        * Els indexos corresponents a cada fila (el userID de la fila `i` corresponent a l'element `i` d'aquesta array)\n",
    "        * Les columnes corresponents a cada columna (el musicbrainzID de la columna `j` correspon a l'element `j` d'aquesta array)\n",
    "    \"\"\"\n",
    "    # Ids, sense repeticions i ordenats\n",
    "    user_ids = CategoricalDtype(sorted(df.userID.unique()), ordered=True)\n",
    "    music_ids = CategoricalDtype(sorted(df.musicbrainzID.unique()), ordered=True)\n",
    "\n",
    "    # Conversió a csr\n",
    "    row = df.userID.astype(user_ids).cat.codes\n",
    "    col = df.musicbrainzID.astype(music_ids).cat.codes\n",
    "    sparse_matrix = csr_matrix((df[\"plays\"], (row, col)), \\\n",
    "                           shape=(user_ids.categories.size, music_ids.categories.size))\n",
    "\n",
    "    return sparse_matrix, user_ids, music_ids"
   ]
  },
  {
   "cell_type": "code",
   "execution_count": 6,
   "metadata": {},
   "outputs": [],
   "source": [
    "def get_count(counts, indexes, columns, user_id, artist_id):\n",
    "    \"\"\"\n",
    "    Exemple: donat un ID d'usuari i un ID d'artista, retorna\n",
    "        el valor corresponent de la matriu `counts`\n",
    "    \n",
    "    :param counts, indexes, columns: Tupla retornada per `build_counts_table`\n",
    "    :param user_id: ID de l'usuari\n",
    "    :param artist_id: ID de l'artista\n",
    "    :return: Enter amb el nombre de vegades que s'ha escoltat\n",
    "    \"\"\"\n",
    "    row = indexes.categories.get_loc(user_id)\n",
    "    col = columns.categories.get_loc(artist_id)\n",
    "    return counts[row, col]"
   ]
  },
  {
   "cell_type": "code",
   "execution_count": 7,
   "metadata": {},
   "outputs": [],
   "source": [
    "def top_active_users(counts, indexes, columns, n):\n",
    "    \"\"\"\n",
    "    Exemple: Retorna els ids dels n usuaris que més reproduccions han acumulat\n",
    "    \n",
    "    :param counts, indexes, columns: Tupla retornada per `build_counts_table`\n",
    "    :param n: Quanitat d'usuaris\n",
    "    :return: Llista, tupla o pd.Series de userID dels n usuaris\n",
    "    \"\"\"\n",
    "    \n",
    "    # Com treballem amb una matriu sparse cal convertir a dense el resultat per poder operar-lo bé més tard\n",
    "    # La funció argsort() retorna els indexs que queden en ordenar sums.\n",
    "        #Exemple: [3,1,2] ordenat quedaria [1,2,3] i els seus índexs serien [1,2,0], que és el que retorna np.argsort([3,1,2])\n",
    "    sums = to_dense(counts.sum(axis=1))\n",
    "    indices = sums.argsort()\n",
    "    return indexes.categories[indices[-n:]]\n",
    "\n",
    "def top_reproduced_artits(counts, indexes, columns, n):\n",
    "    \"\"\"\n",
    "    Exemple: Retorna els ids dels n artistes més escoltats\n",
    "    \n",
    "    :param counts, indexes, columns: Tupla retornada per `build_counts_table`\n",
    "    :param n: Quanitat d'artistes\n",
    "    :return: Llista, tupla o pd.Series de artistID dels n artistes\n",
    "    \"\"\"\n",
    "    #Anàlogament a l'anterior\n",
    "    sums = to_dense(counts.sum(axis=0))\n",
    "    indices = sums.argsort()\n",
    "    return columns.categories[indices[-n:]]\n",
    "\n",
    "def top_active_users_diferent(counts, indexes, columns, n):\n",
    "    \"\"\"\n",
    "    Exemple: Retorna els ids dels n usuaris que més reproduccions d'artistes diferents han acumulat \n",
    "    \n",
    "    :param counts, indexes, columns: Tupla retornada per `build_counts_table`\n",
    "    :param n: Quanitat d'usuaris\n",
    "    :return: Llista, tupla o pd.Series de userID dels n usuaris\n",
    "    \"\"\"\n",
    "    \n",
    "    # Operate with the sparse matrix, convert to dense the result (as it has much fewer entries)\n",
    "    counts_cp = counts.copy()\n",
    "    counts_cp[counts_cp > 0] = 1\n",
    "    sums = to_dense(counts_cp.sum(axis=1))\n",
    "    # Get indices\n",
    "    indices = sums.argsort()\n",
    "    return indexes.categories[indices[-n:]]"
   ]
  },
  {
   "cell_type": "code",
   "execution_count": 8,
   "metadata": {},
   "outputs": [
    {
     "name": "stdout",
     "output_type": "stream",
     "text": [
      "(707, 6544)\n",
      "2796\n",
      "Int64Index([220, 603, 1, 877, 557], dtype='int64')\n",
      "Int64Index([246, 217, 158, 1757, 578], dtype='int64')\n"
     ]
    }
   ],
   "source": [
    "from tqdm import tqdm_notebook #Diferents conjunts de dades amb les que treballar\n",
    "if __name__ == '__main__':\n",
    "    counts, indexes, columns = build_counts_table(df_user_artists)\n",
    "    print(counts.shape)\n",
    "    \n",
    "    count = get_count(counts, indexes, columns, 111, 3323)\n",
    "    print(count)\n",
    "    \n",
    "    top_users = top_active_users(counts, indexes, columns, 5)\n",
    "    print(top_users)\n",
    "    \n",
    "    top_artists = top_reproduced_artits(counts, indexes, columns, 5)\n",
    "    print(top_artists)"
   ]
  },
  {
   "cell_type": "markdown",
   "metadata": {},
   "source": [
    "### Mesurament de similituds\n",
    "\n",
    "El primer pas per poder recomanar és definir una funció de similitud entre vectors. Siguin $x, y$ vectors, les següents són funcions típiques de similitud:\n",
    "\n",
    "* Distància euclidea (inversa): https://en.wikipedia.org/wiki/Euclidean_distance\n",
    "\n",
    "$$sim(x, y) = \\frac{1}{1 + \\sqrt{\\sum_i(x_i-y_i)^2}}\\in [0, 1]$$\n",
    "\n",
    "* Similitud cosinus: https://en.wikipedia.org/wiki/Cosine_similarity\n",
    "\n",
    "$$sim(x, y) = \\frac{x\\cdot y}{||x||\\hspace{0.1cm} ||y||} \\in [-1,1]$$\n",
    "\n",
    "* Correlació de Pearson: https://en.wikipedia.org/wiki/Pearson_correlation_coefficient\n",
    "\n",
    "$${\\displaystyle sim(x,y)={\\frac {\\sum _{i=1}^{n}(x_{i}-{\\bar {x}})(y_{i}-{\\bar {y}})}{{\\sqrt {\\sum _{i=1}^{n}(x_{i}-{\\bar {x}})^{2}}}{\\sqrt {\\sum _{i=1}^{n}(y_{i}-{\\bar {y}})^{2}}}}}} \\in [-1,1] \\\\ \\text{On }\\bar{x} = \\frac{1}{n} \\sum^n_i x_i\\text{ la mitja (i anàlogament per y)}$$\n",
    "\n",
    "Per aquesta part, però, **us demanem que implementeu** la següent funció de similitud:\n",
    "\n",
    "* Jaccard: https://en.wikipedia.org/wiki/Jaccard_index\n",
    "\n",
    "$$sim(x, y) = {{|x \\cap y|}\\over{|x \\cup y|}} $$\n",
    "\n",
    "Aquesta funció mesura el nombre d'elements en comú dels dos vectors (numerador) i el nombre total d'elements diferents que hi ha entre els dos vectors.\n",
    "Per exemple: \n",
    "\n",
    "$$\n",
    "x = [1, \\text{NaN}, 2, 3, \\text{NaN}, 5] \\\\\n",
    "y = [2, 1, \\text{NaN}, \\text{NaN}, \\text{NaN}, \\text{NaN}] \\\\\n",
    "sim(x, y) = {{|x \\cap y|}\\over{|x \\cup y|}} = {1 \\over{5}} = 0.2\n",
    "$$\n",
    "\n",
    "Per implementar-la **no podeu fer servir bucles** ni cap funció que calculi directament el resultat:\n",
    "\n",
    "* *scipy.spatial.distance.jaccard*\n",
    "* *sklearn.metrics.jaccard_similarity_score*\n",
    "* I d'altres semblants\n",
    "\n",
    "<hr>\n",
    "\n",
    "Tant per aquesta última com per les altres funcions, tingueu en compte que tenen particularitats. Algunes consideren valors negatius per els exemples oposats, d'altres poden donar problemes quan el denominador és 0, etc."
   ]
  },
  {
   "cell_type": "code",
   "execution_count": 27,
   "metadata": {},
   "outputs": [],
   "source": [
    "import numpy as np\n",
    "from scipy import stats\n",
    "\n",
    "def pearson_max(x,y):\n",
    "    coefs = np.array([])\n",
    "    for i in range(len(x)):\n",
    "        x1 = np.delete(x, i)\n",
    "        y1 = np.delete(y, i)\n",
    "        coefs = np.append(coefs, stats.pearsonr(x1, y1)[0])\n",
    "    if not coefs.size > 0: return -1.\n",
    "    return np.max(coefs[np.logical_not(np.isnan(coefs))])\n",
    "\n",
    "def sim_accentuation(x):\n",
    "    return 1/(1+np.exp(-11*(x-0.5)))\n",
    "\n",
    "def jaccard_similarity(x,y):\n",
    "    #Utilitzem les propietats dels nombres amb el zero per comptar fàcilment els elements de la intersecció i la unió.\n",
    "    and_oper = x*y\n",
    "    and_oper[and_oper != 0] = 1.\n",
    "    or_oper = x+y\n",
    "    or_oper[or_oper != 0] = 1.\n",
    "    #En cas que el denominador sigui zero retornem similitud 0 per no tenir problemes (vol dir que tant x com y són buides)\n",
    "    if or_oper.sum() == 0: return 0.\n",
    "    else: return and_oper.sum()/or_oper.sum()\n",
    "\n",
    "def pearson_similarity(x,y):\n",
    "    and_oper = x*y #Només considerarem aquells que coincideixen en x i y\n",
    "    and_oper[np.isnan(and_oper)] = 0\n",
    "    x = x[and_oper != 0]\n",
    "    y = y[and_oper != 0]\n",
    "    if len(x) < 6: return 0 #Si hi ha menys de 3 coincidències similitud 0, ja que si hi ha 2 punts el coef sempre serà 1\n",
    "    else:\n",
    "        sim = stats.pearsonr(x, y)[0]\n",
    "        if np.isnan(sim): return 0 #Per si és NaN\n",
    "        elif abs(sim) < 0.3: #Si la similitud és petita\n",
    "            return 0\n",
    "        else:\n",
    "            jac = jaccard_similarity(x,y)**0.2\n",
    "            if jac < 0.6: return 0.\n",
    "            if jac*sim > 0.9: return 1.\n",
    "            else: return sim_accentuation(sim*jac)# Potenciem aquells que més coincideixen\n",
    "        \n",
    "def cosine_similarity(x,y):\n",
    "    and_oper = x*y #Només considerarem aquells que coincideixen en x i y\n",
    "    and_oper[np.isnan(and_oper)] = 0\n",
    "    x = x[and_oper != 0]\n",
    "    y = y[and_oper != 0]\n",
    "    if len(x) < 6: return 0 #Si hi ha menys de 4 coincidències similitud 0\n",
    "    numerador = np.dot(x, y)\n",
    "    denominador = np.linalg.norm(x)*np.linalg.norm(y)\n",
    "    if denominador == 0: return 0\n",
    "    else: return (numerador/denominador)*jaccard_similarity(x,y)# Potenciem aquells que més coincideixen\n",
    "\n",
    "def euclidean_similarity(x,y):\n",
    "    and_oper = x*y #Només considerarem aquells que coincideixen en x i y\n",
    "    and_oper[np.isnan(and_oper)] = 0\n",
    "    x = x[and_oper != 0]\n",
    "    y = y[and_oper != 0]\n",
    "    if len(x) < 6: return 0 #Si hi ha menys de 3 coincidències similitud 0\n",
    "    dist = np.linalg.norm(x-y)\n",
    "    sim = (1/(1+dist))\n",
    "    return sim*(jaccard_similarity(x,y)**0.5)\n",
    "    \n",
    "def similarity(x, y):\n",
    "    \"\"\"\n",
    "    Similitud entre x i y\n",
    "    \n",
    "    :param x: Primer vector, com a np.array\n",
    "    :param y: Segon vector, com a np.array\n",
    "    :return : Escalar (float) corresponent a la similitud\n",
    "    \"\"\"\n",
    "    return pearson_similarity(x,y)"
   ]
  },
  {
   "cell_type": "code",
   "execution_count": 12,
   "metadata": {},
   "outputs": [
    {
     "name": "stdout",
     "output_type": "stream",
     "text": [
      "0\n",
      "0\n"
     ]
    }
   ],
   "source": [
    "if __name__ == '__main__':\n",
    "    x = np.array([10, 22, 95, 79, 25])\n",
    "    y = np.array([1, 2, 9, 8., 2])\n",
    "    z = np.array([0,0,0,0,0])\n",
    "    print(similarity(x, y))\n",
    "    print(similarity(z, z))"
   ]
  },
  {
   "cell_type": "markdown",
   "metadata": {},
   "source": [
    "### Matriu de similituds\n",
    "\n",
    "Per fer recomanació col·laborativa existeixen dues opcions, fer un recomanador basat en usuaris o un en ítems:\n",
    "\n",
    "* Recomanador basat en usuaris:\n",
    "Considera la matriu $M\\times N: \\text{usuaris}\\times\\text{items}$, per recomanar t'hauràs de basar en les similituds entre els usuaris.\n",
    "\n",
    "* Recomanador basat en items:\n",
    "Considera la matriu $M\\times N: \\text{items}\\times\\text{usuaris}$, per recomanar t'hauràs de basar en les similituds entre els ítems.\n",
    "\n",
    "Construeix una matriu de mida $M\\times M$ on cada posició $i,j$ indica la distància entre l'element $i$ i el $j$. Així doncs, si estàs fent un recomanador basat en usuaris, `matriu[2, 3]` contindrà la similitud entre l'usuari 2 i el 3. En canvi, si l'estàs fent basat en ítems, `matriu[2, 3]` contindrà la similitud entre l'ítem 2 i el 3."
   ]
  },
  {
   "cell_type": "code",
   "execution_count": 13,
   "metadata": {},
   "outputs": [],
   "source": [
    "from tqdm import tqdm_notebook\n",
    "\n",
    "#Recomanador basat en usuaris\n",
    "\n",
    "def similarity_matrix(similarity_function, counts):\n",
    "    \"\"\"\n",
    "    Retorna una matriu dok_matrix (sparse) de mida M x M on la posició\n",
    "    (i, j) indica la similitud entre els usuaris `i` i `j`.\n",
    "    \n",
    "    No necessàriament totes les posicions han de ser obligatòriament omplertes.\n",
    "    Una bona implementació considerarà una matriu triangular, tenint-ho en compte\n",
    "    en les següents funcions.\n",
    "    \n",
    "    :param similarity_function: Funció que calcularà la similitud \n",
    "        entre usuaris\n",
    "    :param counts: csr_matrix que conté el nombre de vegades que \n",
    "        un usuari ha escoltat a un `artistID`\n",
    "    :return : Matriu numpy de mida M x M amb les similituds.\n",
    "    \"\"\"    \n",
    "    # Matrix cosine\n",
    "    if similarity_function is None:\n",
    "        raise NotImplementedError()\n",
    "    \n",
    "    n = counts.shape[0] # Resp. [1] per items\n",
    "    matrix = dok_matrix((n, n)) #Matriu buida que cal omplir\n",
    "    #Cal convertir les files seleccionades de la matriu a dense per operar bé amb elles.\n",
    "    for i in tqdm_notebook(range(n), desc='Sim matrix:', leave=True):  #Comptador estimat de temps\n",
    "        user_list_1 = to_dense(counts[i, :])\n",
    "        for j in range(i+1, n):\n",
    "            user_list_2 = to_dense(counts[j, :])\n",
    "            matrix[i, j] = similarity_function(user_list_1, user_list_2)\n",
    "    \n",
    "    return matrix\n",
    "\n",
    "#Recomanador basat en items\n",
    "\n",
    "def similarity_matrix_items(similarity_function, counts):\n",
    "    \"\"\"\n",
    "    Retorna una matriu dok_matrix (sparse) de mida M x M on la posició\n",
    "    (i, j) indica la similitud entre els items `i` i `j`.\n",
    "    \n",
    "    No necessàriament totes les posicions han de ser obligatòriament omplertes.\n",
    "    Una bona implementació considerarà una matriu triangular, tenint-ho en compte\n",
    "    en les següents funcions.\n",
    "    \n",
    "    :param similarity_function: Funció que calcularà la similitud \n",
    "        entre items\n",
    "    :param counts: csr_matrix que conté el nombre de vegades que \n",
    "        un usuari ha escoltat a un `artistID`\n",
    "    :return : Matriu numpy de mida M x M amb les similituds.\n",
    "    \"\"\"    \n",
    "    # Matrix cosine\n",
    "    if similarity_function is None:\n",
    "        raise NotImplementedError()\n",
    "    \n",
    "    n = counts.shape[1]\n",
    "    matrix = dok_matrix((n, n))  #Matriu buida que cal omplir\n",
    "    #Cal convertir les files seleccionades de la matriu a dense per operar bé amb elles.\n",
    "    for i in tqdm_notebook(range(n), desc='Sim matrix:', leave=True): #Comptador estimat de temps\n",
    "        item_list_1 = to_dense(counts[:, i])\n",
    "        for j in range(i+1, n):\n",
    "            item_list_2 = to_dense(counts[:, j])\n",
    "            matrix[i, j] = similarity_function(item_list_1, item_list_2)\n",
    "    \n",
    "    return matrix"
   ]
  },
  {
   "cell_type": "markdown",
   "metadata": {},
   "source": [
    "Per cridar aquesta funció, el primer paràmetre pot ser:\n",
    "\n",
    "* Si `similarity_function` no és `None`: `similarity_function` és una funció que rep dos np.array i calcula la similitud (tipus similarity(x, y)). Utilitzant ~5000 usuaris i amb una bona implementació triga ~45min.\n",
    "* Opcionalment (no és obligatori fer-ho, penseu en Kaggle) podeu programar una funció que treballi específicament amb matrius (i no vectors). Si ho feu, cal gestionar-ho quan es rep `None`. No totes les funcions anteriorment anomenades són fàcils (ni intuïtives, ni hi caben en memòria) d'aplicar en forma matricial. Triga uns 5s."
   ]
  },
  {
   "cell_type": "code",
   "execution_count": 13,
   "metadata": {},
   "outputs": [
    {
     "data": {
      "application/vnd.jupyter.widget-view+json": {
       "model_id": "471bac32097f4179aaf95c9913bfd075",
       "version_major": 2,
       "version_minor": 0
      },
      "text/plain": [
       "HBox(children=(IntProgress(value=0, description='Sim matrix:', max=707), HTML(value='')))"
      ]
     },
     "metadata": {},
     "output_type": "display_data"
    },
    {
     "name": "stderr",
     "output_type": "stream",
     "text": [
      "C:\\Users\\marti\\Anaconda3\\lib\\site-packages\\scipy\\stats\\stats.py:3010: RuntimeWarning: invalid value encountered in double_scalars\n",
      "  r = r_num / r_den\n",
      "C:\\Users\\marti\\Anaconda3\\lib\\site-packages\\scipy\\stats\\stats.py:5256: RuntimeWarning: invalid value encountered in less\n",
      "  x = np.where(x < 1.0, x, 1.0)  # if x > 1 then return 1.0\n"
     ]
    },
    {
     "name": "stdout",
     "output_type": "stream",
     "text": [
      "\n"
     ]
    }
   ],
   "source": [
    "import pickle\n",
    "\n",
    "if __name__ == '__main__':\n",
    "    try:\n",
    "        with open('similarities_kaggle.pkl', 'rb') as fp:\n",
    "            similarities = pickle.load(fp)\n",
    "    except:\n",
    "        counts, indexes, columns = build_counts_table(df_user_artists)\n",
    "        similarities = similarity_matrix(\n",
    "            similarity_function=similarity,\n",
    "            counts=counts\n",
    "        )\n",
    "        \n",
    "        with open('similarities_kaggle.pkl', 'wb') as fp:\n",
    "            pickle.dump(similarities, fp, pickle.HIGHEST_PROTOCOL)"
   ]
  },
  {
   "cell_type": "markdown",
   "metadata": {},
   "source": [
    "### Generació de prediccions\n",
    "\n",
    "Per fer recomanació col·laborativa, necessitem una funció que ens doni un valor de quant bona seria la recomanació. En el nostre cas i amb les nostres dades, volem una funció que ens indiqui quants cops escoltaria un usuari un artista donat.\n",
    "\n",
    "* Si esteu fent un recomanador basat en usuaris, la puntuació per a un usuari $u$ i l'artista $i$ és\n",
    "\n",
    "$$pred(u, i) = \\hat{r}_{u,i} = \\frac{\\sum_{p\\neq u,r_{p,i}>0} sim(u, p)\\cdot r_{p,i}}{\\sum_{p\\neq u,r_{p,i}>0} sim(u, p)}$$\n",
    "\n",
    "On $r_{u,i}$ indica el nombre de vegades que l'usuari $u$ ha escoltat l'l'ítem $i$.\n",
    "\n",
    "És a dir, per cada usuari $p$ diferent de $u$ si aquest usuari ha escoltat algun cop el producte $i$, la similitud entre $p$ i $u$ multiplicada pel nombre de vegades que l'usuari $p$ ha escoltat l'l'ítem $i$ ($r_{p,i}$).\n",
    "\n",
    "Pondera't per la suma de les similituds.\n",
    "\n",
    "* Anàlogament, si està basat en ítem, la puntuació per a un usuari $u$ i ítem $i$ és\n",
    "\n",
    "$$pred(u, i) = \\hat{r}_{u,i} = \\frac{\\sum_{j\\neq i,r_{u,j}>0} sim(i, j)\\cdot r_{u,j}}{\\sum_{j\\neq i,r_{u,j}>0} sim(i, j)}$$\n",
    "\n",
    "On $r_{u,i}$ indica el nombre de vegades que l'usuari $u$ ha escoltat l'ítem $j$.\n",
    "\n",
    "És a dir, per cada ítem $j$ diferent de $i$ si l'usuari al qui recomanem ha escoltat l'artista $j$, la similitud entre $i$ i $j$ multiplicada pel nombre de vegades que l'usuari al qui recomanem $u$ ha escoltat l'ítem $j$ ($r_{u,j}$)\n",
    "\n",
    "Pondera't per la suma de les similituds."
   ]
  },
  {
   "cell_type": "markdown",
   "metadata": {},
   "source": [
    "Fixeu-vos que, sigui quin sigui el cas, al final estem fent el producte escalar entre dos vectors. Concretament, el producte escalar entre les similituds i les reproduccions. Fes una funció que calculi aquest resultat:"
   ]
  },
  {
   "cell_type": "code",
   "execution_count": 16,
   "metadata": {},
   "outputs": [],
   "source": [
    "def score(counts, indexes, columns, similarities, user, item):\n",
    "    \"\"\"\n",
    "    Extreu les similituds i el nombre de vegades que un usuari ha escoltat un artista\n",
    "    (resp. nombre de vegades que cada usuari ha escoltat l'artista) i:\n",
    "    \n",
    "    * Si estàs implementant basat en usuaris:\n",
    "        Donades les similituds i el nombre de vegades que l'usuari ha escoltat\n",
    "        cada artista, retorna la predicció que indica quants cops escoltara \n",
    "        l'usuari un nou artista.\n",
    "        \n",
    "    * Si estàs implementant basat en items:\n",
    "        Donades les similituds i el nombre de vegades que l'artista a recomanar ha\n",
    "        estat escoltat per cada usuari, retorna la predicció que indica quants cops\n",
    "        escoltaria l'usuari un nou artista.        \n",
    "    \n",
    "    :param counts, indexes, columns: Tupla retornada per `build_counts_table`\n",
    "    :param similarities: Matriu de similituds\n",
    "    :param user: ID de l'usuari per la predicció\n",
    "    :param item: ID de l'artista / item per la predicció    \n",
    "    :return : Retorna un escalar (float) amb la predicció\n",
    "    \n",
    "    \"\"\"\n",
    "    \n",
    "    user_index = indexes.categories.get_loc(user)\n",
    "    item_index = columns.categories.get_loc(item)\n",
    "    #Com similaritires és una matriu triangular, cal seleccionar bé la fila de similituds entre i, j\n",
    "    #No agafem l'element de la diagonal pel que row_sim te dim n-1.\n",
    "    row_sim_1 = to_dense(similarities[:user_index, user_index])\n",
    "    row_sim_2 = to_dense(similarities[user_index, user_index + 1:])\n",
    "    try:\n",
    "        row_sim = np.concatenate((row_sim_1, row_sim_2), axis = None)\n",
    "    except:\n",
    "        print(row_sim_1.shape, row_sim_2.shape)\n",
    "    #Seleccionem la columna corresponent a la canço donada (item) treient la posició de l'usuari que volem predir (user)\n",
    "    #Fixem-nos que així la dimensió coincideix i podem fer el producte escalar.\n",
    "    item_list = to_dense(counts[:, item_index])\n",
    "    item_list = np.delete(item_list, user_index)\n",
    "    #Per no modificar la matriu similarities fem una copia de row_sim.\n",
    "    row_sim_zeros = np.copy(row_sim)\n",
    "    #Per considerar només aquells usuaris que han escoltat la canço en concret:\n",
    "    row_sim_zeros[item_list == 0] = 0\n",
    "    \n",
    "    # ORIGINAL:\n",
    "    # Indiferent agafar row_sim que row_sim_zeros pq en multiplicar per item_list s'anul·laran els termes que volem.\n",
    "    #numerador = np.dot(row_sim, item_list)\n",
    "    #denominador = np.sum(row_sim_zeros)\n",
    "    #if numerador*denominador == 0: return 0.\n",
    "    #else: return numerador/denominador\n",
    "    \n",
    "    # Variant que ofereix el punt 3: Normalització, prediccions escalades al domini de l'usuari (cadascú escolta en diferents mesures)\n",
    "    numerador = np.dot(row_sim, item_list) - np.sum(row_sim)*np.mean(item_list)\n",
    "    user_list = to_dense(counts[user_index, :])\n",
    "    denominador = np.sum(row_sim_zeros)\n",
    "    if numerador*denominador == 0: return 0.\n",
    "    else: return numerador/denominador + np.mean(user_list)\n",
    "    \n",
    "    # Variant proposta amb els N millors\n",
    "    #indices = row_sim_zeros.argsort()[-3:]\n",
    "    #score = 0\n",
    "    #for index in indices:\n",
    "    #    score += item_list[index]\n",
    "    #return score/3.\n",
    "    \n",
    "#La mateixa matriu de similituds però per items i no usuaris\n",
    "    \n",
    "def score_items(counts, indexes, columns, similarities, user, item):\n",
    "    \"\"\"\n",
    "    Extreu les similituds i el nombre de vegades que un usuari ha escoltat un artista\n",
    "    (resp. nombre de vegades que cada usuari ha escoltat l'artista) i:\n",
    "    \n",
    "    * Si estàs implementant basat en usuaris:\n",
    "        Donades les similituds i el nombre de vegades que l'usuari ha escoltat\n",
    "        cada artista, retorna la predicció que indica quants cops escoltara \n",
    "        l'usuari un nou artista.\n",
    "        \n",
    "    * Si estàs implementant basat en items:\n",
    "        Donades les similituds i el nombre de vegades que l'artista a recomanar ha\n",
    "        estat escoltat per cada usuari, retorna la predicció que indica quants cops\n",
    "        escoltaria l'usuari un nou artista.        \n",
    "    \n",
    "    :param counts, indexes, columns: Tupla retornada per `build_counts_table`\n",
    "    :param similarities: Matriu de similituds\n",
    "    :param user: ID de l'usuari per la predicció\n",
    "    :param item: ID de l'artista / item per la predicció    \n",
    "    :return : Retorna un escalar (float) amb la predicció\n",
    "    \"\"\"\n",
    "    \n",
    "    user_index = indexes.categories.get_loc(user)\n",
    "    item_index = columns.categories.get_loc(item)\n",
    "    row_sim_1 = to_dense(similarities[:item_index, item_index])\n",
    "    row_sim_2 = to_dense(similarities[item_index, item_index + 1:])\n",
    "    try:\n",
    "        row_sim = np.concatenate((row_sim_1, row_sim_2), axis = None)\n",
    "    except:\n",
    "        print(row_sim_1.shape, row_sim_2.shape)\n",
    "    user_list = to_dense(counts[user_index, :])\n",
    "    user_list = np.delete(user_list, item_index)\n",
    "    row_sim_zeros = np.copy(row_sim)\n",
    "    row_sim_zeros[user_list == 0] = 0\n",
    "    numerador = np.dot(row_sim, user_list)\n",
    "    denominador = np.sum(row_sim_zeros)\n",
    "    if numerador*denominador == 0: return 0.\n",
    "    else: return numerador/denominador   "
   ]
  },
  {
   "cell_type": "code",
   "execution_count": 59,
   "metadata": {},
   "outputs": [
    {
     "ename": "IndexError",
     "evalue": "boolean index did not match indexed array along dimension 0; dimension is 706 but corresponding boolean dimension is 247473",
     "output_type": "error",
     "traceback": [
      "\u001b[1;31m---------------------------------------------------------------------------\u001b[0m",
      "\u001b[1;31mIndexError\u001b[0m                                Traceback (most recent call last)",
      "\u001b[1;32m<ipython-input-59-318a0cdcf63f>\u001b[0m in \u001b[0;36m<module>\u001b[1;34m()\u001b[0m\n\u001b[0;32m      1\u001b[0m \u001b[1;32mif\u001b[0m \u001b[0m__name__\u001b[0m \u001b[1;33m==\u001b[0m \u001b[1;34m'__main__'\u001b[0m\u001b[1;33m:\u001b[0m\u001b[1;33m\u001b[0m\u001b[0m\n\u001b[1;32m----> 2\u001b[1;33m     \u001b[0mprint\u001b[0m\u001b[1;33m(\u001b[0m\u001b[0mscore\u001b[0m\u001b[1;33m(\u001b[0m\u001b[0mcounts\u001b[0m\u001b[1;33m,\u001b[0m \u001b[0mindexes\u001b[0m\u001b[1;33m,\u001b[0m \u001b[0mcolumns\u001b[0m\u001b[1;33m,\u001b[0m \u001b[0msimilarities\u001b[0m\u001b[1;33m,\u001b[0m \u001b[1;36m111\u001b[0m\u001b[1;33m,\u001b[0m \u001b[1;36m123\u001b[0m\u001b[1;33m)\u001b[0m\u001b[1;33m)\u001b[0m\u001b[1;33m\u001b[0m\u001b[0m\n\u001b[0m",
      "\u001b[1;32m<ipython-input-58-981f64ebbfe7>\u001b[0m in \u001b[0;36mscore\u001b[1;34m(counts, indexes, columns, similarities, user, item)\u001b[0m\n\u001b[0;32m     39\u001b[0m     \u001b[0mrow_sim_zeros\u001b[0m \u001b[1;33m=\u001b[0m \u001b[0mnp\u001b[0m\u001b[1;33m.\u001b[0m\u001b[0mcopy\u001b[0m\u001b[1;33m(\u001b[0m\u001b[0mrow_sim\u001b[0m\u001b[1;33m)\u001b[0m\u001b[1;33m\u001b[0m\u001b[0m\n\u001b[0;32m     40\u001b[0m     \u001b[1;31m#Per considerar només aquells usuaris que han escoltat la canço en concret:\u001b[0m\u001b[1;33m\u001b[0m\u001b[1;33m\u001b[0m\u001b[0m\n\u001b[1;32m---> 41\u001b[1;33m     \u001b[0mrow_sim_zeros\u001b[0m\u001b[1;33m[\u001b[0m\u001b[0mitem_list\u001b[0m \u001b[1;33m==\u001b[0m \u001b[1;36m0\u001b[0m\u001b[1;33m]\u001b[0m \u001b[1;33m=\u001b[0m \u001b[1;36m0\u001b[0m\u001b[1;33m\u001b[0m\u001b[0m\n\u001b[0m\u001b[0;32m     42\u001b[0m \u001b[1;33m\u001b[0m\u001b[0m\n\u001b[0;32m     43\u001b[0m     \u001b[1;31m# ORIGINAL:\u001b[0m\u001b[1;33m\u001b[0m\u001b[1;33m\u001b[0m\u001b[0m\n",
      "\u001b[1;31mIndexError\u001b[0m: boolean index did not match indexed array along dimension 0; dimension is 706 but corresponding boolean dimension is 247473"
     ]
    }
   ],
   "source": [
    "if __name__ == '__main__':\n",
    "    print(score(counts, indexes, columns, similarities, 111, 123))"
   ]
  },
  {
   "cell_type": "markdown",
   "metadata": {},
   "source": [
    "Feu una funció que donat un usuari calculi per cada item que no ha escoltat la puntuació d'aquest. La funció retorna els $N$ items més ben puntuats."
   ]
  },
  {
   "cell_type": "code",
   "execution_count": 17,
   "metadata": {},
   "outputs": [],
   "source": [
    "def recommend_n_items(counts, indexes, columns, similarities, user, N):\n",
    "    \"\"\"\n",
    "    Donat un usuari calcula per cada ítem/artista que no ha escoltat la puntuació d'aquest. \n",
    "    La funció retorna els $N$ ítems més ben puntuats.\n",
    "    \n",
    "    :param counts, indexes, columns: Tupla retornada per `build_counts_table`\n",
    "    :param similarities: Matriu de similituds\n",
    "    :param user: Identificador de l'usuari\n",
    "    :param N: Nombre d'ítems que volem que siguin recomanats.\n",
    "    :return : Llista amb els IDs dels ítems recomanats\n",
    "    \"\"\"\n",
    "    \n",
    "    user_index = indexes.categories.get_loc(user)\n",
    "    user_list = to_dense(counts[user_index, :])\n",
    "    scores = np.ones_like(user_list)*float('-inf')\n",
    "    #Utilitzem tqdm per mesurar el temps d'espera\n",
    "    for item_index in tqdm_notebook(range(len(user_list)), desc='Recomending:', leave=False):\n",
    "        if user_list[item_index] == 0: #Només si no l'ha escoltat\n",
    "            item_ID = columns.categories[item_index]\n",
    "            scores[item_index] = score(counts, indexes, columns, similarities, user, item_ID)\n",
    "    indices = scores.argsort()\n",
    "    return columns.categories[indices[-N:]]\n",
    "\n",
    "\n",
    "#El mateix per recomanar per items i no per usuaris\n",
    "\n",
    "def recommend_n_items_by_items(counts, indexes, columns, similarities, user, N):\n",
    "    \"\"\"\n",
    "    Donat un usuari calcula per cada ítem/artista que no ha escoltat la puntuació d'aquest. \n",
    "    La funció retorna els $N$ ítems més ben puntuats.\n",
    "    \n",
    "    :param counts, indexes, columns: Tupla retornada per `build_counts_table`\n",
    "    :param similarities: Matriu de similituds\n",
    "    :param user: Identificador de l'usuari\n",
    "    :param N: Nombre d'ítems que volem que siguin recomanats.\n",
    "    :return : Llista amb els IDs dels ítems recomanats\n",
    "    \"\"\"\n",
    "    \n",
    "    user_index = indexes.categories.get_loc(user)\n",
    "    user_list = to_dense(counts[user_index, :])\n",
    "    scores = np.ones_like(user_list)*(-1.)\n",
    "    for item_index in tqdm_notebook(range(len(user_list)), desc='Recomending:', leave=False):\n",
    "        if user_list[item_index] == 0: # calcula score\n",
    "            item_ID = columns.categories[item_index]\n",
    "            scores[item_index] = score_items(counts, indexes, columns, similarities, user, item_ID)\n",
    "    items_sorted = np.argsort(-scores)\n",
    "    num_to_show = np.min((len(items_sorted), N))\n",
    "    showable = np.array([], dtype=np.int)\n",
    "    for i in range(num_to_show):\n",
    "        showable = np.append(showable, columns.categories[items_sorted[i]])\n",
    "            \n",
    "    return showable"
   ]
  },
  {
   "cell_type": "code",
   "execution_count": 49,
   "metadata": {},
   "outputs": [
    {
     "data": {
      "application/vnd.jupyter.widget-view+json": {
       "model_id": "",
       "version_major": 2,
       "version_minor": 0
      },
      "text/plain": [
       "HBox(children=(IntProgress(value=0, description='Recomending:', max=6544), HTML(value='')))"
      ]
     },
     "metadata": {},
     "output_type": "display_data"
    },
    {
     "name": "stdout",
     "output_type": "stream",
     "text": [
      "Int64Index([1192, 152, 1449, 2242, 4919, 2440, 1207, 770, 26, 310], dtype='int64')\n"
     ]
    }
   ],
   "source": [
    "if __name__ == '__main__':\n",
    "    out = recommend_n_items(counts, indexes, columns, similarities, 111, 10)\n",
    "    print(out)"
   ]
  },
  {
   "cell_type": "code",
   "execution_count": 42,
   "metadata": {},
   "outputs": [
    {
     "name": "stdout",
     "output_type": "stream",
     "text": [
      "[ 310   26  770 1207 2440 4919 2242 1449  152 1192]\n",
      "Int64Index([1192, 152, 1449, 2242, 4919, 2440, 1207, 770, 26, 310], dtype='int64')\n"
     ]
    }
   ],
   "source": [
    "print(out)"
   ]
  },
  {
   "cell_type": "markdown",
   "metadata": {},
   "source": [
    "### Possibles millores \n",
    "\n",
    "Per implementar millores, dupliqueu el notebook i feu-ho en la còpia!\n",
    "\n",
    "Deixeu aquest notebook amb la implementació base.\n",
    "\n",
    "**1) És Jaccard la millor mesura de similitud per les nostres dades?**\n",
    "Jaccard no té en compte la cardinalitat, únicament els elements no nuls. És, per les dades de reproduccions, una aproximació adequada?\n",
    "Si ho és, creus que el càlcul de recomanació col·laborativa és el més adhient? Mira el punt 3\n",
    "\n",
    "**2) Utilització completa de les dades:**\n",
    "Fer servir `df_original` tindrà (possiblement) resultats més fiables, però trigarà molt més que amb la versió reduida `df`. Pots canviar tant el nombre de dades utilitzades com quines dades es seleccionen.\n",
    "\n",
    "**3) Normalització: Prediccions escalades al domini de l'usuari:**\n",
    "Els usuaris escolten en diferent mesura als artites, uns més vegades, d'altres menys. Fent servir la següent formula, escalem la predicció a la mitja de l'usuari:\n",
    "$$pred(u, i) = \\hat{r}_{u,i} = \\bar{r_u} + \\frac{\\sum_{p\\neq u,r_{p,i}>0} sim(u, p)\\cdot (r_{p,i}-\\bar{r_i})}{\\sum_{p\\neq u,r_{p,i}>0} sim(u, p)}$$\n",
    "on $\\bar{r_u}$ és la mitjana de compres de l'usuari *u* i $\\bar{r_i}$ la mitja de reproduccions de l'artista *i*.\n",
    "    \n",
    "**4) Valor del nombre d'elements codificats: **\n",
    "Redueix la similitud entre els usuaris si el nombre de reproduccions és baix o descarta (en entrenament) aquells usuaris amb un petit nombre d'artistes escoltats.\n",
    "\n",
    "**5) Augment de la similitud: **\n",
    "Incrementeu el pes als usuaris que són realment similars (~ = 1)\n",
    "\n",
    "**6) Selecció d'usuaris semblants: **\n",
    "Només s'utilitza un subconjunt d'usuaris similars, descartant tots aquells usuaris poc similars.\n",
    "\n",
    "\n",
    "Totes aquestes tècniques es poden aplicar d'igual manera en la recomanació col·laborativa per usuaris o ítems."
   ]
  },
  {
   "cell_type": "markdown",
   "metadata": {},
   "source": [
    "# Kaggle\n",
    "\n",
    "Teniu la competició a la següent URL:\n",
    "\n",
    "https://www.kaggle.com/t/4a3fd7b1e44c40a5a208c6da21a23d05\n",
    "\n",
    "Si heu seguit tots els pydoc, el següent codi funcionarà directament sense canvis (@30min)."
   ]
  },
  {
   "cell_type": "code",
   "execution_count": 18,
   "metadata": {},
   "outputs": [
    {
     "data": {
      "application/vnd.jupyter.widget-view+json": {
       "model_id": "417cb56c4e29496dbf67dd351857baeb",
       "version_major": 2,
       "version_minor": 0
      },
      "text/plain": [
       "HBox(children=(IntProgress(value=0, max=99), HTML(value='')))"
      ]
     },
     "metadata": {},
     "output_type": "display_data"
    },
    {
     "name": "stderr",
     "output_type": "stream",
     "text": [
      "C:\\Users\\marti\\Anaconda3\\lib\\site-packages\\pandas\\core\\indexes\\api.py:107: RuntimeWarning: '<' not supported between instances of 'int' and 'str', sort order is undefined for incomparable objects\n",
      "  result = result.union(other)\n"
     ]
    },
    {
     "name": "stdout",
     "output_type": "stream",
     "text": [
      "\n",
      "296\n"
     ]
    }
   ],
   "source": [
    "from tqdm import tqdm_notebook\n",
    "# Only use those rows with more than 9 plays for better accuracy\n",
    "original_df_user_artists = original_df_user_artists[original_df_user_artists['plays'] > 9]\n",
    "# Series in which the users will be saved\n",
    "counter_kaggle_users = pd.Series([], name='userID', dtype=np.int64)\n",
    "# Unique kaggle users\n",
    "kaggle_users_unique = kaggle_df_user_artists['userID'].unique()\n",
    "# For each unique kaggle user:\n",
    "for user_id in tqdm_notebook(kaggle_users_unique):\n",
    "    df_plays_of_kaggle_user = kaggle_df_user_artists[kaggle_df_user_artists.userID == user_id]\n",
    "    df_plays_of_kaggle_user = df_plays_of_kaggle_user[df_plays_of_kaggle_user.plays > df_plays_of_kaggle_user['plays'].sum()*0.02]\n",
    "    artists_of_user_list = np.array(df_plays_of_kaggle_user['musicbrainzID'])\n",
    "    # For each kaggle user, get a list with all the artists listened\n",
    "    # that account for more than the 2% of the total plays of that user.\n",
    "    # The others are ignored as they aren't significant\n",
    "    df_accumulated_users = pd.Series([], name='userID', dtype=np.int64)\n",
    "    for artist_id in artists_of_user_list:\n",
    "        # For each artist in that list, get and add the users who also listened to that artist from\n",
    "        # the original dataFrame\n",
    "        df_original_users_addition = original_df_user_artists[original_df_user_artists['musicbrainzID'] == artist_id]\n",
    "        df_accumulated_users = pd.concat((df_accumulated_users, df_original_users_addition), sort=False)\n",
    "    counting_df = df_accumulated_users.userID.value_counts()\n",
    "    # Only add tho the counter the first 3 users who have more artists in common with the kaggle user\n",
    "    counter_kaggle_users = pd.concat((counter_kaggle_users, counting_df.head(3)), sort=False)\n",
    "# Doing this, we can get the most similar users from the whole data set, and thus get a better result\n",
    "# print(counter_kaggle_users)\n",
    "print(len(counter_kaggle_users.index.unique()))"
   ]
  },
  {
   "cell_type": "code",
   "execution_count": 19,
   "metadata": {},
   "outputs": [],
   "source": [
    "#print(original_df_user_artists[original_df_user_artists.userID == 357562])\n",
    "#print(kaggle_df_user_artists[kaggle_df_user_artists.userID == 58204])\n",
    "def normalize_plays(df):\n",
    "    df_out = pd.DataFrame([])\n",
    "    for user_id in tqdm_notebook(df['userID'].unique(), desc='Normalizing'):\n",
    "        df_user = df[df['userID'] == user_id]\n",
    "        df_user['plays'] = df_user['plays']*10/df_user['plays'].max()\n",
    "        df_out = pd.concat((df_user, df_out), sort=False)\n",
    "        #print(df_user)\n",
    "    return df_out"
   ]
  },
  {
   "cell_type": "code",
   "execution_count": 28,
   "metadata": {},
   "outputs": [
    {
     "name": "stdout",
     "output_type": "stream",
     "text": [
      "(247474, 10000)\n",
      "(14359, 3)\n",
      "(395, 4590)\n"
     ]
    },
    {
     "data": {
      "application/vnd.jupyter.widget-view+json": {
       "model_id": "fb91b5bad93048b49e87ad7df3655545",
       "version_major": 2,
       "version_minor": 0
      },
      "text/plain": [
       "HBox(children=(IntProgress(value=0, description='Sim matrix:', max=395), HTML(value='')))"
      ]
     },
     "metadata": {},
     "output_type": "display_data"
    },
    {
     "name": "stdout",
     "output_type": "stream",
     "text": [
      "\n"
     ]
    },
    {
     "data": {
      "application/vnd.jupyter.widget-view+json": {
       "model_id": "b7e598961211442f830c8698460939c1",
       "version_major": 2,
       "version_minor": 0
      },
      "text/plain": [
       "HBox(children=(IntProgress(value=0, max=99), HTML(value='')))"
      ]
     },
     "metadata": {},
     "output_type": "display_data"
    },
    {
     "data": {
      "application/vnd.jupyter.widget-view+json": {
       "model_id": "",
       "version_major": 2,
       "version_minor": 0
      },
      "text/plain": [
       "HBox(children=(IntProgress(value=0, description='Recomending:', max=4590), HTML(value='')))"
      ]
     },
     "metadata": {},
     "output_type": "display_data"
    },
    {
     "data": {
      "application/vnd.jupyter.widget-view+json": {
       "model_id": "",
       "version_major": 2,
       "version_minor": 0
      },
      "text/plain": [
       "HBox(children=(IntProgress(value=0, description='Recomending:', max=4590), HTML(value='')))"
      ]
     },
     "metadata": {},
     "output_type": "display_data"
    },
    {
     "data": {
      "application/vnd.jupyter.widget-view+json": {
       "model_id": "",
       "version_major": 2,
       "version_minor": 0
      },
      "text/plain": [
       "HBox(children=(IntProgress(value=0, description='Recomending:', max=4590), HTML(value='')))"
      ]
     },
     "metadata": {},
     "output_type": "display_data"
    },
    {
     "data": {
      "application/vnd.jupyter.widget-view+json": {
       "model_id": "",
       "version_major": 2,
       "version_minor": 0
      },
      "text/plain": [
       "HBox(children=(IntProgress(value=0, description='Recomending:', max=4590), HTML(value='')))"
      ]
     },
     "metadata": {},
     "output_type": "display_data"
    },
    {
     "data": {
      "application/vnd.jupyter.widget-view+json": {
       "model_id": "",
       "version_major": 2,
       "version_minor": 0
      },
      "text/plain": [
       "HBox(children=(IntProgress(value=0, description='Recomending:', max=4590), HTML(value='')))"
      ]
     },
     "metadata": {},
     "output_type": "display_data"
    },
    {
     "data": {
      "application/vnd.jupyter.widget-view+json": {
       "model_id": "",
       "version_major": 2,
       "version_minor": 0
      },
      "text/plain": [
       "HBox(children=(IntProgress(value=0, description='Recomending:', max=4590), HTML(value='')))"
      ]
     },
     "metadata": {},
     "output_type": "display_data"
    },
    {
     "data": {
      "application/vnd.jupyter.widget-view+json": {
       "model_id": "",
       "version_major": 2,
       "version_minor": 0
      },
      "text/plain": [
       "HBox(children=(IntProgress(value=0, description='Recomending:', max=4590), HTML(value='')))"
      ]
     },
     "metadata": {},
     "output_type": "display_data"
    },
    {
     "data": {
      "application/vnd.jupyter.widget-view+json": {
       "model_id": "",
       "version_major": 2,
       "version_minor": 0
      },
      "text/plain": [
       "HBox(children=(IntProgress(value=0, description='Recomending:', max=4590), HTML(value='')))"
      ]
     },
     "metadata": {},
     "output_type": "display_data"
    },
    {
     "data": {
      "application/vnd.jupyter.widget-view+json": {
       "model_id": "",
       "version_major": 2,
       "version_minor": 0
      },
      "text/plain": [
       "HBox(children=(IntProgress(value=0, description='Recomending:', max=4590), HTML(value='')))"
      ]
     },
     "metadata": {},
     "output_type": "display_data"
    },
    {
     "data": {
      "application/vnd.jupyter.widget-view+json": {
       "model_id": "",
       "version_major": 2,
       "version_minor": 0
      },
      "text/plain": [
       "HBox(children=(IntProgress(value=0, description='Recomending:', max=4590), HTML(value='')))"
      ]
     },
     "metadata": {},
     "output_type": "display_data"
    },
    {
     "data": {
      "application/vnd.jupyter.widget-view+json": {
       "model_id": "",
       "version_major": 2,
       "version_minor": 0
      },
      "text/plain": [
       "HBox(children=(IntProgress(value=0, description='Recomending:', max=4590), HTML(value='')))"
      ]
     },
     "metadata": {},
     "output_type": "display_data"
    },
    {
     "data": {
      "application/vnd.jupyter.widget-view+json": {
       "model_id": "",
       "version_major": 2,
       "version_minor": 0
      },
      "text/plain": [
       "HBox(children=(IntProgress(value=0, description='Recomending:', max=4590), HTML(value='')))"
      ]
     },
     "metadata": {},
     "output_type": "display_data"
    },
    {
     "data": {
      "application/vnd.jupyter.widget-view+json": {
       "model_id": "",
       "version_major": 2,
       "version_minor": 0
      },
      "text/plain": [
       "HBox(children=(IntProgress(value=0, description='Recomending:', max=4590), HTML(value='')))"
      ]
     },
     "metadata": {},
     "output_type": "display_data"
    },
    {
     "data": {
      "application/vnd.jupyter.widget-view+json": {
       "model_id": "",
       "version_major": 2,
       "version_minor": 0
      },
      "text/plain": [
       "HBox(children=(IntProgress(value=0, description='Recomending:', max=4590), HTML(value='')))"
      ]
     },
     "metadata": {},
     "output_type": "display_data"
    },
    {
     "data": {
      "application/vnd.jupyter.widget-view+json": {
       "model_id": "",
       "version_major": 2,
       "version_minor": 0
      },
      "text/plain": [
       "HBox(children=(IntProgress(value=0, description='Recomending:', max=4590), HTML(value='')))"
      ]
     },
     "metadata": {},
     "output_type": "display_data"
    },
    {
     "data": {
      "application/vnd.jupyter.widget-view+json": {
       "model_id": "",
       "version_major": 2,
       "version_minor": 0
      },
      "text/plain": [
       "HBox(children=(IntProgress(value=0, description='Recomending:', max=4590), HTML(value='')))"
      ]
     },
     "metadata": {},
     "output_type": "display_data"
    },
    {
     "data": {
      "application/vnd.jupyter.widget-view+json": {
       "model_id": "",
       "version_major": 2,
       "version_minor": 0
      },
      "text/plain": [
       "HBox(children=(IntProgress(value=0, description='Recomending:', max=4590), HTML(value='')))"
      ]
     },
     "metadata": {},
     "output_type": "display_data"
    },
    {
     "data": {
      "application/vnd.jupyter.widget-view+json": {
       "model_id": "",
       "version_major": 2,
       "version_minor": 0
      },
      "text/plain": [
       "HBox(children=(IntProgress(value=0, description='Recomending:', max=4590), HTML(value='')))"
      ]
     },
     "metadata": {},
     "output_type": "display_data"
    },
    {
     "data": {
      "application/vnd.jupyter.widget-view+json": {
       "model_id": "",
       "version_major": 2,
       "version_minor": 0
      },
      "text/plain": [
       "HBox(children=(IntProgress(value=0, description='Recomending:', max=4590), HTML(value='')))"
      ]
     },
     "metadata": {},
     "output_type": "display_data"
    },
    {
     "data": {
      "application/vnd.jupyter.widget-view+json": {
       "model_id": "",
       "version_major": 2,
       "version_minor": 0
      },
      "text/plain": [
       "HBox(children=(IntProgress(value=0, description='Recomending:', max=4590), HTML(value='')))"
      ]
     },
     "metadata": {},
     "output_type": "display_data"
    },
    {
     "data": {
      "application/vnd.jupyter.widget-view+json": {
       "model_id": "",
       "version_major": 2,
       "version_minor": 0
      },
      "text/plain": [
       "HBox(children=(IntProgress(value=0, description='Recomending:', max=4590), HTML(value='')))"
      ]
     },
     "metadata": {},
     "output_type": "display_data"
    },
    {
     "data": {
      "application/vnd.jupyter.widget-view+json": {
       "model_id": "",
       "version_major": 2,
       "version_minor": 0
      },
      "text/plain": [
       "HBox(children=(IntProgress(value=0, description='Recomending:', max=4590), HTML(value='')))"
      ]
     },
     "metadata": {},
     "output_type": "display_data"
    },
    {
     "data": {
      "application/vnd.jupyter.widget-view+json": {
       "model_id": "",
       "version_major": 2,
       "version_minor": 0
      },
      "text/plain": [
       "HBox(children=(IntProgress(value=0, description='Recomending:', max=4590), HTML(value='')))"
      ]
     },
     "metadata": {},
     "output_type": "display_data"
    },
    {
     "data": {
      "application/vnd.jupyter.widget-view+json": {
       "model_id": "",
       "version_major": 2,
       "version_minor": 0
      },
      "text/plain": [
       "HBox(children=(IntProgress(value=0, description='Recomending:', max=4590), HTML(value='')))"
      ]
     },
     "metadata": {},
     "output_type": "display_data"
    },
    {
     "data": {
      "application/vnd.jupyter.widget-view+json": {
       "model_id": "",
       "version_major": 2,
       "version_minor": 0
      },
      "text/plain": [
       "HBox(children=(IntProgress(value=0, description='Recomending:', max=4590), HTML(value='')))"
      ]
     },
     "metadata": {},
     "output_type": "display_data"
    },
    {
     "data": {
      "application/vnd.jupyter.widget-view+json": {
       "model_id": "",
       "version_major": 2,
       "version_minor": 0
      },
      "text/plain": [
       "HBox(children=(IntProgress(value=0, description='Recomending:', max=4590), HTML(value='')))"
      ]
     },
     "metadata": {},
     "output_type": "display_data"
    },
    {
     "data": {
      "application/vnd.jupyter.widget-view+json": {
       "model_id": "",
       "version_major": 2,
       "version_minor": 0
      },
      "text/plain": [
       "HBox(children=(IntProgress(value=0, description='Recomending:', max=4590), HTML(value='')))"
      ]
     },
     "metadata": {},
     "output_type": "display_data"
    },
    {
     "data": {
      "application/vnd.jupyter.widget-view+json": {
       "model_id": "",
       "version_major": 2,
       "version_minor": 0
      },
      "text/plain": [
       "HBox(children=(IntProgress(value=0, description='Recomending:', max=4590), HTML(value='')))"
      ]
     },
     "metadata": {},
     "output_type": "display_data"
    },
    {
     "data": {
      "application/vnd.jupyter.widget-view+json": {
       "model_id": "",
       "version_major": 2,
       "version_minor": 0
      },
      "text/plain": [
       "HBox(children=(IntProgress(value=0, description='Recomending:', max=4590), HTML(value='')))"
      ]
     },
     "metadata": {},
     "output_type": "display_data"
    },
    {
     "data": {
      "application/vnd.jupyter.widget-view+json": {
       "model_id": "",
       "version_major": 2,
       "version_minor": 0
      },
      "text/plain": [
       "HBox(children=(IntProgress(value=0, description='Recomending:', max=4590), HTML(value='')))"
      ]
     },
     "metadata": {},
     "output_type": "display_data"
    },
    {
     "data": {
      "application/vnd.jupyter.widget-view+json": {
       "model_id": "",
       "version_major": 2,
       "version_minor": 0
      },
      "text/plain": [
       "HBox(children=(IntProgress(value=0, description='Recomending:', max=4590), HTML(value='')))"
      ]
     },
     "metadata": {},
     "output_type": "display_data"
    },
    {
     "data": {
      "application/vnd.jupyter.widget-view+json": {
       "model_id": "",
       "version_major": 2,
       "version_minor": 0
      },
      "text/plain": [
       "HBox(children=(IntProgress(value=0, description='Recomending:', max=4590), HTML(value='')))"
      ]
     },
     "metadata": {},
     "output_type": "display_data"
    },
    {
     "data": {
      "application/vnd.jupyter.widget-view+json": {
       "model_id": "",
       "version_major": 2,
       "version_minor": 0
      },
      "text/plain": [
       "HBox(children=(IntProgress(value=0, description='Recomending:', max=4590), HTML(value='')))"
      ]
     },
     "metadata": {},
     "output_type": "display_data"
    },
    {
     "data": {
      "application/vnd.jupyter.widget-view+json": {
       "model_id": "",
       "version_major": 2,
       "version_minor": 0
      },
      "text/plain": [
       "HBox(children=(IntProgress(value=0, description='Recomending:', max=4590), HTML(value='')))"
      ]
     },
     "metadata": {},
     "output_type": "display_data"
    },
    {
     "data": {
      "application/vnd.jupyter.widget-view+json": {
       "model_id": "",
       "version_major": 2,
       "version_minor": 0
      },
      "text/plain": [
       "HBox(children=(IntProgress(value=0, description='Recomending:', max=4590), HTML(value='')))"
      ]
     },
     "metadata": {},
     "output_type": "display_data"
    },
    {
     "data": {
      "application/vnd.jupyter.widget-view+json": {
       "model_id": "",
       "version_major": 2,
       "version_minor": 0
      },
      "text/plain": [
       "HBox(children=(IntProgress(value=0, description='Recomending:', max=4590), HTML(value='')))"
      ]
     },
     "metadata": {},
     "output_type": "display_data"
    },
    {
     "data": {
      "application/vnd.jupyter.widget-view+json": {
       "model_id": "",
       "version_major": 2,
       "version_minor": 0
      },
      "text/plain": [
       "HBox(children=(IntProgress(value=0, description='Recomending:', max=4590), HTML(value='')))"
      ]
     },
     "metadata": {},
     "output_type": "display_data"
    },
    {
     "data": {
      "application/vnd.jupyter.widget-view+json": {
       "model_id": "",
       "version_major": 2,
       "version_minor": 0
      },
      "text/plain": [
       "HBox(children=(IntProgress(value=0, description='Recomending:', max=4590), HTML(value='')))"
      ]
     },
     "metadata": {},
     "output_type": "display_data"
    },
    {
     "data": {
      "application/vnd.jupyter.widget-view+json": {
       "model_id": "",
       "version_major": 2,
       "version_minor": 0
      },
      "text/plain": [
       "HBox(children=(IntProgress(value=0, description='Recomending:', max=4590), HTML(value='')))"
      ]
     },
     "metadata": {},
     "output_type": "display_data"
    },
    {
     "data": {
      "application/vnd.jupyter.widget-view+json": {
       "model_id": "",
       "version_major": 2,
       "version_minor": 0
      },
      "text/plain": [
       "HBox(children=(IntProgress(value=0, description='Recomending:', max=4590), HTML(value='')))"
      ]
     },
     "metadata": {},
     "output_type": "display_data"
    },
    {
     "data": {
      "application/vnd.jupyter.widget-view+json": {
       "model_id": "",
       "version_major": 2,
       "version_minor": 0
      },
      "text/plain": [
       "HBox(children=(IntProgress(value=0, description='Recomending:', max=4590), HTML(value='')))"
      ]
     },
     "metadata": {},
     "output_type": "display_data"
    },
    {
     "data": {
      "application/vnd.jupyter.widget-view+json": {
       "model_id": "",
       "version_major": 2,
       "version_minor": 0
      },
      "text/plain": [
       "HBox(children=(IntProgress(value=0, description='Recomending:', max=4590), HTML(value='')))"
      ]
     },
     "metadata": {},
     "output_type": "display_data"
    },
    {
     "data": {
      "application/vnd.jupyter.widget-view+json": {
       "model_id": "",
       "version_major": 2,
       "version_minor": 0
      },
      "text/plain": [
       "HBox(children=(IntProgress(value=0, description='Recomending:', max=4590), HTML(value='')))"
      ]
     },
     "metadata": {},
     "output_type": "display_data"
    },
    {
     "data": {
      "application/vnd.jupyter.widget-view+json": {
       "model_id": "",
       "version_major": 2,
       "version_minor": 0
      },
      "text/plain": [
       "HBox(children=(IntProgress(value=0, description='Recomending:', max=4590), HTML(value='')))"
      ]
     },
     "metadata": {},
     "output_type": "display_data"
    },
    {
     "data": {
      "application/vnd.jupyter.widget-view+json": {
       "model_id": "",
       "version_major": 2,
       "version_minor": 0
      },
      "text/plain": [
       "HBox(children=(IntProgress(value=0, description='Recomending:', max=4590), HTML(value='')))"
      ]
     },
     "metadata": {},
     "output_type": "display_data"
    },
    {
     "data": {
      "application/vnd.jupyter.widget-view+json": {
       "model_id": "",
       "version_major": 2,
       "version_minor": 0
      },
      "text/plain": [
       "HBox(children=(IntProgress(value=0, description='Recomending:', max=4590), HTML(value='')))"
      ]
     },
     "metadata": {},
     "output_type": "display_data"
    },
    {
     "data": {
      "application/vnd.jupyter.widget-view+json": {
       "model_id": "",
       "version_major": 2,
       "version_minor": 0
      },
      "text/plain": [
       "HBox(children=(IntProgress(value=0, description='Recomending:', max=4590), HTML(value='')))"
      ]
     },
     "metadata": {},
     "output_type": "display_data"
    },
    {
     "data": {
      "application/vnd.jupyter.widget-view+json": {
       "model_id": "",
       "version_major": 2,
       "version_minor": 0
      },
      "text/plain": [
       "HBox(children=(IntProgress(value=0, description='Recomending:', max=4590), HTML(value='')))"
      ]
     },
     "metadata": {},
     "output_type": "display_data"
    },
    {
     "data": {
      "application/vnd.jupyter.widget-view+json": {
       "model_id": "",
       "version_major": 2,
       "version_minor": 0
      },
      "text/plain": [
       "HBox(children=(IntProgress(value=0, description='Recomending:', max=4590), HTML(value='')))"
      ]
     },
     "metadata": {},
     "output_type": "display_data"
    },
    {
     "data": {
      "application/vnd.jupyter.widget-view+json": {
       "model_id": "",
       "version_major": 2,
       "version_minor": 0
      },
      "text/plain": [
       "HBox(children=(IntProgress(value=0, description='Recomending:', max=4590), HTML(value='')))"
      ]
     },
     "metadata": {},
     "output_type": "display_data"
    },
    {
     "data": {
      "application/vnd.jupyter.widget-view+json": {
       "model_id": "",
       "version_major": 2,
       "version_minor": 0
      },
      "text/plain": [
       "HBox(children=(IntProgress(value=0, description='Recomending:', max=4590), HTML(value='')))"
      ]
     },
     "metadata": {},
     "output_type": "display_data"
    },
    {
     "data": {
      "application/vnd.jupyter.widget-view+json": {
       "model_id": "",
       "version_major": 2,
       "version_minor": 0
      },
      "text/plain": [
       "HBox(children=(IntProgress(value=0, description='Recomending:', max=4590), HTML(value='')))"
      ]
     },
     "metadata": {},
     "output_type": "display_data"
    },
    {
     "data": {
      "application/vnd.jupyter.widget-view+json": {
       "model_id": "",
       "version_major": 2,
       "version_minor": 0
      },
      "text/plain": [
       "HBox(children=(IntProgress(value=0, description='Recomending:', max=4590), HTML(value='')))"
      ]
     },
     "metadata": {},
     "output_type": "display_data"
    },
    {
     "data": {
      "application/vnd.jupyter.widget-view+json": {
       "model_id": "",
       "version_major": 2,
       "version_minor": 0
      },
      "text/plain": [
       "HBox(children=(IntProgress(value=0, description='Recomending:', max=4590), HTML(value='')))"
      ]
     },
     "metadata": {},
     "output_type": "display_data"
    },
    {
     "data": {
      "application/vnd.jupyter.widget-view+json": {
       "model_id": "",
       "version_major": 2,
       "version_minor": 0
      },
      "text/plain": [
       "HBox(children=(IntProgress(value=0, description='Recomending:', max=4590), HTML(value='')))"
      ]
     },
     "metadata": {},
     "output_type": "display_data"
    },
    {
     "data": {
      "application/vnd.jupyter.widget-view+json": {
       "model_id": "",
       "version_major": 2,
       "version_minor": 0
      },
      "text/plain": [
       "HBox(children=(IntProgress(value=0, description='Recomending:', max=4590), HTML(value='')))"
      ]
     },
     "metadata": {},
     "output_type": "display_data"
    },
    {
     "data": {
      "application/vnd.jupyter.widget-view+json": {
       "model_id": "",
       "version_major": 2,
       "version_minor": 0
      },
      "text/plain": [
       "HBox(children=(IntProgress(value=0, description='Recomending:', max=4590), HTML(value='')))"
      ]
     },
     "metadata": {},
     "output_type": "display_data"
    },
    {
     "data": {
      "application/vnd.jupyter.widget-view+json": {
       "model_id": "",
       "version_major": 2,
       "version_minor": 0
      },
      "text/plain": [
       "HBox(children=(IntProgress(value=0, description='Recomending:', max=4590), HTML(value='')))"
      ]
     },
     "metadata": {},
     "output_type": "display_data"
    },
    {
     "data": {
      "application/vnd.jupyter.widget-view+json": {
       "model_id": "",
       "version_major": 2,
       "version_minor": 0
      },
      "text/plain": [
       "HBox(children=(IntProgress(value=0, description='Recomending:', max=4590), HTML(value='')))"
      ]
     },
     "metadata": {},
     "output_type": "display_data"
    },
    {
     "data": {
      "application/vnd.jupyter.widget-view+json": {
       "model_id": "",
       "version_major": 2,
       "version_minor": 0
      },
      "text/plain": [
       "HBox(children=(IntProgress(value=0, description='Recomending:', max=4590), HTML(value='')))"
      ]
     },
     "metadata": {},
     "output_type": "display_data"
    },
    {
     "data": {
      "application/vnd.jupyter.widget-view+json": {
       "model_id": "",
       "version_major": 2,
       "version_minor": 0
      },
      "text/plain": [
       "HBox(children=(IntProgress(value=0, description='Recomending:', max=4590), HTML(value='')))"
      ]
     },
     "metadata": {},
     "output_type": "display_data"
    },
    {
     "data": {
      "application/vnd.jupyter.widget-view+json": {
       "model_id": "",
       "version_major": 2,
       "version_minor": 0
      },
      "text/plain": [
       "HBox(children=(IntProgress(value=0, description='Recomending:', max=4590), HTML(value='')))"
      ]
     },
     "metadata": {},
     "output_type": "display_data"
    },
    {
     "data": {
      "application/vnd.jupyter.widget-view+json": {
       "model_id": "",
       "version_major": 2,
       "version_minor": 0
      },
      "text/plain": [
       "HBox(children=(IntProgress(value=0, description='Recomending:', max=4590), HTML(value='')))"
      ]
     },
     "metadata": {},
     "output_type": "display_data"
    },
    {
     "data": {
      "application/vnd.jupyter.widget-view+json": {
       "model_id": "",
       "version_major": 2,
       "version_minor": 0
      },
      "text/plain": [
       "HBox(children=(IntProgress(value=0, description='Recomending:', max=4590), HTML(value='')))"
      ]
     },
     "metadata": {},
     "output_type": "display_data"
    },
    {
     "data": {
      "application/vnd.jupyter.widget-view+json": {
       "model_id": "",
       "version_major": 2,
       "version_minor": 0
      },
      "text/plain": [
       "HBox(children=(IntProgress(value=0, description='Recomending:', max=4590), HTML(value='')))"
      ]
     },
     "metadata": {},
     "output_type": "display_data"
    },
    {
     "data": {
      "application/vnd.jupyter.widget-view+json": {
       "model_id": "",
       "version_major": 2,
       "version_minor": 0
      },
      "text/plain": [
       "HBox(children=(IntProgress(value=0, description='Recomending:', max=4590), HTML(value='')))"
      ]
     },
     "metadata": {},
     "output_type": "display_data"
    },
    {
     "data": {
      "application/vnd.jupyter.widget-view+json": {
       "model_id": "",
       "version_major": 2,
       "version_minor": 0
      },
      "text/plain": [
       "HBox(children=(IntProgress(value=0, description='Recomending:', max=4590), HTML(value='')))"
      ]
     },
     "metadata": {},
     "output_type": "display_data"
    },
    {
     "data": {
      "application/vnd.jupyter.widget-view+json": {
       "model_id": "",
       "version_major": 2,
       "version_minor": 0
      },
      "text/plain": [
       "HBox(children=(IntProgress(value=0, description='Recomending:', max=4590), HTML(value='')))"
      ]
     },
     "metadata": {},
     "output_type": "display_data"
    },
    {
     "data": {
      "application/vnd.jupyter.widget-view+json": {
       "model_id": "",
       "version_major": 2,
       "version_minor": 0
      },
      "text/plain": [
       "HBox(children=(IntProgress(value=0, description='Recomending:', max=4590), HTML(value='')))"
      ]
     },
     "metadata": {},
     "output_type": "display_data"
    },
    {
     "data": {
      "application/vnd.jupyter.widget-view+json": {
       "model_id": "",
       "version_major": 2,
       "version_minor": 0
      },
      "text/plain": [
       "HBox(children=(IntProgress(value=0, description='Recomending:', max=4590), HTML(value='')))"
      ]
     },
     "metadata": {},
     "output_type": "display_data"
    },
    {
     "data": {
      "application/vnd.jupyter.widget-view+json": {
       "model_id": "",
       "version_major": 2,
       "version_minor": 0
      },
      "text/plain": [
       "HBox(children=(IntProgress(value=0, description='Recomending:', max=4590), HTML(value='')))"
      ]
     },
     "metadata": {},
     "output_type": "display_data"
    },
    {
     "data": {
      "application/vnd.jupyter.widget-view+json": {
       "model_id": "",
       "version_major": 2,
       "version_minor": 0
      },
      "text/plain": [
       "HBox(children=(IntProgress(value=0, description='Recomending:', max=4590), HTML(value='')))"
      ]
     },
     "metadata": {},
     "output_type": "display_data"
    },
    {
     "data": {
      "application/vnd.jupyter.widget-view+json": {
       "model_id": "",
       "version_major": 2,
       "version_minor": 0
      },
      "text/plain": [
       "HBox(children=(IntProgress(value=0, description='Recomending:', max=4590), HTML(value='')))"
      ]
     },
     "metadata": {},
     "output_type": "display_data"
    },
    {
     "data": {
      "application/vnd.jupyter.widget-view+json": {
       "model_id": "",
       "version_major": 2,
       "version_minor": 0
      },
      "text/plain": [
       "HBox(children=(IntProgress(value=0, description='Recomending:', max=4590), HTML(value='')))"
      ]
     },
     "metadata": {},
     "output_type": "display_data"
    },
    {
     "data": {
      "application/vnd.jupyter.widget-view+json": {
       "model_id": "",
       "version_major": 2,
       "version_minor": 0
      },
      "text/plain": [
       "HBox(children=(IntProgress(value=0, description='Recomending:', max=4590), HTML(value='')))"
      ]
     },
     "metadata": {},
     "output_type": "display_data"
    },
    {
     "data": {
      "application/vnd.jupyter.widget-view+json": {
       "model_id": "",
       "version_major": 2,
       "version_minor": 0
      },
      "text/plain": [
       "HBox(children=(IntProgress(value=0, description='Recomending:', max=4590), HTML(value='')))"
      ]
     },
     "metadata": {},
     "output_type": "display_data"
    },
    {
     "data": {
      "application/vnd.jupyter.widget-view+json": {
       "model_id": "",
       "version_major": 2,
       "version_minor": 0
      },
      "text/plain": [
       "HBox(children=(IntProgress(value=0, description='Recomending:', max=4590), HTML(value='')))"
      ]
     },
     "metadata": {},
     "output_type": "display_data"
    },
    {
     "data": {
      "application/vnd.jupyter.widget-view+json": {
       "model_id": "",
       "version_major": 2,
       "version_minor": 0
      },
      "text/plain": [
       "HBox(children=(IntProgress(value=0, description='Recomending:', max=4590), HTML(value='')))"
      ]
     },
     "metadata": {},
     "output_type": "display_data"
    },
    {
     "data": {
      "application/vnd.jupyter.widget-view+json": {
       "model_id": "",
       "version_major": 2,
       "version_minor": 0
      },
      "text/plain": [
       "HBox(children=(IntProgress(value=0, description='Recomending:', max=4590), HTML(value='')))"
      ]
     },
     "metadata": {},
     "output_type": "display_data"
    },
    {
     "data": {
      "application/vnd.jupyter.widget-view+json": {
       "model_id": "",
       "version_major": 2,
       "version_minor": 0
      },
      "text/plain": [
       "HBox(children=(IntProgress(value=0, description='Recomending:', max=4590), HTML(value='')))"
      ]
     },
     "metadata": {},
     "output_type": "display_data"
    },
    {
     "data": {
      "application/vnd.jupyter.widget-view+json": {
       "model_id": "",
       "version_major": 2,
       "version_minor": 0
      },
      "text/plain": [
       "HBox(children=(IntProgress(value=0, description='Recomending:', max=4590), HTML(value='')))"
      ]
     },
     "metadata": {},
     "output_type": "display_data"
    },
    {
     "data": {
      "application/vnd.jupyter.widget-view+json": {
       "model_id": "",
       "version_major": 2,
       "version_minor": 0
      },
      "text/plain": [
       "HBox(children=(IntProgress(value=0, description='Recomending:', max=4590), HTML(value='')))"
      ]
     },
     "metadata": {},
     "output_type": "display_data"
    },
    {
     "data": {
      "application/vnd.jupyter.widget-view+json": {
       "model_id": "",
       "version_major": 2,
       "version_minor": 0
      },
      "text/plain": [
       "HBox(children=(IntProgress(value=0, description='Recomending:', max=4590), HTML(value='')))"
      ]
     },
     "metadata": {},
     "output_type": "display_data"
    },
    {
     "data": {
      "application/vnd.jupyter.widget-view+json": {
       "model_id": "",
       "version_major": 2,
       "version_minor": 0
      },
      "text/plain": [
       "HBox(children=(IntProgress(value=0, description='Recomending:', max=4590), HTML(value='')))"
      ]
     },
     "metadata": {},
     "output_type": "display_data"
    },
    {
     "data": {
      "application/vnd.jupyter.widget-view+json": {
       "model_id": "",
       "version_major": 2,
       "version_minor": 0
      },
      "text/plain": [
       "HBox(children=(IntProgress(value=0, description='Recomending:', max=4590), HTML(value='')))"
      ]
     },
     "metadata": {},
     "output_type": "display_data"
    },
    {
     "data": {
      "application/vnd.jupyter.widget-view+json": {
       "model_id": "",
       "version_major": 2,
       "version_minor": 0
      },
      "text/plain": [
       "HBox(children=(IntProgress(value=0, description='Recomending:', max=4590), HTML(value='')))"
      ]
     },
     "metadata": {},
     "output_type": "display_data"
    },
    {
     "data": {
      "application/vnd.jupyter.widget-view+json": {
       "model_id": "",
       "version_major": 2,
       "version_minor": 0
      },
      "text/plain": [
       "HBox(children=(IntProgress(value=0, description='Recomending:', max=4590), HTML(value='')))"
      ]
     },
     "metadata": {},
     "output_type": "display_data"
    },
    {
     "data": {
      "application/vnd.jupyter.widget-view+json": {
       "model_id": "",
       "version_major": 2,
       "version_minor": 0
      },
      "text/plain": [
       "HBox(children=(IntProgress(value=0, description='Recomending:', max=4590), HTML(value='')))"
      ]
     },
     "metadata": {},
     "output_type": "display_data"
    },
    {
     "data": {
      "application/vnd.jupyter.widget-view+json": {
       "model_id": "",
       "version_major": 2,
       "version_minor": 0
      },
      "text/plain": [
       "HBox(children=(IntProgress(value=0, description='Recomending:', max=4590), HTML(value='')))"
      ]
     },
     "metadata": {},
     "output_type": "display_data"
    },
    {
     "data": {
      "application/vnd.jupyter.widget-view+json": {
       "model_id": "",
       "version_major": 2,
       "version_minor": 0
      },
      "text/plain": [
       "HBox(children=(IntProgress(value=0, description='Recomending:', max=4590), HTML(value='')))"
      ]
     },
     "metadata": {},
     "output_type": "display_data"
    },
    {
     "data": {
      "application/vnd.jupyter.widget-view+json": {
       "model_id": "",
       "version_major": 2,
       "version_minor": 0
      },
      "text/plain": [
       "HBox(children=(IntProgress(value=0, description='Recomending:', max=4590), HTML(value='')))"
      ]
     },
     "metadata": {},
     "output_type": "display_data"
    },
    {
     "data": {
      "application/vnd.jupyter.widget-view+json": {
       "model_id": "",
       "version_major": 2,
       "version_minor": 0
      },
      "text/plain": [
       "HBox(children=(IntProgress(value=0, description='Recomending:', max=4590), HTML(value='')))"
      ]
     },
     "metadata": {},
     "output_type": "display_data"
    },
    {
     "data": {
      "application/vnd.jupyter.widget-view+json": {
       "model_id": "",
       "version_major": 2,
       "version_minor": 0
      },
      "text/plain": [
       "HBox(children=(IntProgress(value=0, description='Recomending:', max=4590), HTML(value='')))"
      ]
     },
     "metadata": {},
     "output_type": "display_data"
    },
    {
     "data": {
      "application/vnd.jupyter.widget-view+json": {
       "model_id": "",
       "version_major": 2,
       "version_minor": 0
      },
      "text/plain": [
       "HBox(children=(IntProgress(value=0, description='Recomending:', max=4590), HTML(value='')))"
      ]
     },
     "metadata": {},
     "output_type": "display_data"
    },
    {
     "data": {
      "application/vnd.jupyter.widget-view+json": {
       "model_id": "",
       "version_major": 2,
       "version_minor": 0
      },
      "text/plain": [
       "HBox(children=(IntProgress(value=0, description='Recomending:', max=4590), HTML(value='')))"
      ]
     },
     "metadata": {},
     "output_type": "display_data"
    },
    {
     "data": {
      "application/vnd.jupyter.widget-view+json": {
       "model_id": "",
       "version_major": 2,
       "version_minor": 0
      },
      "text/plain": [
       "HBox(children=(IntProgress(value=0, description='Recomending:', max=4590), HTML(value='')))"
      ]
     },
     "metadata": {},
     "output_type": "display_data"
    },
    {
     "data": {
      "application/vnd.jupyter.widget-view+json": {
       "model_id": "",
       "version_major": 2,
       "version_minor": 0
      },
      "text/plain": [
       "HBox(children=(IntProgress(value=0, description='Recomending:', max=4590), HTML(value='')))"
      ]
     },
     "metadata": {},
     "output_type": "display_data"
    },
    {
     "data": {
      "application/vnd.jupyter.widget-view+json": {
       "model_id": "",
       "version_major": 2,
       "version_minor": 0
      },
      "text/plain": [
       "HBox(children=(IntProgress(value=0, description='Recomending:', max=4590), HTML(value='')))"
      ]
     },
     "metadata": {},
     "output_type": "display_data"
    },
    {
     "data": {
      "application/vnd.jupyter.widget-view+json": {
       "model_id": "",
       "version_major": 2,
       "version_minor": 0
      },
      "text/plain": [
       "HBox(children=(IntProgress(value=0, description='Recomending:', max=4590), HTML(value='')))"
      ]
     },
     "metadata": {},
     "output_type": "display_data"
    },
    {
     "name": "stdout",
     "output_type": "stream",
     "text": [
      "\n"
     ]
    }
   ],
   "source": [
    "# RECOMANADOR PER USUARIS\n",
    "\n",
    "import pickle\n",
    "\n",
    "if __name__ == '__main__':    \n",
    "    counts, indexes, columns = build_counts_table(original_df_user_artists)\n",
    "    print(counts.shape)\n",
    "    \n",
    "    users_id_list = np.array(counter_kaggle_users.index.unique(), dtype=np.int)\n",
    "    \n",
    "    df_user_artists = original_df_user_artists.loc[original_df_user_artists['userID'].isin(users_id_list)]\n",
    "    \n",
    "    print(df_user_artists.shape)\n",
    "        \n",
    "    try:\n",
    "        from tqdm import tqdm_notebook\n",
    "    except:\n",
    "        def tqdm_notebook(a, *_, **__): return a\n",
    "    \n",
    "    # Fetch kaggle public data and merge\n",
    "    kaggle_df_user_artists = pd.read_csv('data/user_artist_plays_public_kaggle.csv')\n",
    "    merged_df_user_artists = pd.concat((df_user_artists, kaggle_df_user_artists), sort=False)\n",
    "    # variant\n",
    "    #merged_df_user_artists = normalize_plays(merged_df_user_artists)\n",
    "    \n",
    "    # Obtain counts\n",
    "    merged_counts, merged_indexes, merged_columns = build_counts_table(merged_df_user_artists)\n",
    "    print(merged_counts.shape)\n",
    "    \n",
    "    # Similarity\n",
    "    try:\n",
    "        with open('merged_similarities_kaggle.pkl', 'rb') as fp:\n",
    "            merged_similarities = pickle.load(fp)\n",
    "    except:\n",
    "        merged_similarities = similarity_matrix(\n",
    "            similarity_function=similarity,\n",
    "            counts=merged_counts\n",
    "        )\n",
    "        \n",
    "        with open('merged_similarities_kaggle.pkl', 'wb') as fp:\n",
    "            pickle.dump(merged_similarities, fp, pickle.HIGHEST_PROTOCOL)\n",
    "    \n",
    "    results = pd.DataFrame(columns=['user_id', 'music_id'])\n",
    "    \n",
    "    for idx, user in enumerate(tqdm_notebook(kaggle_df_user_artists.userID.unique())):\n",
    "        music_ids = recommend_n_items(merged_counts, merged_indexes, merged_columns, merged_similarities, user, 10)\n",
    "        results.loc[idx] = (user, ' '.join(str(x) for x in music_ids))\n",
    "        \n",
    "    results.to_csv('submission_kaggle.csv', index=None)"
   ]
  },
  {
   "cell_type": "code",
   "execution_count": null,
   "metadata": {},
   "outputs": [],
   "source": []
  },
  {
   "cell_type": "code",
   "execution_count": null,
   "metadata": {},
   "outputs": [],
   "source": [
    "# RECOMANADOR PER ITEMS\n",
    "\n",
    "import pickle\n",
    "\n",
    "if __name__ == '__main__':    \n",
    "    counts, indexes, columns = build_counts_table(original_df_user_artists)\n",
    "    print(counts.shape)\n",
    "    \"\"\"\n",
    "    users_id_list = np.array(top_active_users(counts, indexes, columns, 100000))\n",
    "    \n",
    "    df_user_artists = original_df_user_artists[original_df_user_artists.userID == -1 ]\n",
    "    for iden in tqdm_notebook(users_id_list, desc='df_users'):\n",
    "        df_append = original_df_user_artists[original_df_user_artists.userID == iden ]\n",
    "        df_user_artists = pd.concat((df_user_artists, df_append))\n",
    "    \"\"\"\n",
    "    df_user_artists = original_df_user_artists\n",
    "    print(df_user_artists.shape)\n",
    "        \n",
    "    try:\n",
    "        from tqdm import tqdm_notebook\n",
    "    except:\n",
    "        def tqdm_notebook(a, *_, **__): return a\n",
    "    \n",
    "    # Fetch kaggle public data and merge\n",
    "    kaggle_df_user_artists = pd.read_csv('data/user_artist_plays_public_kaggle.csv')\n",
    "    merged_df_user_artists = pd.concat((df_user_artists, kaggle_df_user_artists), sort=False)\n",
    "    \n",
    "    # Obtain counts\n",
    "    merged_counts, merged_indexes, merged_columns = build_counts_table(merged_df_user_artists)\n",
    "    print(merged_counts.shape)\n",
    "    \n",
    "    # Similarity\n",
    "    try:\n",
    "        with open('merged_similarities_kaggle.pkl', 'rb') as fp:\n",
    "            merged_similarities = pickle.load(fp)\n",
    "    except:\n",
    "        merged_similarities = similarity_matrix_items(\n",
    "            similarity_function=similarity,\n",
    "            counts=merged_counts\n",
    "        )\n",
    "        \n",
    "        with open('merged_similarities_kaggle.pkl', 'wb') as fp:\n",
    "            pickle.dump(merged_similarities, fp, pickle.HIGHEST_PROTOCOL)\n",
    "    \n",
    "    results = pd.DataFrame(columns=['user_id', 'music_id'])\n",
    "    \n",
    "    for idx, user in enumerate(tqdm_notebook(kaggle_df_user_artists.userID.unique())):\n",
    "        music_ids = recommend_n_items_by_items(merged_counts, merged_indexes, merged_columns, merged_similarities, user, 10)\n",
    "        results.loc[idx] = (user, ' '.join(str(x) for x in music_ids))\n",
    "        \n",
    "    results.to_csv('submission_kaggle.csv', index=None)"
   ]
  }
 ],
 "metadata": {
  "kernelspec": {
   "display_name": "Python 3",
   "language": "python",
   "name": "python3"
  },
  "language_info": {
   "codemirror_mode": {
    "name": "ipython",
    "version": 3
   },
   "file_extension": ".py",
   "mimetype": "text/x-python",
   "name": "python",
   "nbconvert_exporter": "python",
   "pygments_lexer": "ipython3",
   "version": "3.7.0"
  }
 },
 "nbformat": 4,
 "nbformat_minor": 2
}
