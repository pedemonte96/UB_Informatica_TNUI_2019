{
 "cells": [
  {
   "cell_type": "markdown",
   "metadata": {
    "colab_type": "text",
    "id": "Dcq6v9Rbnmc1"
   },
   "source": [
    "# Xifrat i probabilitats\n",
    "\n",
    "En aquest notebook volem abordar una tasca molt concreta: descodificar codis secrets. \n",
    "\n",
    "Ho farem amb el més simple dels codis, un xifrat de rotació, de vegades anomenat xifratge de majúscules o xifratge Cèsar (perquè es tractava d’última generació de criptografia al 100 aC). \n",
    "\n"
   ]
  },
  {
   "cell_type": "code",
   "execution_count": 1,
   "metadata": {
    "colab": {},
    "colab_type": "code",
    "id": "vZ4HoYbTkeEp"
   },
   "outputs": [],
   "source": [
    "import re\n",
    "import math\n",
    "import string\n",
    "import random\n",
    "from collections import Counter\n",
    "from math import log10\n",
    "from __future__ import division\n",
    "from matplotlib.pyplot import yscale, xscale, title, plot\n",
    "import requests\n",
    "\n",
    "alphabet = 'abcdefghijklmnopqrstuvwxyz'"
   ]
  },
  {
   "cell_type": "markdown",
   "metadata": {
    "colab_type": "text",
    "id": "g-X3xH_CoMVK"
   },
   "source": [
    "Per fer-ho ens basarem en les probabilitat de les paraules que poden apareixer en el text. \n",
    "\n",
    "Començarem llegint un text molt gran per estimar-les."
   ]
  },
  {
   "cell_type": "code",
   "execution_count": 2,
   "metadata": {
    "colab": {},
    "colab_type": "code",
    "id": "9IZRn7AAkmu3"
   },
   "outputs": [
    {
     "name": "stdout",
     "output_type": "stream",
     "text": [
      "Tenim un text amb 6488666 caracters\n"
     ]
    }
   ],
   "source": [
    "r = requests.get('https://raw.githubusercontent.com/norvig/pytudes/master/data/text/big.txt')\n",
    "r.text\n",
    "TEXT = r.text\n",
    "# Llegim tots els caràcters d'un text força gran i els guardem a la variable TEXT\n",
    "print('Tenim un text amb',len(TEXT),'caracters')"
   ]
  },
  {
   "cell_type": "markdown",
   "metadata": {
    "colab_type": "text",
    "id": "NIniOytFooPS"
   },
   "source": [
    "Anem ara a veure quants *tokens* (o paraules úniques) hi ha i quantes vegades surt cada paraula."
   ]
  },
  {
   "cell_type": "code",
   "execution_count": 3,
   "metadata": {
    "colab": {},
    "colab_type": "code",
    "id": "tikLqYNWkoKs"
   },
   "outputs": [
    {
     "name": "stdout",
     "output_type": "stream",
     "text": [
      "Tenim un text amb 1105285 paraules.\n",
      "Tenim un text amb 29157 paraules diferents.\n",
      "Les 10 paraules més freqüents amb la seva freqüència:\n",
      " [('the', 80030), ('of', 40025), ('and', 38313), ('to', 28766), ('in', 22050), ('a', 21155), ('that', 12512), ('he', 12401), ('was', 11410), ('it', 10681)]\n",
      "La paraula \" the \" surt  80030  vegades.\n",
      "La paraula \" rarest \" surt  0  vegades.\n",
      "La paraula \" and \" surt  38313  vegades.\n",
      "La paraula \" more \" surt  1997  vegades.\n",
      "La paraula \" hermitian \" surt  0  vegades.\n",
      "La paraula \" words \" surt  460  vegades.\n"
     ]
    }
   ],
   "source": [
    "def tokens(text):\n",
    "    \"List all the word tokens (consecutive letters) in a text. Normalize to lowercase.\"\n",
    "    return re.findall('[a-z]+', text.lower()) \n",
    "\n",
    "# Words serà el conjunt de paraules, totes passades a minuscules per normalitzar-ho tot al mateix format\n",
    "WORDS = tokens(TEXT)\n",
    "print('Tenim un text amb',len(WORDS),'paraules.')\n",
    "\n",
    "# Counts guardarà el nombre de vegades que hi ha una certa paraula. Per tant, la longitud del comptador\n",
    "# ens dóna precisament el nombre de paraules diferents\n",
    "COUNTS = Counter(WORDS)\n",
    "print('Tenim un text amb',len(COUNTS),'paraules diferents.')\n",
    "\n",
    "# Vegades que surten les 10 paraules més freqüents\n",
    "print('Les 10 paraules més freqüents amb la seva freqüència:\\n', COUNTS.most_common(10))\n",
    "\n",
    "# Vegades que surten les paraules d'un text\n",
    "for w in tokens('the rarest and more hermitian words'):\n",
    "    print('La paraula \\\"', w, '\\\" surt ', COUNTS[w], ' vegades.')"
   ]
  },
  {
   "cell_type": "markdown",
   "metadata": {
    "colab_type": "text",
    "id": "O7irzwRFpvB7"
   },
   "source": [
    "Anem ara a calcular la distribució de probabilitats de les paraules i d'una frase formada per aquestes paraules."
   ]
  },
  {
   "cell_type": "code",
   "execution_count": 4,
   "metadata": {
    "colab": {},
    "colab_type": "code",
    "id": "4JV2xWVdktK2"
   },
   "outputs": [
    {
     "name": "stdout",
     "output_type": "stream",
     "text": [
      "La probabilitat de \" the \" és 0.07240666434449033\n",
      "La probabilitat de \" is \" és 0.008842968103249388\n",
      "La probabilitat de \" most \" és 0.0008215075749693518\n",
      "La probabilitat de \" common \" és 0.0002596615352601365\n",
      "La probabilitat de \" word \" és 0.0002696137195383996\n",
      "La probabilitat de \" in \" és 0.019949605757790978\n",
      "La probabilitat de \" english \" és 0.00019090098933759167\n",
      "La probabilitat de \" hermitian \" és 9.047432067356323e-07\n",
      "La probabilitat de \" is \" és 0.008842968103249388\n",
      "La probabilitat de \" not \" és 0.005994833911615556\n",
      "Probabilitat d'una frase: 4.111418791681202e-10\n"
     ]
    }
   ],
   "source": [
    "# Aquesta funció assigna la probabilitat de cada paraula de ser al corpus com la fracció de vegades que hi apareix.\n",
    "# Si una paraula no hi apareix, se li assigna una probabilitat de 1/(N+1), ja que hi ha paraules que pertanyen al\n",
    "# corpus amb una freqüència de 1. Per tant, tota paraula que no apareixi se li assigna una probabilitat més petita\n",
    "# que qualsevol que si que hi apareix però no és pas zero (ja que hi ha paraules que existeixen i no s'han trobat\n",
    "# al corpus, com per exemple \"hermitian\").\n",
    "\n",
    "def pdist(counter):\n",
    "    \"Make a probability distribution, given evidence from a Counter.\"\n",
    "    N = sum(counter.values())\n",
    "    return lambda x: counter[x]/N if counter[x] > 0 else 1./(N + 1)\n",
    "\n",
    "# Pword assignarà a cada paraula la seva probabilitat\n",
    "Pword = pdist(COUNTS)\n",
    "\n",
    "# Imprimim les probabilitats d'unes quantes paraules\n",
    "for w in tokens('\"The\" is most common word in English, hermitian is not.'):\n",
    "    print('La probabilitat de \\\"', w, '\\\" és', Pword(w))\n",
    "    \n",
    "# Probabilitat d'una frase si tenim en compte que cada paraula és independent de les altres.\n",
    "def Pwords(words):\n",
    "    \"Probability of a sentence, assuming each word is independent of others.\"\n",
    "    return product(Pword(w) for w in words)\n",
    "\n",
    "# Funció producte (ja que no utilitzem llibreria numpy)\n",
    "def product(nums):\n",
    "    \"Multiply the numbers together.  (Like `sum`, but with multiplication.)\"\n",
    "    result = 1\n",
    "    for x in nums:\n",
    "        result *= x\n",
    "    return result\n",
    "\n",
    "print(\"Probabilitat d'una frase:\",Pwords(['large', 'and', 'insignificant']))"
   ]
  },
  {
   "cell_type": "markdown",
   "metadata": {
    "colab_type": "text",
    "id": "VyOM0O-VrmBv"
   },
   "source": [
    "Per últim, anem a definir l'esquema de codificació."
   ]
  },
  {
   "cell_type": "code",
   "execution_count": 5,
   "metadata": {
    "colab": {},
    "colab_type": "code",
    "id": "I5HN2l-okzRR"
   },
   "outputs": [
    {
     "name": "stdout",
     "output_type": "stream",
     "text": [
      "Text:        Who knows the answer this time?\n",
      "Text xifrat: Xip lopxt uif botxfs uijt ujnf?\n"
     ]
    }
   ],
   "source": [
    "# Retorna el mateix text primer en majuscules i seguidament en minúscules: upperlower('hola') -> HOLAhola\n",
    "def upperlower(text): return text.upper() + text.lower()  \n",
    "\n",
    "# Xifra un missatge rotant n vegades l'alfabet. Si n=0, el missatge i el xifrat coincideixen.\n",
    "def rot(msg, n=13): \n",
    "    \"Encode a message with a rotation (Caesar) cipher.\" \n",
    "    return encode(msg, alphabet[n:]+alphabet[:n])\n",
    "\n",
    "def encode(msg, key): \n",
    "    \"Encode a message with a substitution cipher.\" \n",
    "    table = str.maketrans(upperlower(alphabet), upperlower(key))\n",
    "    return msg.translate(table) \n",
    "\n",
    "# Exemple de missatge xifrat\n",
    "msg = 'Who knows the answer this time?'\n",
    "secret = rot(msg, 1)\n",
    "\n",
    "print('Text:       ',msg)\n",
    "print('Text xifrat:',secret)"
   ]
  },
  {
   "cell_type": "markdown",
   "metadata": {
    "colab_type": "text",
    "id": "IwyX5g5JsN9T"
   },
   "source": [
    "## Exercici: \n",
    "\n",
    "Completa el codi de la funció 'decode' seguint les següents idees:\n",
    "\n",
    "+ El xifrat de la frase només pot tenir tantes claus diferents com lletres diferents hi ha.\n",
    "+ Si provem tots els possibles desxifrats possibles, el correcte és el que dona la seqüencia de paraules més probable.\n",
    "\n",
    "Tingues en compte també que potser cal modificar la funció `Pword` de manera que cap paraula tingui probabilitat 0."
   ]
  },
  {
   "cell_type": "code",
   "execution_count": 6,
   "metadata": {
    "colab": {},
    "colab_type": "code",
    "id": "VUB7WQCtl1Xo"
   },
   "outputs": [
    {
     "name": "stdout",
     "output_type": "stream",
     "text": [
      "Ita wzaie ftq mzeiqd ftue fuyq?\n",
      "('Who knows the answer this time?', -16.759684660297722) \n",
      "\n",
      "Riv pfl fb?\n",
      "('Are you ok?', -10.820625362239902) \n",
      "\n",
      "Va. jwm Vab. Mdabunh xo wdvkna oxda, Yarenc Maren, fnan yaxdm cx bjh cqjc cqnh fnan ynaonlcuh wxavju, cqjwt hxd enah vdlq.\n",
      "('Mr. and Mrs. Dursley of number four, Privet Drive, were proud to say that they were perfectly normal, thank you very much.', -73.21649994483423) \n",
      "\n",
      "Abl atgw vehlxw tnmhftmbvteer tkhngw max ytdx Ahkvknq, unm bg libmx hy xoxkrmabgz, bg libmx hy max wtkd tgw mpblmbgz itma ax ltp lmkxmvabgz taxtw yhk abflxey, bg libmx hy max ybgte fxxmbgz pbma Ohewxfhkm ax dgxp fnlm vhfx, paxmaxk bg t fhgma, bg t rxtk, hk bg mxg, ax yxem abl axtkm ebym tm max mahnzam matm maxkx ptl lmbee hgx etlm zhewxg wtr hy ixtvx exym mh xgchr pbma Khg tgw Axkfbhgx.\n",
      "('His hand closed automatically around the fake Horcrux, but in spite of everything, in spite of the dark and twisting path he saw stretching ahead for himself, in spite of the final meeting with Voldemort he knew must come, whether in a month, in a year, or in ten, he felt his heart lift at the thought that there was still one last golden day of peace left to enjoy with Ron and Hermione.', -223.0719093343364) \n",
      "\n"
     ]
    }
   ],
   "source": [
    "# Funció que calcula el logaritme decimal de la probabilitat d'una frase.\n",
    "# Ho implemento amb logaritmes ja que és més fàcil fer sumes o restes que productes o divisions,\n",
    "# i no tindré problemes d'underflow ni perdré informació perquè un número pugui ser massa proper a zero.\n",
    "def log_Pwords(words):\n",
    "    \"Log-probability of a sentence, assuming each word is independent of others.\"\n",
    "    return sum(log10(Pword(w)) for w in words)\n",
    "\n",
    "\n",
    "def decode(secret):\n",
    "    # Començo amb el màxim de la probabilitat que pot tenir una frase inicialitzat a -inf.\n",
    "    max_prob = float('-inf')\n",
    "    decoded_final = secret\n",
    "    for i in range(len(alphabet)):\n",
    "        # Per cada rotació possible (n'hi ha una per lletra de l'alfabet, ja que sempre l'alfabet estarà ordenat)\n",
    "        # provo de desxifrar el missatge rotant-lo a la inversa\n",
    "        decoded = rot(secret, -i)\n",
    "        # Calculo la probabilitat de la frase desxifrada.\n",
    "        log_prob = log_Pwords(tokens(decoded))\n",
    "        # Si la frase desxifrada és la més probable fins al moment, em guardo la probabilitat actual\n",
    "        # i actualitzo quina ha estat la frase més probable fins aleshores.\n",
    "        if log_prob > max_prob:\n",
    "            max_prob = log_prob\n",
    "            decoded_final = decoded\n",
    "        # Finalment, retorno la frase més probable juntament amb la seva probabilitat\n",
    "    return decoded_final, max_prob\n",
    "# Noteu que quan parlo de probabilitat en la funció anterior sempre estic fent referència al logaritme de\n",
    "# la probabilitat.\n",
    "\n",
    "#Proves amb diversos missatges i diverses rotacions:\n",
    "\n",
    "msg = 'Who knows the answer this time?'\n",
    "secret = rot(msg, 12)\n",
    "\n",
    "print(secret)\n",
    "print(decode(secret), '\\n')\n",
    "\n",
    "\n",
    "msg = 'Are you ok?'\n",
    "secret = rot(msg, 17)\n",
    "\n",
    "print(secret)\n",
    "print(decode(secret), '\\n')\n",
    "\n",
    "\n",
    "msg = 'Mr. and Mrs. Dursley of number four, Privet Drive, were proud to say \\\n",
    "that they were perfectly normal, thank you very much.'\n",
    "secret = rot(msg, 9)\n",
    "\n",
    "print(secret)\n",
    "print(decode(secret), '\\n')\n",
    "\n",
    "msg = 'His hand closed automatically around the fake Horcrux, but in spite of everything, \\\n",
    "in spite of the dark and twisting path he saw stretching ahead for himself, in spite of the \\\n",
    "final meeting with Voldemort he knew must come, whether in a month, in a year, or in ten, he \\\n",
    "felt his heart lift at the thought that there was still one last golden day of peace left to \\\n",
    "enjoy with Ron and Hermione.'\n",
    "secret = rot(msg, 19)\n",
    "\n",
    "print(secret)\n",
    "print(decode(secret), '\\n')"
   ]
  },
  {
   "cell_type": "code",
   "execution_count": null,
   "metadata": {
    "colab": {},
    "colab_type": "code",
    "id": "juV0tKA9tDfa"
   },
   "outputs": [],
   "source": []
  }
 ],
 "metadata": {
  "colab": {
   "name": "TNUI.ipynb",
   "provenance": []
  },
  "kernel_info": {
   "name": "python3"
  },
  "kernelspec": {
   "display_name": "Python 3",
   "language": "python",
   "name": "python3"
  },
  "language_info": {
   "codemirror_mode": {
    "name": "ipython",
    "version": 3
   },
   "file_extension": ".py",
   "mimetype": "text/x-python",
   "name": "python",
   "nbconvert_exporter": "python",
   "pygments_lexer": "ipython3",
   "version": "3.7.0"
  },
  "nteract": {
   "version": "0.12.3"
  }
 },
 "nbformat": 4,
 "nbformat_minor": 1
}
