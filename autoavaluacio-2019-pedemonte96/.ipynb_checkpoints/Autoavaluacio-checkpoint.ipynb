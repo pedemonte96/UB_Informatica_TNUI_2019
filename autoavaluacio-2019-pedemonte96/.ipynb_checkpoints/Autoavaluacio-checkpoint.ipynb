{
 "cells": [
  {
   "cell_type": "code",
   "execution_count": 1,
   "metadata": {},
   "outputs": [],
   "source": [
    "import numpy as np\n",
    "import pandas as pd"
   ]
  },
  {
   "cell_type": "markdown",
   "metadata": {},
   "source": [
    "La següent funció retorna el següent càlcul element a element pel vector o matriu d'entrada,\n",
    "\n",
    "$$\\begin{equation} x^2+2x+1 \\end{equation}$$"
   ]
  },
  {
   "cell_type": "code",
   "execution_count": 2,
   "metadata": {},
   "outputs": [],
   "source": [
    "def calcular(x):\n",
    "    \"\"\"\n",
    "    Calcula, per cada element de `x` de forma individual, la funció\n",
    "    x^2+2x+1 = (x+1)^2\n",
    "    \n",
    "    *NO* es poden fer servir bucles ni list-comprehensions\n",
    "    \n",
    "    :param x: np.array amb els elemnts a calcular\n",
    "    :return: np.array amb el càlcul fet\n",
    "    \"\"\"\n",
    "    return (x+1)**2"
   ]
  },
  {
   "cell_type": "code",
   "execution_count": 3,
   "metadata": {},
   "outputs": [
    {
     "name": "stdout",
     "output_type": "stream",
     "text": [
      "[[0.05148144 0.22826956 0.68948047]\n",
      " [0.69974599 0.98974039 0.49242765]\n",
      " [0.22841454 0.62903618 0.78904767]]\n",
      "[[1.10561321 1.50864612 2.85434427]\n",
      " [2.88913644 3.95906682 2.22734029]\n",
      " [1.50900228 2.65375887 3.20069155]]\n"
     ]
    }
   ],
   "source": [
    "if __name__ == '__main__':\n",
    "    test = np.random.random((3,3))\n",
    "    print(test)\n",
    "    print(calcular(test))"
   ]
  },
  {
   "cell_type": "markdown",
   "metadata": {},
   "source": [
    "Una altra forma de normalitzar vectors és fer que la seva mitja sigui 0 i la seva desviació estàndard sigui 1. Donat un vector $x$, el vector normalitzat $\\bar{x}$ es calcula\n",
    "\n",
    "$$\\bar{x} = \\frac{x - \\mu_x}{\\sigma_x}$$\n",
    "\n",
    "On $\\mu_x$ és la mitja i $\\sigma_x$ la desviació estandard"
   ]
  },
  {
   "cell_type": "code",
   "execution_count": 4,
   "metadata": {},
   "outputs": [],
   "source": [
    "def normalitzar(x):\n",
    "    \"\"\"\n",
    "    Normalitza el vector d'entrada `x` segons la definició\n",
    "    anterior.\n",
    "    \n",
    "    *NO* es poden fer servir bucles ni list-comprehensions\n",
    "    \n",
    "    :param x: np.array en forma de vector (unidimensional)\n",
    "    :return: np.array en forma de vector (unidimensional)\n",
    "    \"\"\"\n",
    "    return (x - x.mean())/(x.std())"
   ]
  },
  {
   "cell_type": "code",
   "execution_count": 5,
   "metadata": {},
   "outputs": [
    {
     "name": "stdout",
     "output_type": "stream",
     "text": [
      "[0.65907797 0.05294211 0.10761077 0.91125933 0.14108575]\n",
      "0.37439518648250064 0.3458920941318898\n",
      "[ 0.8230393  -0.92934497 -0.77129377  1.55211454 -0.6745151 ]\n",
      "-1.1102230246251565e-16 1.0\n"
     ]
    }
   ],
   "source": [
    "if __name__ == '__main__':\n",
    "    test = np.random.random(5)\n",
    "    print(test)\n",
    "    print(test.mean(), test.std())\n",
    "    norm = normalitzar(test)\n",
    "    print(norm)\n",
    "    print(norm.mean(), norm.std())"
   ]
  },
  {
   "cell_type": "code",
   "execution_count": 6,
   "metadata": {},
   "outputs": [],
   "source": [
    "def normalitzar_matriu_per_columnes(x):\n",
    "    \"\"\"\n",
    "    Normalitza, segons la definició d'abans, les columnes de la\n",
    "    matriu de forma independent (cada columna es normalitza per la seva\n",
    "    pròpia mitja i desviació estàndard)\n",
    "    \n",
    "    *NO* es poden fer servir bucles ni list-comprehensions\n",
    "    \n",
    "    :param x: np.array en forma matricial (bidimensional)\n",
    "    :return: np.array en forma matricial (bidimensional)\n",
    "    \"\"\"\n",
    "    means = x.mean(axis=0)\n",
    "    desv = x.std(axis=0)\n",
    "    return (x-means)/desv"
   ]
  },
  {
   "cell_type": "code",
   "execution_count": 7,
   "metadata": {},
   "outputs": [
    {
     "name": "stdout",
     "output_type": "stream",
     "text": [
      "[[0.8212716  0.44271746 0.04461542 0.82451504 0.67954024]\n",
      " [0.3516654  0.51250866 0.07807233 0.31227611 0.17767603]\n",
      " [0.10643528 0.51786153 0.93954569 0.83226198 0.35768863]\n",
      " [0.67173916 0.04637793 0.12280824 0.94308307 0.31015269]\n",
      " [0.55047222 0.71463571 0.44205024 0.44321533 0.9670227 ]]\n",
      "[0.50031673 0.44682026 0.32541839 0.67107031 0.49841606] [0.24986119 0.21975342 0.33818237 0.24664555 0.28653782]\n",
      "[[ 1.28453269 -0.01866998 -0.83032998  0.62212648  0.63211264]\n",
      " [-0.59493566  0.29891866 -0.73139842 -1.45469555 -1.11936366]\n",
      " [-1.57640111  0.32327721  1.81596487  0.65353571 -0.49113036]\n",
      " [ 0.68607066 -1.82223477 -0.59911505  1.10284883 -0.65702799]\n",
      " [ 0.20073342  1.21870889  0.34487857 -0.92381547  1.63540937]]\n",
      "[-1.77635684e-16  0.00000000e+00  8.88178420e-17  2.66453526e-16\n",
      " -1.77635684e-16] [1. 1. 1. 1. 1.]\n"
     ]
    }
   ],
   "source": [
    "if __name__ == '__main__':\n",
    "    test = np.random.random((5, 5))\n",
    "    print(test)\n",
    "    print(test.mean(axis=0), test.std(axis=0))\n",
    "    norm = normalitzar_matriu_per_columnes(test)\n",
    "    print(norm)\n",
    "    print(norm.mean(axis=0), norm.std(axis=0))"
   ]
  },
  {
   "cell_type": "code",
   "execution_count": 8,
   "metadata": {},
   "outputs": [],
   "source": [
    "def normalitzar_matriu_per_files(x):\n",
    "    \"\"\"\n",
    "    Normalitza, segons la definició d'abans, les files de la\n",
    "    matriu de forma independent (cada fila es normalitza per la seva\n",
    "    pròpia mitja i desviació estàndard)\n",
    "    \n",
    "    *NO* es poden fer servir bucles ni list-comprehensions\n",
    "    \n",
    "    :param x: np.array en forma matricial (bidimensional)\n",
    "    :return: np.array en forma matricial (bidimensional)\n",
    "    \"\"\"\n",
    "    \"\"\"\n",
    "    means = x.mean(axis=1)\n",
    "    desv = x.std(axis=1)\n",
    "    return ((x.T-means)/desv).T\n",
    "    \"\"\"\n",
    "    return (normalitzar_matriu_per_columnes(x.T)).T"
   ]
  },
  {
   "cell_type": "code",
   "execution_count": 9,
   "metadata": {},
   "outputs": [
    {
     "name": "stdout",
     "output_type": "stream",
     "text": [
      "[[0.08949345 0.66911796 0.20609022 0.46276399 0.9545953 ]\n",
      " [0.59747246 0.72532263 0.69248351 0.69781742 0.36280415]\n",
      " [0.65417521 0.66844274 0.09024719 0.90333971 0.11808059]\n",
      " [0.0127659  0.56643726 0.77279564 0.83807178 0.99265667]\n",
      " [0.99447121 0.54395035 0.77496936 0.97305925 0.33690791]]\n",
      "[0.47641218 0.61518003 0.48685709 0.63654545 0.72467161] [0.31265347 0.13337414 0.32487597 0.34059015 0.25299762]\n",
      "[[-1.2375322   0.61635579 -0.86460569 -0.04365278  1.52943487]\n",
      " [-0.13276617  0.82581676  0.57959868  0.61959078 -1.89224006]\n",
      " [ 0.51502153  0.55893838 -1.22080403  1.28197422 -1.1351301 ]\n",
      " [-1.83146677 -0.20584328  0.40004149  0.59169747  1.0455711 ]\n",
      " [ 1.06641159 -0.71432003  0.1988072   0.98177856 -1.53267732]]\n",
      "[-1.77635684e-16  1.77635684e-16 -1.77635684e-16  4.44089210e-17\n",
      " -2.22044605e-16] [1. 1. 1. 1. 1.]\n"
     ]
    }
   ],
   "source": [
    "if __name__ == '__main__':\n",
    "    test = np.random.random((5, 5))\n",
    "    print(test)\n",
    "    print(test.mean(axis=1), test.std(axis=1))\n",
    "    norm = normalitzar_matriu_per_files(test)\n",
    "    print(norm)\n",
    "    print(norm.mean(axis=1), norm.std(axis=1))"
   ]
  },
  {
   "cell_type": "code",
   "execution_count": 10,
   "metadata": {},
   "outputs": [],
   "source": [
    "def calcular_mitja(x):\n",
    "    \"\"\"\n",
    "    Calcula la mitja del vector d'entrada `x`, però qualsevol element\n",
    "    NaN ha de ser tractat com si fos un 0. NO es pot modificar el\n",
    "    vector original que es passa per paràmetre\n",
    "    \n",
    "    *NO* es poden fer servir bucles ni list-comprehensions\n",
    "    \n",
    "    :param x: np.array en forma vectorial (unidimensional)\n",
    "    :return: float amb la mitja\n",
    "    \"\"\"\n",
    "    y = np.copy(x)\n",
    "    y[np.isnan(y)] = 0\n",
    "    \n",
    "    return y.mean()"
   ]
  },
  {
   "cell_type": "code",
   "execution_count": 11,
   "metadata": {},
   "outputs": [
    {
     "name": "stdout",
     "output_type": "stream",
     "text": [
      "[0.33218765 0.80359364        nan 0.33674227 0.27757183]\n",
      "0.35001907807895105\n",
      "[0.33218765 0.80359364        nan 0.33674227 0.27757183]\n"
     ]
    }
   ],
   "source": [
    "if __name__ == '__main__':\n",
    "    vec = np.random.random(5)\n",
    "    \n",
    "    vec[np.random.randint(0, 5)] = np.nan\n",
    "    print (vec)\n",
    "    print(calcular_mitja(vec))\n",
    "    print (vec)"
   ]
  },
  {
   "cell_type": "code",
   "execution_count": 12,
   "metadata": {},
   "outputs": [],
   "source": [
    "def crear_dataframe_1(usuari1, usuari2):\n",
    "    \"\"\"\n",
    "    Donada la informació de dos usuaris, `usuari1` i `usuari2`, crea un\n",
    "    pd.DataFrame que contingui cada un d'aquests usuaris com a una fila.\n",
    "    La primera fila ha de tenir per índex \"99\" i la segona \"88\", de tipus STR.\n",
    "    Les columnes han de tenir els següents noms:\n",
    "        \"Nom\", \"Cognom\", \"Data Registre\", \"Bitcoin\"\n",
    "        \n",
    "    :param usuari1: Llista (nativa de python) amb les dades del primer usuari\n",
    "    :param usuari2: Llista (nativa de python) amb les dades del segon usuari\n",
    "    :return: DataFrame amb les dades dels usuaris\n",
    "    \"\"\"\n",
    "    df = pd.DataFrame([usuari1, usuari2], columns = ['Nom', 'Cognom', 'Data Registre', 'Bitcoin'], index = ['99', '88'])\n",
    "    return df"
   ]
  },
  {
   "cell_type": "code",
   "execution_count": 13,
   "metadata": {},
   "outputs": [
    {
     "name": "stdout",
     "output_type": "stream",
     "text": [
      "       Nom  Cognom Data Registre  Bitcoin\n",
      "99    Mike  Strong    2012-02-03     99.0\n",
      "88  Thomas    Weak    2018-01-01      0.4\n"
     ]
    }
   ],
   "source": [
    "if __name__ == '__main__':\n",
    "    \n",
    "    print(crear_dataframe_1(\n",
    "        ['Mike', 'Strong', '2012-02-03', 99],\n",
    "        ['Thomas', 'Weak', '2018-01-01', 0.4]\n",
    "    ))\n",
    "    "
   ]
  },
  {
   "cell_type": "code",
   "execution_count": 14,
   "metadata": {},
   "outputs": [],
   "source": [
    "def crear_dataframe_2(x, exponent):\n",
    "    \"\"\"\n",
    "    Donat un vector (np.arrray) i un exponent màxim, crea un \n",
    "    DataFrame de pandas on cada columna és la potència\n",
    "    $x^i$ per cada $i$ entre 0 i `exponent` (inclos). Les columnes han de \n",
    "    tenir per nom \"x<i>\", on <i> és la potència\n",
    "    \n",
    "    Per exemple, donat ([1, 2, 3, 4], 2), crearà\n",
    "    x0 | x1 | x2\n",
    "    ------------\n",
    "    1    1    1 \n",
    "    1    2    4\n",
    "    1    3    9\n",
    "    1    4    16\n",
    "    \n",
    "    Els indexs de les files són 0, 1, ..., n; on n és el nombre d'elements\n",
    "    a x\n",
    "    \n",
    "    **Pots fer servir 1 sol bucle per iterar de 0 a exponent, cap més**\n",
    "    \n",
    "    :param x: np.array unidimensional amb les dades per calcular potències\n",
    "    :param exponent: enter >= 0, màxim exponent a fer servir\n",
    "    :return: Un DataFrame de pandas, tal i com s'especifica\n",
    "    \"\"\"\n",
    "    df = pd.DataFrame({})\n",
    "    for i in range(exponent+1):\n",
    "        df['x' + str(i)] = x**i\n",
    "    return df"
   ]
  },
  {
   "cell_type": "code",
   "execution_count": 15,
   "metadata": {},
   "outputs": [
    {
     "name": "stdout",
     "output_type": "stream",
     "text": [
      "   x0  x1  x2  x3   x4    x5    x6     x7     x8      x9      x10\n",
      "0   1   1   1   1    1     1     1      1      1       1        1\n",
      "1   1   2   4   8   16    32    64    128    256     512     1024\n",
      "2   1   3   9  27   81   243   729   2187   6561   19683    59049\n",
      "3   1   4  16  64  256  1024  4096  16384  65536  262144  1048576\n"
     ]
    }
   ],
   "source": [
    "if __name__ == '__main__':\n",
    "    print(crear_dataframe_2(np.asarray([1, 2, 3, 4]), 10))"
   ]
  },
  {
   "cell_type": "code",
   "execution_count": 16,
   "metadata": {},
   "outputs": [],
   "source": [
    "def consultar_basic(df):\n",
    "    \"\"\"\n",
    "    Donat un DataFrame amb noms i notes, retorna solament\n",
    "    els noms d'aquells usuaris que tinguin un 5 o més\n",
    "    \n",
    "    :param df: DataFrame amb dos columnes \"Nom\", \"Nota\", amb 1 o més\n",
    "        files. \"Nom\" és una string i \"Nota\" un float\n",
    "    :return: Un pd.Series de Pandas o llista/tupla amb els noms \n",
    "        (i solament els noms) dels alumnes amb 5 o més\n",
    "    \"\"\"\n",
    "    return df.loc[df['Nota'] >= 5, 'Nom'].tolist()\n"
   ]
  },
  {
   "cell_type": "code",
   "execution_count": 17,
   "metadata": {},
   "outputs": [
    {
     "name": "stdout",
     "output_type": "stream",
     "text": [
      "['Antonio']\n",
      "<class 'list'>\n"
     ]
    }
   ],
   "source": [
    "if __name__ == '__main__':\n",
    "    output = consultar_basic(pd.DataFrame({\n",
    "        'Nom': ['Antonio', 'Mireia'],\n",
    "        'Nota': [5.1, 0.1]\n",
    "    }))\n",
    "    print(output)\n",
    "    print(type(output))"
   ]
  },
  {
   "cell_type": "code",
   "execution_count": 18,
   "metadata": {},
   "outputs": [],
   "source": [
    "def consultar_dificil(df):\n",
    "    \"\"\"\n",
    "    De totes les files d'un DataFrame, retorna l'índex d'aquella que tingui \n",
    "    el menor nombre de NaNs\n",
    "    \n",
    "    *Es pot fer sense bucles, consulta la documentació de Pandas, la cheetsheet\n",
    "    o stackoverflow*\n",
    "    \n",
    "    :param df: DataFrame sobre el que operar, les files contenen floats o NaN\n",
    "    :return: L'índex (int, ja ve donat) de la fila amb menys NaNs\n",
    "    \"\"\"\n",
    "    return df.isnull().sum(axis = 1).idxmin()"
   ]
  },
  {
   "cell_type": "code",
   "execution_count": 19,
   "metadata": {},
   "outputs": [
    {
     "name": "stdout",
     "output_type": "stream",
     "text": [
      "1\n"
     ]
    }
   ],
   "source": [
    "if __name__ == '__main__':\n",
    "    print(consultar_dificil(pd.DataFrame([\n",
    "        [0, np.nan, 3.0, 2, np.nan],\n",
    "        [np.nan, 1, 2, 3, 4],\n",
    "        [np.nan, 0, 0, np.nan, np.nan],   \n",
    "    ])))"
   ]
  },
  {
   "cell_type": "code",
   "execution_count": null,
   "metadata": {},
   "outputs": [],
   "source": []
  }
 ],
 "metadata": {
  "kernelspec": {
   "display_name": "Python 3",
   "language": "python",
   "name": "python3"
  },
  "language_info": {
   "codemirror_mode": {
    "name": "ipython",
    "version": 3
   },
   "file_extension": ".py",
   "mimetype": "text/x-python",
   "name": "python",
   "nbconvert_exporter": "python",
   "pygments_lexer": "ipython3",
   "version": "3.7.0"
  }
 },
 "nbformat": 4,
 "nbformat_minor": 2
}
